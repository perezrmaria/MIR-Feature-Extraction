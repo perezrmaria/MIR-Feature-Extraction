{
  "nbformat": 4,
  "nbformat_minor": 0,
  "metadata": {
    "colab": {
      "provenance": []
    },
    "kernelspec": {
      "display_name": "Python 3",
      "language": "python",
      "name": "python3"
    },
    "language_info": {
      "codemirror_mode": {
        "name": "ipython",
        "version": 3
      },
      "file_extension": ".py",
      "mimetype": "text/x-python",
      "name": "python",
      "nbconvert_exporter": "python",
      "pygments_lexer": "ipython3",
      "version": "3.6.7"
    }
  },
  "cells": [
    {
      "cell_type": "markdown",
      "metadata": {
        "id": "cvIcZ7dYZ3A4"
      },
      "source": [
        "## Mridangam tonic classification task using Essentia Music Extractor."
      ]
    },
    {
      "cell_type": "markdown",
      "source": [
        "In this notebook I experimented a little with ML and Neural Networks in the classification of sounds by its tonic."
      ],
      "metadata": {
        "id": "mut9ganBbAcf"
      }
    },
    {
      "cell_type": "code",
      "metadata": {
        "id": "sliVDC3GYPcT",
        "colab": {
          "base_uri": "https://localhost:8080/"
        },
        "outputId": "f564792f-12d0-4ec1-fab3-9a48eb2738b0"
      },
      "source": [
        "#If not installed, install Essentia. \n",
        "# This cell is for running the notebook in Colab\n",
        "import importlib.util\n",
        "if importlib.util.find_spec('essentia') is None:\n",
        "    !pip install essentia\n",
        "\n",
        "!pip install mirdata\n",
        "!pip install pandas"
      ],
      "execution_count": 1,
      "outputs": [
        {
          "output_type": "stream",
          "name": "stdout",
          "text": [
            "Looking in indexes: https://pypi.org/simple, https://us-python.pkg.dev/colab-wheels/public/simple/\n",
            "Requirement already satisfied: mirdata in /usr/local/lib/python3.8/dist-packages (0.3.7)\n",
            "Requirement already satisfied: requests in /usr/local/lib/python3.8/dist-packages (from mirdata) (2.25.1)\n",
            "Requirement already satisfied: jams in /usr/local/lib/python3.8/dist-packages (from mirdata) (0.3.4)\n",
            "Requirement already satisfied: tqdm in /usr/local/lib/python3.8/dist-packages (from mirdata) (4.64.1)\n",
            "Requirement already satisfied: chardet in /usr/local/lib/python3.8/dist-packages (from mirdata) (4.0.0)\n",
            "Requirement already satisfied: scipy in /usr/local/lib/python3.8/dist-packages (from mirdata) (1.7.3)\n",
            "Requirement already satisfied: librosa>=0.8.0 in /usr/local/lib/python3.8/dist-packages (from mirdata) (0.8.1)\n",
            "Requirement already satisfied: pretty-midi>=0.2.8 in /usr/local/lib/python3.8/dist-packages (from mirdata) (0.2.9)\n",
            "Requirement already satisfied: pandas>=1.0.0 in /usr/local/lib/python3.8/dist-packages (from mirdata) (1.3.5)\n",
            "Requirement already satisfied: smart-open>=5.0.0 in /usr/local/lib/python3.8/dist-packages (from mirdata) (6.3.0)\n",
            "Requirement already satisfied: h5py>=2.10.0 in /usr/local/lib/python3.8/dist-packages (from mirdata) (3.1.0)\n",
            "Requirement already satisfied: numpy>=1.16 in /usr/local/lib/python3.8/dist-packages (from mirdata) (1.21.6)\n",
            "Requirement already satisfied: pyyaml in /usr/local/lib/python3.8/dist-packages (from mirdata) (6.0)\n",
            "Requirement already satisfied: Deprecated>=1.2.13 in /usr/local/lib/python3.8/dist-packages (from mirdata) (1.2.13)\n",
            "Requirement already satisfied: wrapt<2,>=1.10 in /usr/local/lib/python3.8/dist-packages (from Deprecated>=1.2.13->mirdata) (1.14.1)\n",
            "Requirement already satisfied: decorator>=3.0.0 in /usr/local/lib/python3.8/dist-packages (from librosa>=0.8.0->mirdata) (4.4.2)\n",
            "Requirement already satisfied: soundfile>=0.10.2 in /usr/local/lib/python3.8/dist-packages (from librosa>=0.8.0->mirdata) (0.11.0)\n",
            "Requirement already satisfied: packaging>=20.0 in /usr/local/lib/python3.8/dist-packages (from librosa>=0.8.0->mirdata) (23.0)\n",
            "Requirement already satisfied: joblib>=0.14 in /usr/local/lib/python3.8/dist-packages (from librosa>=0.8.0->mirdata) (1.2.0)\n",
            "Requirement already satisfied: audioread>=2.0.0 in /usr/local/lib/python3.8/dist-packages (from librosa>=0.8.0->mirdata) (3.0.0)\n",
            "Requirement already satisfied: scikit-learn!=0.19.0,>=0.14.0 in /usr/local/lib/python3.8/dist-packages (from librosa>=0.8.0->mirdata) (1.0.2)\n",
            "Requirement already satisfied: pooch>=1.0 in /usr/local/lib/python3.8/dist-packages (from librosa>=0.8.0->mirdata) (1.6.0)\n",
            "Requirement already satisfied: resampy>=0.2.2 in /usr/local/lib/python3.8/dist-packages (from librosa>=0.8.0->mirdata) (0.4.2)\n",
            "Requirement already satisfied: numba>=0.43.0 in /usr/local/lib/python3.8/dist-packages (from librosa>=0.8.0->mirdata) (0.56.4)\n",
            "Requirement already satisfied: python-dateutil>=2.7.3 in /usr/local/lib/python3.8/dist-packages (from pandas>=1.0.0->mirdata) (2.8.2)\n",
            "Requirement already satisfied: pytz>=2017.3 in /usr/local/lib/python3.8/dist-packages (from pandas>=1.0.0->mirdata) (2022.7.1)\n",
            "Requirement already satisfied: six in /usr/local/lib/python3.8/dist-packages (from pretty-midi>=0.2.8->mirdata) (1.15.0)\n",
            "Requirement already satisfied: mido>=1.1.16 in /usr/local/lib/python3.8/dist-packages (from pretty-midi>=0.2.8->mirdata) (1.2.10)\n",
            "Requirement already satisfied: jsonschema>=3.0.0 in /usr/local/lib/python3.8/dist-packages (from jams->mirdata) (4.3.3)\n",
            "Requirement already satisfied: mir-eval>=0.5 in /usr/local/lib/python3.8/dist-packages (from jams->mirdata) (0.7)\n",
            "Requirement already satisfied: sortedcontainers>=2.0.0 in /usr/local/lib/python3.8/dist-packages (from jams->mirdata) (2.4.0)\n",
            "Requirement already satisfied: certifi>=2017.4.17 in /usr/local/lib/python3.8/dist-packages (from requests->mirdata) (2022.12.7)\n",
            "Requirement already satisfied: urllib3<1.27,>=1.21.1 in /usr/local/lib/python3.8/dist-packages (from requests->mirdata) (1.24.3)\n",
            "Requirement already satisfied: idna<3,>=2.5 in /usr/local/lib/python3.8/dist-packages (from requests->mirdata) (2.10)\n",
            "Requirement already satisfied: attrs>=17.4.0 in /usr/local/lib/python3.8/dist-packages (from jsonschema>=3.0.0->jams->mirdata) (22.2.0)\n",
            "Requirement already satisfied: pyrsistent!=0.17.0,!=0.17.1,!=0.17.2,>=0.14.0 in /usr/local/lib/python3.8/dist-packages (from jsonschema>=3.0.0->jams->mirdata) (0.19.3)\n",
            "Requirement already satisfied: importlib-resources>=1.4.0 in /usr/local/lib/python3.8/dist-packages (from jsonschema>=3.0.0->jams->mirdata) (5.10.2)\n",
            "Requirement already satisfied: future in /usr/local/lib/python3.8/dist-packages (from mir-eval>=0.5->jams->mirdata) (0.16.0)\n",
            "Requirement already satisfied: llvmlite<0.40,>=0.39.0dev0 in /usr/local/lib/python3.8/dist-packages (from numba>=0.43.0->librosa>=0.8.0->mirdata) (0.39.1)\n",
            "Requirement already satisfied: setuptools in /usr/local/lib/python3.8/dist-packages (from numba>=0.43.0->librosa>=0.8.0->mirdata) (57.4.0)\n",
            "Requirement already satisfied: importlib-metadata in /usr/local/lib/python3.8/dist-packages (from numba>=0.43.0->librosa>=0.8.0->mirdata) (6.0.0)\n",
            "Requirement already satisfied: appdirs>=1.3.0 in /usr/local/lib/python3.8/dist-packages (from pooch>=1.0->librosa>=0.8.0->mirdata) (1.4.4)\n",
            "Requirement already satisfied: threadpoolctl>=2.0.0 in /usr/local/lib/python3.8/dist-packages (from scikit-learn!=0.19.0,>=0.14.0->librosa>=0.8.0->mirdata) (3.1.0)\n",
            "Requirement already satisfied: cffi>=1.0 in /usr/local/lib/python3.8/dist-packages (from soundfile>=0.10.2->librosa>=0.8.0->mirdata) (1.15.1)\n",
            "Requirement already satisfied: pycparser in /usr/local/lib/python3.8/dist-packages (from cffi>=1.0->soundfile>=0.10.2->librosa>=0.8.0->mirdata) (2.21)\n",
            "Requirement already satisfied: zipp>=3.1.0 in /usr/local/lib/python3.8/dist-packages (from importlib-resources>=1.4.0->jsonschema>=3.0.0->jams->mirdata) (3.12.1)\n",
            "Looking in indexes: https://pypi.org/simple, https://us-python.pkg.dev/colab-wheels/public/simple/\n",
            "Requirement already satisfied: pandas in /usr/local/lib/python3.8/dist-packages (1.3.5)\n",
            "Requirement already satisfied: python-dateutil>=2.7.3 in /usr/local/lib/python3.8/dist-packages (from pandas) (2.8.2)\n",
            "Requirement already satisfied: numpy>=1.17.3 in /usr/local/lib/python3.8/dist-packages (from pandas) (1.21.6)\n",
            "Requirement already satisfied: pytz>=2017.3 in /usr/local/lib/python3.8/dist-packages (from pandas) (2022.7.1)\n",
            "Requirement already satisfied: six>=1.5 in /usr/local/lib/python3.8/dist-packages (from python-dateutil>=2.7.3->pandas) (1.15.0)\n"
          ]
        }
      ]
    },
    {
      "cell_type": "code",
      "metadata": {
        "id": "8RP7NclOZ3BO"
      },
      "source": [
        "#Basic imports\n",
        "import os\n",
        "import matplotlib.pyplot as plt\n",
        "import numpy as np\n",
        "\n",
        "# Imports to support MIR\n",
        "import mirdata\n",
        "import essentia.standard as ess\n",
        "import pandas as pd\n"
      ],
      "execution_count": 2,
      "outputs": []
    },
    {
      "cell_type": "markdown",
      "source": [
        "## Data processing"
      ],
      "metadata": {
        "id": "rItYPqcEGLw_"
      }
    },
    {
      "cell_type": "markdown",
      "source": [
        "We initialize Mridangam stroke a collection of 7162 audio examples of individual strokes of the Mridangam in various tonics. The dataset comprises of 10 different strokes played on Mridangams with 6 different tonic values. \n",
        "\n",
        "In this experiment we predict 6 tonic classes. "
      ],
      "metadata": {
        "id": "xrQgPGt5GSZU"
      }
    },
    {
      "cell_type": "code",
      "source": [
        "mridangam = mirdata.initialize(\"mridangam_stroke\")"
      ],
      "metadata": {
        "id": "U-d7Tw0JGMlA"
      },
      "execution_count": 3,
      "outputs": []
    },
    {
      "cell_type": "code",
      "metadata": {
        "id": "cYmYM1bcFGEW",
        "colab": {
          "base_uri": "https://localhost:8080/"
        },
        "outputId": "82a65c47-d64a-4f76-f50e-c85d72b4534c"
      },
      "source": [
        "from google.colab import drive\n",
        "drive.mount('/content/drive')"
      ],
      "execution_count": 4,
      "outputs": [
        {
          "output_type": "stream",
          "name": "stdout",
          "text": [
            "Drive already mounted at /content/drive; to attempt to forcibly remount, call drive.mount(\"/content/drive\", force_remount=True).\n"
          ]
        }
      ]
    },
    {
      "cell_type": "code",
      "metadata": {
        "id": "i_y1fdZZZ3BZ",
        "colab": {
          "base_uri": "https://localhost:8080/"
        },
        "outputId": "96af9943-a675-4032-9fe8-09365cdadce6"
      },
      "source": [
        "#This cell downloads and validates the mridangam dataset\n",
        "mridangam.download()  # download the dataset"
      ],
      "execution_count": null,
      "outputs": [
        {
          "output_type": "stream",
          "name": "stderr",
          "text": [
            "124MB [03:43, 583kB/s]                           \n"
          ]
        }
      ]
    },
    {
      "cell_type": "code",
      "source": [
        "mridangam.validate()  # validate that all the expected files are there"
      ],
      "metadata": {
        "colab": {
          "base_uri": "https://localhost:8080/"
        },
        "id": "0VTB-3fzOdg5",
        "outputId": "cc26a990-705d-4c7c-b126-d3bc808c660a"
      },
      "execution_count": null,
      "outputs": [
        {
          "output_type": "stream",
          "name": "stderr",
          "text": [
            "100%|██████████| 6976/6976 [00:01<00:00, 6891.59it/s]\n"
          ]
        },
        {
          "output_type": "execute_result",
          "data": {
            "text/plain": [
              "({'tracks': {}}, {'tracks': {}})"
            ]
          },
          "metadata": {},
          "execution_count": 6
        }
      ]
    },
    {
      "cell_type": "code",
      "metadata": {
        "id": "7qc4QShb2M71",
        "colab": {
          "base_uri": "https://localhost:8080/"
        },
        "outputId": "86dcd532-a70d-4dec-f872-208341280cc0"
      },
      "source": [
        "mridangam_ids = mridangam.track_ids  # Load Mridangam IDs\n",
        "mridangam_data = mridangam.load_tracks()  # Load Mridangam data\n",
        "\n",
        "mridangam_data[mridangam_ids[0]]  # Visualize a single track"
      ],
      "execution_count": 5,
      "outputs": [
        {
          "output_type": "execute_result",
          "data": {
            "text/plain": [
              "Track(\n",
              "  audio_path=\"/root/mir_datasets/mridangam_stroke/mridangam_stroke_1.5/B/224030__akshaylaya__bheem-b-001.wav\",\n",
              "  stroke_name=\"bheem\",\n",
              "  tonic=\"B\",\n",
              "  track_id=\"224030\",\n",
              "  audio: The track's audio\n",
              "\n",
              "        Returns,\n",
              ")"
            ]
          },
          "metadata": {},
          "execution_count": 5
        }
      ]
    },
    {
      "cell_type": "code",
      "metadata": {
        "colab": {
          "base_uri": "https://localhost:8080/"
        },
        "id": "qqYgBYSoF6Zw",
        "outputId": "0f094767-1c2e-4f5e-fb8c-571a6cc163de"
      },
      "source": [
        "# Get a list of the different strokes\n",
        "tonic_names = []\n",
        "for i in mridangam_ids:\n",
        "    tonic_names.append(mridangam_data[i].tonic)\n",
        "tonic_names = np.unique(tonic_names)\n",
        "\n",
        "print(tonic_names)"
      ],
      "execution_count": 6,
      "outputs": [
        {
          "output_type": "stream",
          "name": "stdout",
          "text": [
            "['B' 'C' 'C#' 'D' 'D#' 'E']\n"
          ]
        }
      ]
    },
    {
      "cell_type": "code",
      "metadata": {
        "id": "AfXV-LblZ3Bj",
        "colab": {
          "base_uri": "https://localhost:8080/"
        },
        "outputId": "5891a73e-b099-481d-a20a-2664220bbb97"
      },
      "source": [
        "# Create a dictionary using stroke type as keys\n",
        "tonic_dict = {item: [] for item in tonic_names}\n",
        "for i in mridangam_ids:\n",
        "    tonic_dict[mridangam_data[i].tonic].append(mridangam_data[i].audio_path)\n",
        "\n",
        "tonic_dict['B']"
      ],
      "execution_count": 7,
      "outputs": [
        {
          "output_type": "execute_result",
          "data": {
            "text/plain": [
              "['/root/mir_datasets/mridangam_stroke/mridangam_stroke_1.5/B/224030__akshaylaya__bheem-b-001.wav',\n",
              " '/root/mir_datasets/mridangam_stroke/mridangam_stroke_1.5/B/224031__akshaylaya__bheem-b-002.wav',\n",
              " '/root/mir_datasets/mridangam_stroke/mridangam_stroke_1.5/B/224032__akshaylaya__bheem-b-003.wav',\n",
              " '/root/mir_datasets/mridangam_stroke/mridangam_stroke_1.5/B/224033__akshaylaya__bheem-b-004.wav',\n",
              " '/root/mir_datasets/mridangam_stroke/mridangam_stroke_1.5/B/224034__akshaylaya__bheem-b-005.wav',\n",
              " '/root/mir_datasets/mridangam_stroke/mridangam_stroke_1.5/B/224035__akshaylaya__cha-b-001.wav',\n",
              " '/root/mir_datasets/mridangam_stroke/mridangam_stroke_1.5/B/224036__akshaylaya__cha-b-002.wav',\n",
              " '/root/mir_datasets/mridangam_stroke/mridangam_stroke_1.5/B/224037__akshaylaya__cha-b-003.wav',\n",
              " '/root/mir_datasets/mridangam_stroke/mridangam_stroke_1.5/B/224038__akshaylaya__cha-b-004.wav',\n",
              " '/root/mir_datasets/mridangam_stroke/mridangam_stroke_1.5/B/224039__akshaylaya__cha-b-005.wav',\n",
              " '/root/mir_datasets/mridangam_stroke/mridangam_stroke_1.5/B/224040__akshaylaya__cha-b-006.wav',\n",
              " '/root/mir_datasets/mridangam_stroke/mridangam_stroke_1.5/B/224041__akshaylaya__cha-b-007.wav',\n",
              " '/root/mir_datasets/mridangam_stroke/mridangam_stroke_1.5/B/224042__akshaylaya__cha-b-008.wav',\n",
              " '/root/mir_datasets/mridangam_stroke/mridangam_stroke_1.5/B/224043__akshaylaya__cha-b-009.wav',\n",
              " '/root/mir_datasets/mridangam_stroke/mridangam_stroke_1.5/B/224044__akshaylaya__cha-b-010.wav',\n",
              " '/root/mir_datasets/mridangam_stroke/mridangam_stroke_1.5/B/224045__akshaylaya__cha-b-011.wav',\n",
              " '/root/mir_datasets/mridangam_stroke/mridangam_stroke_1.5/B/224046__akshaylaya__cha-b-012.wav',\n",
              " '/root/mir_datasets/mridangam_stroke/mridangam_stroke_1.5/B/224047__akshaylaya__cha-b-013.wav',\n",
              " '/root/mir_datasets/mridangam_stroke/mridangam_stroke_1.5/B/224048__akshaylaya__cha-b-014.wav',\n",
              " '/root/mir_datasets/mridangam_stroke/mridangam_stroke_1.5/B/224049__akshaylaya__cha-b-015.wav',\n",
              " '/root/mir_datasets/mridangam_stroke/mridangam_stroke_1.5/B/224050__akshaylaya__cha-b-016.wav',\n",
              " '/root/mir_datasets/mridangam_stroke/mridangam_stroke_1.5/B/224051__akshaylaya__cha-b-017.wav',\n",
              " '/root/mir_datasets/mridangam_stroke/mridangam_stroke_1.5/B/224052__akshaylaya__cha-b-018.wav',\n",
              " '/root/mir_datasets/mridangam_stroke/mridangam_stroke_1.5/B/224053__akshaylaya__cha-b-019.wav',\n",
              " '/root/mir_datasets/mridangam_stroke/mridangam_stroke_1.5/B/224054__akshaylaya__cha-b-020.wav',\n",
              " '/root/mir_datasets/mridangam_stroke/mridangam_stroke_1.5/B/224055__akshaylaya__cha-b-021.wav',\n",
              " '/root/mir_datasets/mridangam_stroke/mridangam_stroke_1.5/B/224056__akshaylaya__cha-b-022.wav',\n",
              " '/root/mir_datasets/mridangam_stroke/mridangam_stroke_1.5/B/224057__akshaylaya__cha-b-023.wav',\n",
              " '/root/mir_datasets/mridangam_stroke/mridangam_stroke_1.5/B/224058__akshaylaya__cha-b-024.wav',\n",
              " '/root/mir_datasets/mridangam_stroke/mridangam_stroke_1.5/B/224059__akshaylaya__cha-b-025.wav',\n",
              " '/root/mir_datasets/mridangam_stroke/mridangam_stroke_1.5/B/224060__akshaylaya__cha-b-026.wav',\n",
              " '/root/mir_datasets/mridangam_stroke/mridangam_stroke_1.5/B/224061__akshaylaya__cha-b-027.wav',\n",
              " '/root/mir_datasets/mridangam_stroke/mridangam_stroke_1.5/B/224062__akshaylaya__cha-b-028.wav',\n",
              " '/root/mir_datasets/mridangam_stroke/mridangam_stroke_1.5/B/224063__akshaylaya__cha-b-029.wav',\n",
              " '/root/mir_datasets/mridangam_stroke/mridangam_stroke_1.5/B/224064__akshaylaya__cha-b-030.wav',\n",
              " '/root/mir_datasets/mridangam_stroke/mridangam_stroke_1.5/B/224065__akshaylaya__cha-b-031.wav',\n",
              " '/root/mir_datasets/mridangam_stroke/mridangam_stroke_1.5/B/224066__akshaylaya__cha-b-032.wav',\n",
              " '/root/mir_datasets/mridangam_stroke/mridangam_stroke_1.5/B/224067__akshaylaya__cha-b-033.wav',\n",
              " '/root/mir_datasets/mridangam_stroke/mridangam_stroke_1.5/B/224069__akshaylaya__cha-b-035.wav',\n",
              " '/root/mir_datasets/mridangam_stroke/mridangam_stroke_1.5/B/224070__akshaylaya__cha-b-036.wav',\n",
              " '/root/mir_datasets/mridangam_stroke/mridangam_stroke_1.5/B/224071__akshaylaya__cha-b-037.wav',\n",
              " '/root/mir_datasets/mridangam_stroke/mridangam_stroke_1.5/B/224072__akshaylaya__cha-b-038.wav',\n",
              " '/root/mir_datasets/mridangam_stroke/mridangam_stroke_1.5/B/224073__akshaylaya__cha-b-039.wav',\n",
              " '/root/mir_datasets/mridangam_stroke/mridangam_stroke_1.5/B/224074__akshaylaya__cha-b-040.wav',\n",
              " '/root/mir_datasets/mridangam_stroke/mridangam_stroke_1.5/B/224075__akshaylaya__cha-b-041.wav',\n",
              " '/root/mir_datasets/mridangam_stroke/mridangam_stroke_1.5/B/224076__akshaylaya__cha-b-042.wav',\n",
              " '/root/mir_datasets/mridangam_stroke/mridangam_stroke_1.5/B/224077__akshaylaya__cha-b-043.wav',\n",
              " '/root/mir_datasets/mridangam_stroke/mridangam_stroke_1.5/B/224078__akshaylaya__cha-b-044.wav',\n",
              " '/root/mir_datasets/mridangam_stroke/mridangam_stroke_1.5/B/224080__akshaylaya__cha-b-046.wav',\n",
              " '/root/mir_datasets/mridangam_stroke/mridangam_stroke_1.5/B/224081__akshaylaya__cha-b-047.wav',\n",
              " '/root/mir_datasets/mridangam_stroke/mridangam_stroke_1.5/B/224082__akshaylaya__cha-b-048.wav',\n",
              " '/root/mir_datasets/mridangam_stroke/mridangam_stroke_1.5/B/224083__akshaylaya__cha-b-049.wav',\n",
              " '/root/mir_datasets/mridangam_stroke/mridangam_stroke_1.5/B/224084__akshaylaya__cha-b-050.wav',\n",
              " '/root/mir_datasets/mridangam_stroke/mridangam_stroke_1.5/B/224085__akshaylaya__cha-b-051.wav',\n",
              " '/root/mir_datasets/mridangam_stroke/mridangam_stroke_1.5/B/224086__akshaylaya__cha-b-052.wav',\n",
              " '/root/mir_datasets/mridangam_stroke/mridangam_stroke_1.5/B/224087__akshaylaya__cha-b-053.wav',\n",
              " '/root/mir_datasets/mridangam_stroke/mridangam_stroke_1.5/B/224088__akshaylaya__cha-b-054.wav',\n",
              " '/root/mir_datasets/mridangam_stroke/mridangam_stroke_1.5/B/224089__akshaylaya__cha-b-055.wav',\n",
              " '/root/mir_datasets/mridangam_stroke/mridangam_stroke_1.5/B/224090__akshaylaya__cha-b-056.wav',\n",
              " '/root/mir_datasets/mridangam_stroke/mridangam_stroke_1.5/B/224091__akshaylaya__cha-b-057.wav',\n",
              " '/root/mir_datasets/mridangam_stroke/mridangam_stroke_1.5/B/224092__akshaylaya__dheem-b-001.wav',\n",
              " '/root/mir_datasets/mridangam_stroke/mridangam_stroke_1.5/B/224094__akshaylaya__dheem-b-003.wav',\n",
              " '/root/mir_datasets/mridangam_stroke/mridangam_stroke_1.5/B/224095__akshaylaya__dheem-b-004.wav',\n",
              " '/root/mir_datasets/mridangam_stroke/mridangam_stroke_1.5/B/224096__akshaylaya__dheem-b-005.wav',\n",
              " '/root/mir_datasets/mridangam_stroke/mridangam_stroke_1.5/B/224097__akshaylaya__dheem-b-006.wav',\n",
              " '/root/mir_datasets/mridangam_stroke/mridangam_stroke_1.5/B/224098__akshaylaya__dheem-b-007.wav',\n",
              " '/root/mir_datasets/mridangam_stroke/mridangam_stroke_1.5/B/224099__akshaylaya__dheem-b-008.wav',\n",
              " '/root/mir_datasets/mridangam_stroke/mridangam_stroke_1.5/B/224100__akshaylaya__dheem-b-009.wav',\n",
              " '/root/mir_datasets/mridangam_stroke/mridangam_stroke_1.5/B/224101__akshaylaya__dheem-b-010.wav',\n",
              " '/root/mir_datasets/mridangam_stroke/mridangam_stroke_1.5/B/224102__akshaylaya__dheem-b-011.wav',\n",
              " '/root/mir_datasets/mridangam_stroke/mridangam_stroke_1.5/B/224103__akshaylaya__dheem-b-012.wav',\n",
              " '/root/mir_datasets/mridangam_stroke/mridangam_stroke_1.5/B/224105__akshaylaya__dheem-b-014.wav',\n",
              " '/root/mir_datasets/mridangam_stroke/mridangam_stroke_1.5/B/224106__akshaylaya__dheem-b-015.wav',\n",
              " '/root/mir_datasets/mridangam_stroke/mridangam_stroke_1.5/B/224107__akshaylaya__dheem-b-016.wav',\n",
              " '/root/mir_datasets/mridangam_stroke/mridangam_stroke_1.5/B/224108__akshaylaya__dheem-b-017.wav',\n",
              " '/root/mir_datasets/mridangam_stroke/mridangam_stroke_1.5/B/224109__akshaylaya__dheem-b-018.wav',\n",
              " '/root/mir_datasets/mridangam_stroke/mridangam_stroke_1.5/B/224110__akshaylaya__dheem-b-019.wav',\n",
              " '/root/mir_datasets/mridangam_stroke/mridangam_stroke_1.5/B/224111__akshaylaya__dheem-b-020.wav',\n",
              " '/root/mir_datasets/mridangam_stroke/mridangam_stroke_1.5/B/224112__akshaylaya__dheem-b-021.wav',\n",
              " '/root/mir_datasets/mridangam_stroke/mridangam_stroke_1.5/B/224113__akshaylaya__dheem-b-022.wav',\n",
              " '/root/mir_datasets/mridangam_stroke/mridangam_stroke_1.5/B/224114__akshaylaya__dheem-b-023.wav',\n",
              " '/root/mir_datasets/mridangam_stroke/mridangam_stroke_1.5/B/224115__akshaylaya__dheem-b-024.wav',\n",
              " '/root/mir_datasets/mridangam_stroke/mridangam_stroke_1.5/B/224116__akshaylaya__dheem-b-025.wav',\n",
              " '/root/mir_datasets/mridangam_stroke/mridangam_stroke_1.5/B/224117__akshaylaya__dheem-b-026.wav',\n",
              " '/root/mir_datasets/mridangam_stroke/mridangam_stroke_1.5/B/224118__akshaylaya__dheem-b-027.wav',\n",
              " '/root/mir_datasets/mridangam_stroke/mridangam_stroke_1.5/B/224119__akshaylaya__dheem-b-028.wav',\n",
              " '/root/mir_datasets/mridangam_stroke/mridangam_stroke_1.5/B/224120__akshaylaya__dheem-b-029.wav',\n",
              " '/root/mir_datasets/mridangam_stroke/mridangam_stroke_1.5/B/224121__akshaylaya__dheem-b-030.wav',\n",
              " '/root/mir_datasets/mridangam_stroke/mridangam_stroke_1.5/B/224122__akshaylaya__dheem-b-031.wav',\n",
              " '/root/mir_datasets/mridangam_stroke/mridangam_stroke_1.5/B/224123__akshaylaya__dheem-b-032.wav',\n",
              " '/root/mir_datasets/mridangam_stroke/mridangam_stroke_1.5/B/224124__akshaylaya__dheem-b-033.wav',\n",
              " '/root/mir_datasets/mridangam_stroke/mridangam_stroke_1.5/B/224125__akshaylaya__dheem-b-034.wav',\n",
              " '/root/mir_datasets/mridangam_stroke/mridangam_stroke_1.5/B/224126__akshaylaya__dheem-b-035.wav',\n",
              " '/root/mir_datasets/mridangam_stroke/mridangam_stroke_1.5/B/224127__akshaylaya__dheem-b-036.wav',\n",
              " '/root/mir_datasets/mridangam_stroke/mridangam_stroke_1.5/B/224128__akshaylaya__dheem-b-037.wav',\n",
              " '/root/mir_datasets/mridangam_stroke/mridangam_stroke_1.5/B/224129__akshaylaya__dheem-b-038.wav',\n",
              " '/root/mir_datasets/mridangam_stroke/mridangam_stroke_1.5/B/224130__akshaylaya__dheem-b-039.wav',\n",
              " '/root/mir_datasets/mridangam_stroke/mridangam_stroke_1.5/B/224131__akshaylaya__dheem-b-040.wav',\n",
              " '/root/mir_datasets/mridangam_stroke/mridangam_stroke_1.5/B/224132__akshaylaya__dheem-b-041.wav',\n",
              " '/root/mir_datasets/mridangam_stroke/mridangam_stroke_1.5/B/224133__akshaylaya__dheem-b-042.wav',\n",
              " '/root/mir_datasets/mridangam_stroke/mridangam_stroke_1.5/B/224134__akshaylaya__dheem-b-043.wav',\n",
              " '/root/mir_datasets/mridangam_stroke/mridangam_stroke_1.5/B/224135__akshaylaya__dheem-b-044.wav',\n",
              " '/root/mir_datasets/mridangam_stroke/mridangam_stroke_1.5/B/224136__akshaylaya__dheem-b-045.wav',\n",
              " '/root/mir_datasets/mridangam_stroke/mridangam_stroke_1.5/B/224137__akshaylaya__dheem-b-046.wav',\n",
              " '/root/mir_datasets/mridangam_stroke/mridangam_stroke_1.5/B/224138__akshaylaya__dheem-b-047.wav',\n",
              " '/root/mir_datasets/mridangam_stroke/mridangam_stroke_1.5/B/224139__akshaylaya__dheem-b-048.wav',\n",
              " '/root/mir_datasets/mridangam_stroke/mridangam_stroke_1.5/B/224140__akshaylaya__dheem-b-049.wav',\n",
              " '/root/mir_datasets/mridangam_stroke/mridangam_stroke_1.5/B/224141__akshaylaya__dheem-b-050.wav',\n",
              " '/root/mir_datasets/mridangam_stroke/mridangam_stroke_1.5/B/224142__akshaylaya__dheem-b-051.wav',\n",
              " '/root/mir_datasets/mridangam_stroke/mridangam_stroke_1.5/B/224143__akshaylaya__dheem-b-052.wav',\n",
              " '/root/mir_datasets/mridangam_stroke/mridangam_stroke_1.5/B/224144__akshaylaya__dheem-b-053.wav',\n",
              " '/root/mir_datasets/mridangam_stroke/mridangam_stroke_1.5/B/224145__akshaylaya__dheem-b-054.wav',\n",
              " '/root/mir_datasets/mridangam_stroke/mridangam_stroke_1.5/B/224146__akshaylaya__dheem-b-055.wav',\n",
              " '/root/mir_datasets/mridangam_stroke/mridangam_stroke_1.5/B/224147__akshaylaya__dheem-b-056.wav',\n",
              " '/root/mir_datasets/mridangam_stroke/mridangam_stroke_1.5/B/224148__akshaylaya__dheem-b-057.wav',\n",
              " '/root/mir_datasets/mridangam_stroke/mridangam_stroke_1.5/B/224149__akshaylaya__dheem-b-058.wav',\n",
              " '/root/mir_datasets/mridangam_stroke/mridangam_stroke_1.5/B/224150__akshaylaya__dheem-b-059.wav',\n",
              " '/root/mir_datasets/mridangam_stroke/mridangam_stroke_1.5/B/224151__akshaylaya__dheem-b-060.wav',\n",
              " '/root/mir_datasets/mridangam_stroke/mridangam_stroke_1.5/B/224152__akshaylaya__dheem-b-061.wav',\n",
              " '/root/mir_datasets/mridangam_stroke/mridangam_stroke_1.5/B/224153__akshaylaya__dheem-b-062.wav',\n",
              " '/root/mir_datasets/mridangam_stroke/mridangam_stroke_1.5/B/224154__akshaylaya__dheem-b-063.wav',\n",
              " '/root/mir_datasets/mridangam_stroke/mridangam_stroke_1.5/B/224155__akshaylaya__dheem-b-064.wav',\n",
              " '/root/mir_datasets/mridangam_stroke/mridangam_stroke_1.5/B/224156__akshaylaya__dheem-b-065.wav',\n",
              " '/root/mir_datasets/mridangam_stroke/mridangam_stroke_1.5/B/224157__akshaylaya__dheem-b-066.wav',\n",
              " '/root/mir_datasets/mridangam_stroke/mridangam_stroke_1.5/B/224159__akshaylaya__dheem-b-068.wav',\n",
              " '/root/mir_datasets/mridangam_stroke/mridangam_stroke_1.5/B/224160__akshaylaya__dheem-b-069.wav',\n",
              " '/root/mir_datasets/mridangam_stroke/mridangam_stroke_1.5/B/224161__akshaylaya__dheem-b-070.wav',\n",
              " '/root/mir_datasets/mridangam_stroke/mridangam_stroke_1.5/B/224162__akshaylaya__dheem-b-071.wav',\n",
              " '/root/mir_datasets/mridangam_stroke/mridangam_stroke_1.5/B/224163__akshaylaya__dheem-b-072.wav',\n",
              " '/root/mir_datasets/mridangam_stroke/mridangam_stroke_1.5/B/224164__akshaylaya__dheem-b-073.wav',\n",
              " '/root/mir_datasets/mridangam_stroke/mridangam_stroke_1.5/B/224165__akshaylaya__dheem-b-074.wav',\n",
              " '/root/mir_datasets/mridangam_stroke/mridangam_stroke_1.5/B/224166__akshaylaya__dheem-b-075.wav',\n",
              " '/root/mir_datasets/mridangam_stroke/mridangam_stroke_1.5/B/224167__akshaylaya__dheem-b-076.wav',\n",
              " '/root/mir_datasets/mridangam_stroke/mridangam_stroke_1.5/B/224168__akshaylaya__dheem-b-077.wav',\n",
              " '/root/mir_datasets/mridangam_stroke/mridangam_stroke_1.5/B/224169__akshaylaya__dheem-b-078.wav',\n",
              " '/root/mir_datasets/mridangam_stroke/mridangam_stroke_1.5/B/224170__akshaylaya__dheem-b-079.wav',\n",
              " '/root/mir_datasets/mridangam_stroke/mridangam_stroke_1.5/B/224171__akshaylaya__dheem-b-080.wav',\n",
              " '/root/mir_datasets/mridangam_stroke/mridangam_stroke_1.5/B/224172__akshaylaya__dheem-b-081.wav',\n",
              " '/root/mir_datasets/mridangam_stroke/mridangam_stroke_1.5/B/224173__akshaylaya__dheem-b-082.wav',\n",
              " '/root/mir_datasets/mridangam_stroke/mridangam_stroke_1.5/B/224174__akshaylaya__dheem-b-083.wav',\n",
              " '/root/mir_datasets/mridangam_stroke/mridangam_stroke_1.5/B/224175__akshaylaya__dheem-b-084.wav',\n",
              " '/root/mir_datasets/mridangam_stroke/mridangam_stroke_1.5/B/224176__akshaylaya__dheem-b-085.wav',\n",
              " '/root/mir_datasets/mridangam_stroke/mridangam_stroke_1.5/B/224186__akshaylaya__dheem-b-095.wav',\n",
              " '/root/mir_datasets/mridangam_stroke/mridangam_stroke_1.5/B/224187__akshaylaya__dheem-b-096.wav',\n",
              " '/root/mir_datasets/mridangam_stroke/mridangam_stroke_1.5/B/224188__akshaylaya__dheem-b-097.wav',\n",
              " '/root/mir_datasets/mridangam_stroke/mridangam_stroke_1.5/B/224189__akshaylaya__dheem-b-098.wav',\n",
              " '/root/mir_datasets/mridangam_stroke/mridangam_stroke_1.5/B/224190__akshaylaya__dheem-b-099.wav',\n",
              " '/root/mir_datasets/mridangam_stroke/mridangam_stroke_1.5/B/224191__akshaylaya__dheem-b-100.wav',\n",
              " '/root/mir_datasets/mridangam_stroke/mridangam_stroke_1.5/B/224192__akshaylaya__dheem-b-101.wav',\n",
              " '/root/mir_datasets/mridangam_stroke/mridangam_stroke_1.5/B/224193__akshaylaya__dheem-b-102.wav',\n",
              " '/root/mir_datasets/mridangam_stroke/mridangam_stroke_1.5/B/224194__akshaylaya__dheem-b-103.wav',\n",
              " '/root/mir_datasets/mridangam_stroke/mridangam_stroke_1.5/B/224195__akshaylaya__dheem-b-104.wav',\n",
              " '/root/mir_datasets/mridangam_stroke/mridangam_stroke_1.5/B/224196__akshaylaya__dheem-b-105.wav',\n",
              " '/root/mir_datasets/mridangam_stroke/mridangam_stroke_1.5/B/224198__akshaylaya__dheem-b-107.wav',\n",
              " '/root/mir_datasets/mridangam_stroke/mridangam_stroke_1.5/B/224199__akshaylaya__dheem-b-108.wav',\n",
              " '/root/mir_datasets/mridangam_stroke/mridangam_stroke_1.5/B/224200__akshaylaya__dheem-b-109.wav',\n",
              " '/root/mir_datasets/mridangam_stroke/mridangam_stroke_1.5/B/224201__akshaylaya__dheem-b-110.wav',\n",
              " '/root/mir_datasets/mridangam_stroke/mridangam_stroke_1.5/B/224202__akshaylaya__dheem-b-111.wav',\n",
              " '/root/mir_datasets/mridangam_stroke/mridangam_stroke_1.5/B/224203__akshaylaya__dheem-b-112.wav',\n",
              " '/root/mir_datasets/mridangam_stroke/mridangam_stroke_1.5/B/224204__akshaylaya__dheem-b-113.wav',\n",
              " '/root/mir_datasets/mridangam_stroke/mridangam_stroke_1.5/B/224205__akshaylaya__dheem-b-114.wav',\n",
              " '/root/mir_datasets/mridangam_stroke/mridangam_stroke_1.5/B/224206__akshaylaya__dheem-b-115.wav',\n",
              " '/root/mir_datasets/mridangam_stroke/mridangam_stroke_1.5/B/224207__akshaylaya__dheem-b-116.wav',\n",
              " '/root/mir_datasets/mridangam_stroke/mridangam_stroke_1.5/B/224208__akshaylaya__dheem-b-117.wav',\n",
              " '/root/mir_datasets/mridangam_stroke/mridangam_stroke_1.5/B/224209__akshaylaya__dheem-b-118.wav',\n",
              " '/root/mir_datasets/mridangam_stroke/mridangam_stroke_1.5/B/224210__akshaylaya__dheem-b-119.wav',\n",
              " '/root/mir_datasets/mridangam_stroke/mridangam_stroke_1.5/B/224211__akshaylaya__dheem-b-120.wav',\n",
              " '/root/mir_datasets/mridangam_stroke/mridangam_stroke_1.5/B/224212__akshaylaya__dheem-b-121.wav',\n",
              " '/root/mir_datasets/mridangam_stroke/mridangam_stroke_1.5/B/224213__akshaylaya__dheem-b-122.wav',\n",
              " '/root/mir_datasets/mridangam_stroke/mridangam_stroke_1.5/B/224214__akshaylaya__dheem-b-123.wav',\n",
              " '/root/mir_datasets/mridangam_stroke/mridangam_stroke_1.5/B/224215__akshaylaya__dheem-b-124.wav',\n",
              " '/root/mir_datasets/mridangam_stroke/mridangam_stroke_1.5/B/224216__akshaylaya__dheem-b-125.wav',\n",
              " '/root/mir_datasets/mridangam_stroke/mridangam_stroke_1.5/B/224217__akshaylaya__dheem-b-126.wav',\n",
              " '/root/mir_datasets/mridangam_stroke/mridangam_stroke_1.5/B/224218__akshaylaya__dheem-b-127.wav',\n",
              " '/root/mir_datasets/mridangam_stroke/mridangam_stroke_1.5/B/224219__akshaylaya__dhin-b-001.wav',\n",
              " '/root/mir_datasets/mridangam_stroke/mridangam_stroke_1.5/B/224220__akshaylaya__dhin-b-002.wav',\n",
              " '/root/mir_datasets/mridangam_stroke/mridangam_stroke_1.5/B/224221__akshaylaya__dhin-b-003.wav',\n",
              " '/root/mir_datasets/mridangam_stroke/mridangam_stroke_1.5/B/224222__akshaylaya__dhin-b-004.wav',\n",
              " '/root/mir_datasets/mridangam_stroke/mridangam_stroke_1.5/B/224223__akshaylaya__dhin-b-005.wav',\n",
              " '/root/mir_datasets/mridangam_stroke/mridangam_stroke_1.5/B/224224__akshaylaya__dhin-b-006.wav',\n",
              " '/root/mir_datasets/mridangam_stroke/mridangam_stroke_1.5/B/224225__akshaylaya__dhin-b-007.wav',\n",
              " '/root/mir_datasets/mridangam_stroke/mridangam_stroke_1.5/B/224226__akshaylaya__dhin-b-008.wav',\n",
              " '/root/mir_datasets/mridangam_stroke/mridangam_stroke_1.5/B/224227__akshaylaya__dhin-b-009.wav',\n",
              " '/root/mir_datasets/mridangam_stroke/mridangam_stroke_1.5/B/224228__akshaylaya__dhin-b-010.wav',\n",
              " '/root/mir_datasets/mridangam_stroke/mridangam_stroke_1.5/B/224229__akshaylaya__dhin-b-011.wav',\n",
              " '/root/mir_datasets/mridangam_stroke/mridangam_stroke_1.5/B/224230__akshaylaya__dhin-b-012.wav',\n",
              " '/root/mir_datasets/mridangam_stroke/mridangam_stroke_1.5/B/224231__akshaylaya__dhin-b-013.wav',\n",
              " '/root/mir_datasets/mridangam_stroke/mridangam_stroke_1.5/B/224232__akshaylaya__dhin-b-014.wav',\n",
              " '/root/mir_datasets/mridangam_stroke/mridangam_stroke_1.5/B/224233__akshaylaya__dhin-b-015.wav',\n",
              " '/root/mir_datasets/mridangam_stroke/mridangam_stroke_1.5/B/224234__akshaylaya__dhin-b-016.wav',\n",
              " '/root/mir_datasets/mridangam_stroke/mridangam_stroke_1.5/B/224235__akshaylaya__dhin-b-017.wav',\n",
              " '/root/mir_datasets/mridangam_stroke/mridangam_stroke_1.5/B/224236__akshaylaya__dhin-b-018.wav',\n",
              " '/root/mir_datasets/mridangam_stroke/mridangam_stroke_1.5/B/224237__akshaylaya__dhin-b-019.wav',\n",
              " '/root/mir_datasets/mridangam_stroke/mridangam_stroke_1.5/B/224238__akshaylaya__dhin-b-020.wav',\n",
              " '/root/mir_datasets/mridangam_stroke/mridangam_stroke_1.5/B/224239__akshaylaya__dhin-b-021.wav',\n",
              " '/root/mir_datasets/mridangam_stroke/mridangam_stroke_1.5/B/224240__akshaylaya__dhin-b-022.wav',\n",
              " '/root/mir_datasets/mridangam_stroke/mridangam_stroke_1.5/B/224241__akshaylaya__dhin-b-023.wav',\n",
              " '/root/mir_datasets/mridangam_stroke/mridangam_stroke_1.5/B/224242__akshaylaya__dhin-b-024.wav',\n",
              " '/root/mir_datasets/mridangam_stroke/mridangam_stroke_1.5/B/224243__akshaylaya__dhin-b-025.wav',\n",
              " '/root/mir_datasets/mridangam_stroke/mridangam_stroke_1.5/B/224244__akshaylaya__dhin-b-026.wav',\n",
              " '/root/mir_datasets/mridangam_stroke/mridangam_stroke_1.5/B/224245__akshaylaya__dhin-b-027.wav',\n",
              " '/root/mir_datasets/mridangam_stroke/mridangam_stroke_1.5/B/224246__akshaylaya__dhin-b-028.wav',\n",
              " '/root/mir_datasets/mridangam_stroke/mridangam_stroke_1.5/B/224251__akshaylaya__dhin-b-033.wav',\n",
              " '/root/mir_datasets/mridangam_stroke/mridangam_stroke_1.5/B/224252__akshaylaya__dhin-b-034.wav',\n",
              " '/root/mir_datasets/mridangam_stroke/mridangam_stroke_1.5/B/224253__akshaylaya__dhin-b-035.wav',\n",
              " '/root/mir_datasets/mridangam_stroke/mridangam_stroke_1.5/B/224254__akshaylaya__dhin-b-036.wav',\n",
              " '/root/mir_datasets/mridangam_stroke/mridangam_stroke_1.5/B/224255__akshaylaya__dhin-b-037.wav',\n",
              " '/root/mir_datasets/mridangam_stroke/mridangam_stroke_1.5/B/224256__akshaylaya__dhin-b-038.wav',\n",
              " '/root/mir_datasets/mridangam_stroke/mridangam_stroke_1.5/B/224257__akshaylaya__dhin-b-039.wav',\n",
              " '/root/mir_datasets/mridangam_stroke/mridangam_stroke_1.5/B/224258__akshaylaya__dhin-b-040.wav',\n",
              " '/root/mir_datasets/mridangam_stroke/mridangam_stroke_1.5/B/224259__akshaylaya__dhin-b-041.wav',\n",
              " '/root/mir_datasets/mridangam_stroke/mridangam_stroke_1.5/B/224260__akshaylaya__dhin-b-042.wav',\n",
              " '/root/mir_datasets/mridangam_stroke/mridangam_stroke_1.5/B/224261__akshaylaya__dhin-b-043.wav',\n",
              " '/root/mir_datasets/mridangam_stroke/mridangam_stroke_1.5/B/224262__akshaylaya__dhin-b-044.wav',\n",
              " '/root/mir_datasets/mridangam_stroke/mridangam_stroke_1.5/B/224263__akshaylaya__dhin-b-045.wav',\n",
              " '/root/mir_datasets/mridangam_stroke/mridangam_stroke_1.5/B/224264__akshaylaya__dhin-b-046.wav',\n",
              " '/root/mir_datasets/mridangam_stroke/mridangam_stroke_1.5/B/224265__akshaylaya__dhin-b-047.wav',\n",
              " '/root/mir_datasets/mridangam_stroke/mridangam_stroke_1.5/B/224266__akshaylaya__dhin-b-048.wav',\n",
              " '/root/mir_datasets/mridangam_stroke/mridangam_stroke_1.5/B/224267__akshaylaya__num-b-001.wav',\n",
              " '/root/mir_datasets/mridangam_stroke/mridangam_stroke_1.5/B/224268__akshaylaya__num-b-002.wav',\n",
              " '/root/mir_datasets/mridangam_stroke/mridangam_stroke_1.5/B/224269__akshaylaya__num-b-003.wav',\n",
              " '/root/mir_datasets/mridangam_stroke/mridangam_stroke_1.5/B/224270__akshaylaya__num-b-004.wav',\n",
              " '/root/mir_datasets/mridangam_stroke/mridangam_stroke_1.5/B/224271__akshaylaya__num-b-005.wav',\n",
              " '/root/mir_datasets/mridangam_stroke/mridangam_stroke_1.5/B/224272__akshaylaya__num-b-006.wav',\n",
              " '/root/mir_datasets/mridangam_stroke/mridangam_stroke_1.5/B/224273__akshaylaya__num-b-007.wav',\n",
              " '/root/mir_datasets/mridangam_stroke/mridangam_stroke_1.5/B/224274__akshaylaya__num-b-008.wav',\n",
              " '/root/mir_datasets/mridangam_stroke/mridangam_stroke_1.5/B/224275__akshaylaya__num-b-009.wav',\n",
              " '/root/mir_datasets/mridangam_stroke/mridangam_stroke_1.5/B/224276__akshaylaya__num-b-010.wav',\n",
              " '/root/mir_datasets/mridangam_stroke/mridangam_stroke_1.5/B/224277__akshaylaya__num-b-011.wav',\n",
              " '/root/mir_datasets/mridangam_stroke/mridangam_stroke_1.5/B/224278__akshaylaya__num-b-012.wav',\n",
              " '/root/mir_datasets/mridangam_stroke/mridangam_stroke_1.5/B/224279__akshaylaya__num-b-013.wav',\n",
              " '/root/mir_datasets/mridangam_stroke/mridangam_stroke_1.5/B/224280__akshaylaya__num-b-014.wav',\n",
              " '/root/mir_datasets/mridangam_stroke/mridangam_stroke_1.5/B/224281__akshaylaya__num-b-015.wav',\n",
              " '/root/mir_datasets/mridangam_stroke/mridangam_stroke_1.5/B/224282__akshaylaya__num-b-016.wav',\n",
              " '/root/mir_datasets/mridangam_stroke/mridangam_stroke_1.5/B/224283__akshaylaya__num-b-017.wav',\n",
              " '/root/mir_datasets/mridangam_stroke/mridangam_stroke_1.5/B/224284__akshaylaya__num-b-018.wav',\n",
              " '/root/mir_datasets/mridangam_stroke/mridangam_stroke_1.5/B/224285__akshaylaya__num-b-019.wav',\n",
              " '/root/mir_datasets/mridangam_stroke/mridangam_stroke_1.5/B/224286__akshaylaya__num-b-020.wav',\n",
              " '/root/mir_datasets/mridangam_stroke/mridangam_stroke_1.5/B/224287__akshaylaya__num-b-021.wav',\n",
              " '/root/mir_datasets/mridangam_stroke/mridangam_stroke_1.5/B/224288__akshaylaya__num-b-022.wav',\n",
              " '/root/mir_datasets/mridangam_stroke/mridangam_stroke_1.5/B/224289__akshaylaya__num-b-023.wav',\n",
              " '/root/mir_datasets/mridangam_stroke/mridangam_stroke_1.5/B/224290__akshaylaya__num-b-024.wav',\n",
              " '/root/mir_datasets/mridangam_stroke/mridangam_stroke_1.5/B/224291__akshaylaya__num-b-025.wav',\n",
              " '/root/mir_datasets/mridangam_stroke/mridangam_stroke_1.5/B/224292__akshaylaya__num-b-026.wav',\n",
              " '/root/mir_datasets/mridangam_stroke/mridangam_stroke_1.5/B/224293__akshaylaya__num-b-027.wav',\n",
              " '/root/mir_datasets/mridangam_stroke/mridangam_stroke_1.5/B/224294__akshaylaya__num-b-028.wav',\n",
              " '/root/mir_datasets/mridangam_stroke/mridangam_stroke_1.5/B/224295__akshaylaya__num-b-029.wav',\n",
              " '/root/mir_datasets/mridangam_stroke/mridangam_stroke_1.5/B/224300__akshaylaya__num-b-034.wav',\n",
              " '/root/mir_datasets/mridangam_stroke/mridangam_stroke_1.5/B/224301__akshaylaya__num-b-035.wav',\n",
              " '/root/mir_datasets/mridangam_stroke/mridangam_stroke_1.5/B/224302__akshaylaya__num-b-036.wav',\n",
              " '/root/mir_datasets/mridangam_stroke/mridangam_stroke_1.5/B/224303__akshaylaya__num-b-037.wav',\n",
              " '/root/mir_datasets/mridangam_stroke/mridangam_stroke_1.5/B/224304__akshaylaya__num-b-038.wav',\n",
              " '/root/mir_datasets/mridangam_stroke/mridangam_stroke_1.5/B/224305__akshaylaya__num-b-039.wav',\n",
              " '/root/mir_datasets/mridangam_stroke/mridangam_stroke_1.5/B/224306__akshaylaya__num-b-040.wav',\n",
              " '/root/mir_datasets/mridangam_stroke/mridangam_stroke_1.5/B/224307__akshaylaya__num-b-041.wav',\n",
              " '/root/mir_datasets/mridangam_stroke/mridangam_stroke_1.5/B/224308__akshaylaya__num-b-042.wav',\n",
              " '/root/mir_datasets/mridangam_stroke/mridangam_stroke_1.5/B/224309__akshaylaya__num-b-043.wav',\n",
              " '/root/mir_datasets/mridangam_stroke/mridangam_stroke_1.5/B/224310__akshaylaya__num-b-044.wav',\n",
              " '/root/mir_datasets/mridangam_stroke/mridangam_stroke_1.5/B/224311__akshaylaya__num-b-045.wav',\n",
              " '/root/mir_datasets/mridangam_stroke/mridangam_stroke_1.5/B/224312__akshaylaya__num-b-046.wav',\n",
              " '/root/mir_datasets/mridangam_stroke/mridangam_stroke_1.5/B/224313__akshaylaya__num-b-047.wav',\n",
              " '/root/mir_datasets/mridangam_stroke/mridangam_stroke_1.5/B/224314__akshaylaya__num-b-048.wav',\n",
              " '/root/mir_datasets/mridangam_stroke/mridangam_stroke_1.5/B/224315__akshaylaya__num-b-049.wav',\n",
              " '/root/mir_datasets/mridangam_stroke/mridangam_stroke_1.5/B/224316__akshaylaya__num-b-050.wav',\n",
              " '/root/mir_datasets/mridangam_stroke/mridangam_stroke_1.5/B/224317__akshaylaya__num-b-051.wav',\n",
              " '/root/mir_datasets/mridangam_stroke/mridangam_stroke_1.5/B/224318__akshaylaya__num-b-052.wav',\n",
              " '/root/mir_datasets/mridangam_stroke/mridangam_stroke_1.5/B/224319__akshaylaya__num-b-053.wav',\n",
              " '/root/mir_datasets/mridangam_stroke/mridangam_stroke_1.5/B/224322__akshaylaya__num-b-056.wav',\n",
              " '/root/mir_datasets/mridangam_stroke/mridangam_stroke_1.5/B/224325__akshaylaya__num-b-059.wav',\n",
              " '/root/mir_datasets/mridangam_stroke/mridangam_stroke_1.5/B/224326__akshaylaya__num-b-060.wav',\n",
              " '/root/mir_datasets/mridangam_stroke/mridangam_stroke_1.5/B/224327__akshaylaya__num-b-061.wav',\n",
              " '/root/mir_datasets/mridangam_stroke/mridangam_stroke_1.5/B/224328__akshaylaya__num-b-062.wav',\n",
              " '/root/mir_datasets/mridangam_stroke/mridangam_stroke_1.5/B/224330__akshaylaya__num-b-064.wav',\n",
              " '/root/mir_datasets/mridangam_stroke/mridangam_stroke_1.5/B/224331__akshaylaya__num-b-065.wav',\n",
              " '/root/mir_datasets/mridangam_stroke/mridangam_stroke_1.5/B/224332__akshaylaya__num-b-066.wav',\n",
              " '/root/mir_datasets/mridangam_stroke/mridangam_stroke_1.5/B/224333__akshaylaya__num-b-067.wav',\n",
              " '/root/mir_datasets/mridangam_stroke/mridangam_stroke_1.5/B/224334__akshaylaya__num-b-068.wav',\n",
              " '/root/mir_datasets/mridangam_stroke/mridangam_stroke_1.5/B/224335__akshaylaya__num-b-069.wav',\n",
              " '/root/mir_datasets/mridangam_stroke/mridangam_stroke_1.5/B/224336__akshaylaya__num-b-070.wav',\n",
              " '/root/mir_datasets/mridangam_stroke/mridangam_stroke_1.5/B/224337__akshaylaya__num-b-071.wav',\n",
              " '/root/mir_datasets/mridangam_stroke/mridangam_stroke_1.5/B/224338__akshaylaya__num-b-072.wav',\n",
              " '/root/mir_datasets/mridangam_stroke/mridangam_stroke_1.5/B/224339__akshaylaya__num-b-073.wav',\n",
              " '/root/mir_datasets/mridangam_stroke/mridangam_stroke_1.5/B/224340__akshaylaya__num-b-074.wav',\n",
              " '/root/mir_datasets/mridangam_stroke/mridangam_stroke_1.5/B/224341__akshaylaya__num-b-075.wav',\n",
              " '/root/mir_datasets/mridangam_stroke/mridangam_stroke_1.5/B/224342__akshaylaya__num-b-076.wav',\n",
              " '/root/mir_datasets/mridangam_stroke/mridangam_stroke_1.5/B/224343__akshaylaya__num-b-077.wav',\n",
              " '/root/mir_datasets/mridangam_stroke/mridangam_stroke_1.5/B/224344__akshaylaya__num-b-078.wav',\n",
              " '/root/mir_datasets/mridangam_stroke/mridangam_stroke_1.5/B/224345__akshaylaya__num-b-079.wav',\n",
              " '/root/mir_datasets/mridangam_stroke/mridangam_stroke_1.5/B/224346__akshaylaya__num-b-080.wav',\n",
              " '/root/mir_datasets/mridangam_stroke/mridangam_stroke_1.5/B/224347__akshaylaya__num-b-081.wav',\n",
              " '/root/mir_datasets/mridangam_stroke/mridangam_stroke_1.5/B/224348__akshaylaya__ta-b-001.wav',\n",
              " '/root/mir_datasets/mridangam_stroke/mridangam_stroke_1.5/B/224349__akshaylaya__ta-b-002.wav',\n",
              " '/root/mir_datasets/mridangam_stroke/mridangam_stroke_1.5/B/224350__akshaylaya__ta-b-003.wav',\n",
              " '/root/mir_datasets/mridangam_stroke/mridangam_stroke_1.5/B/224351__akshaylaya__ta-b-004.wav',\n",
              " '/root/mir_datasets/mridangam_stroke/mridangam_stroke_1.5/B/224352__akshaylaya__ta-b-005.wav',\n",
              " '/root/mir_datasets/mridangam_stroke/mridangam_stroke_1.5/B/224353__akshaylaya__ta-b-006.wav',\n",
              " '/root/mir_datasets/mridangam_stroke/mridangam_stroke_1.5/B/224354__akshaylaya__ta-b-007.wav',\n",
              " '/root/mir_datasets/mridangam_stroke/mridangam_stroke_1.5/B/224355__akshaylaya__ta-b-008.wav',\n",
              " '/root/mir_datasets/mridangam_stroke/mridangam_stroke_1.5/B/224356__akshaylaya__ta-b-009.wav',\n",
              " '/root/mir_datasets/mridangam_stroke/mridangam_stroke_1.5/B/224357__akshaylaya__ta-b-010.wav',\n",
              " '/root/mir_datasets/mridangam_stroke/mridangam_stroke_1.5/B/224358__akshaylaya__ta-b-011.wav',\n",
              " '/root/mir_datasets/mridangam_stroke/mridangam_stroke_1.5/B/224359__akshaylaya__ta-b-012.wav',\n",
              " '/root/mir_datasets/mridangam_stroke/mridangam_stroke_1.5/B/224360__akshaylaya__ta-b-013.wav',\n",
              " '/root/mir_datasets/mridangam_stroke/mridangam_stroke_1.5/B/224361__akshaylaya__ta-b-014.wav',\n",
              " '/root/mir_datasets/mridangam_stroke/mridangam_stroke_1.5/B/224362__akshaylaya__ta-b-015.wav',\n",
              " '/root/mir_datasets/mridangam_stroke/mridangam_stroke_1.5/B/224363__akshaylaya__ta-b-016.wav',\n",
              " '/root/mir_datasets/mridangam_stroke/mridangam_stroke_1.5/B/224364__akshaylaya__ta-b-017.wav',\n",
              " '/root/mir_datasets/mridangam_stroke/mridangam_stroke_1.5/B/224365__akshaylaya__ta-b-018.wav',\n",
              " '/root/mir_datasets/mridangam_stroke/mridangam_stroke_1.5/B/224366__akshaylaya__ta-b-019.wav',\n",
              " '/root/mir_datasets/mridangam_stroke/mridangam_stroke_1.5/B/224367__akshaylaya__ta-b-020.wav',\n",
              " '/root/mir_datasets/mridangam_stroke/mridangam_stroke_1.5/B/224368__akshaylaya__ta-b-021.wav',\n",
              " '/root/mir_datasets/mridangam_stroke/mridangam_stroke_1.5/B/224369__akshaylaya__ta-b-022.wav',\n",
              " '/root/mir_datasets/mridangam_stroke/mridangam_stroke_1.5/B/224370__akshaylaya__ta-b-023.wav',\n",
              " '/root/mir_datasets/mridangam_stroke/mridangam_stroke_1.5/B/224371__akshaylaya__ta-b-024.wav',\n",
              " '/root/mir_datasets/mridangam_stroke/mridangam_stroke_1.5/B/224372__akshaylaya__ta-b-025.wav',\n",
              " '/root/mir_datasets/mridangam_stroke/mridangam_stroke_1.5/B/224373__akshaylaya__ta-b-026.wav',\n",
              " '/root/mir_datasets/mridangam_stroke/mridangam_stroke_1.5/B/224374__akshaylaya__ta-b-027.wav',\n",
              " '/root/mir_datasets/mridangam_stroke/mridangam_stroke_1.5/B/224375__akshaylaya__ta-b-028.wav',\n",
              " '/root/mir_datasets/mridangam_stroke/mridangam_stroke_1.5/B/224376__akshaylaya__ta-b-029.wav',\n",
              " '/root/mir_datasets/mridangam_stroke/mridangam_stroke_1.5/B/224377__akshaylaya__ta-b-030.wav',\n",
              " '/root/mir_datasets/mridangam_stroke/mridangam_stroke_1.5/B/224378__akshaylaya__ta-b-031.wav',\n",
              " '/root/mir_datasets/mridangam_stroke/mridangam_stroke_1.5/B/224379__akshaylaya__ta-b-032.wav',\n",
              " '/root/mir_datasets/mridangam_stroke/mridangam_stroke_1.5/B/224380__akshaylaya__ta-b-033.wav',\n",
              " '/root/mir_datasets/mridangam_stroke/mridangam_stroke_1.5/B/224381__akshaylaya__ta-b-034.wav',\n",
              " '/root/mir_datasets/mridangam_stroke/mridangam_stroke_1.5/B/224382__akshaylaya__ta-b-035.wav',\n",
              " '/root/mir_datasets/mridangam_stroke/mridangam_stroke_1.5/B/224383__akshaylaya__ta-b-036.wav',\n",
              " '/root/mir_datasets/mridangam_stroke/mridangam_stroke_1.5/B/224384__akshaylaya__ta-b-037.wav',\n",
              " '/root/mir_datasets/mridangam_stroke/mridangam_stroke_1.5/B/224385__akshaylaya__ta-b-038.wav',\n",
              " '/root/mir_datasets/mridangam_stroke/mridangam_stroke_1.5/B/224386__akshaylaya__ta-b-039.wav',\n",
              " '/root/mir_datasets/mridangam_stroke/mridangam_stroke_1.5/B/224387__akshaylaya__ta-b-040.wav',\n",
              " '/root/mir_datasets/mridangam_stroke/mridangam_stroke_1.5/B/224388__akshaylaya__ta-b-041.wav',\n",
              " '/root/mir_datasets/mridangam_stroke/mridangam_stroke_1.5/B/224389__akshaylaya__ta-b-042.wav',\n",
              " '/root/mir_datasets/mridangam_stroke/mridangam_stroke_1.5/B/224390__akshaylaya__ta-b-043.wav',\n",
              " '/root/mir_datasets/mridangam_stroke/mridangam_stroke_1.5/B/224391__akshaylaya__ta-b-044.wav',\n",
              " '/root/mir_datasets/mridangam_stroke/mridangam_stroke_1.5/B/224392__akshaylaya__ta-b-045.wav',\n",
              " '/root/mir_datasets/mridangam_stroke/mridangam_stroke_1.5/B/224393__akshaylaya__ta-b-046.wav',\n",
              " '/root/mir_datasets/mridangam_stroke/mridangam_stroke_1.5/B/224395__akshaylaya__ta-b-047.wav',\n",
              " '/root/mir_datasets/mridangam_stroke/mridangam_stroke_1.5/B/224396__akshaylaya__ta-b-048.wav',\n",
              " '/root/mir_datasets/mridangam_stroke/mridangam_stroke_1.5/B/224397__akshaylaya__ta-b-049.wav',\n",
              " '/root/mir_datasets/mridangam_stroke/mridangam_stroke_1.5/B/224398__akshaylaya__ta-b-050.wav',\n",
              " '/root/mir_datasets/mridangam_stroke/mridangam_stroke_1.5/B/224399__akshaylaya__ta-b-051.wav',\n",
              " '/root/mir_datasets/mridangam_stroke/mridangam_stroke_1.5/B/224400__akshaylaya__ta-b-052.wav',\n",
              " '/root/mir_datasets/mridangam_stroke/mridangam_stroke_1.5/B/224401__akshaylaya__ta-b-053.wav',\n",
              " '/root/mir_datasets/mridangam_stroke/mridangam_stroke_1.5/B/224402__akshaylaya__ta-b-054.wav',\n",
              " '/root/mir_datasets/mridangam_stroke/mridangam_stroke_1.5/B/224403__akshaylaya__ta-b-055.wav',\n",
              " '/root/mir_datasets/mridangam_stroke/mridangam_stroke_1.5/B/224404__akshaylaya__ta-b-056.wav',\n",
              " '/root/mir_datasets/mridangam_stroke/mridangam_stroke_1.5/B/224405__akshaylaya__ta-b-057.wav',\n",
              " '/root/mir_datasets/mridangam_stroke/mridangam_stroke_1.5/B/224406__akshaylaya__ta-b-058.wav',\n",
              " '/root/mir_datasets/mridangam_stroke/mridangam_stroke_1.5/B/224407__akshaylaya__ta-b-059.wav',\n",
              " '/root/mir_datasets/mridangam_stroke/mridangam_stroke_1.5/B/224408__akshaylaya__ta-b-060.wav',\n",
              " '/root/mir_datasets/mridangam_stroke/mridangam_stroke_1.5/B/224409__akshaylaya__ta-b-061.wav',\n",
              " '/root/mir_datasets/mridangam_stroke/mridangam_stroke_1.5/B/224410__akshaylaya__ta-b-062.wav',\n",
              " '/root/mir_datasets/mridangam_stroke/mridangam_stroke_1.5/B/224411__akshaylaya__ta-b-063.wav',\n",
              " '/root/mir_datasets/mridangam_stroke/mridangam_stroke_1.5/B/224412__akshaylaya__ta-b-064.wav',\n",
              " '/root/mir_datasets/mridangam_stroke/mridangam_stroke_1.5/B/224413__akshaylaya__ta-b-065.wav',\n",
              " '/root/mir_datasets/mridangam_stroke/mridangam_stroke_1.5/B/224414__akshaylaya__ta-b-066.wav',\n",
              " '/root/mir_datasets/mridangam_stroke/mridangam_stroke_1.5/B/224415__akshaylaya__ta-b-067.wav',\n",
              " '/root/mir_datasets/mridangam_stroke/mridangam_stroke_1.5/B/224416__akshaylaya__ta-b-068.wav',\n",
              " '/root/mir_datasets/mridangam_stroke/mridangam_stroke_1.5/B/224417__akshaylaya__ta-b-069.wav',\n",
              " '/root/mir_datasets/mridangam_stroke/mridangam_stroke_1.5/B/224418__akshaylaya__ta-b-070.wav',\n",
              " '/root/mir_datasets/mridangam_stroke/mridangam_stroke_1.5/B/224419__akshaylaya__ta-b-071.wav',\n",
              " '/root/mir_datasets/mridangam_stroke/mridangam_stroke_1.5/B/224420__akshaylaya__ta-b-072.wav',\n",
              " '/root/mir_datasets/mridangam_stroke/mridangam_stroke_1.5/B/224421__akshaylaya__ta-b-073.wav',\n",
              " '/root/mir_datasets/mridangam_stroke/mridangam_stroke_1.5/B/224422__akshaylaya__ta-b-074.wav',\n",
              " '/root/mir_datasets/mridangam_stroke/mridangam_stroke_1.5/B/224423__akshaylaya__ta-b-075.wav',\n",
              " '/root/mir_datasets/mridangam_stroke/mridangam_stroke_1.5/B/224424__akshaylaya__ta-b-076.wav',\n",
              " '/root/mir_datasets/mridangam_stroke/mridangam_stroke_1.5/B/224425__akshaylaya__ta-b-077.wav',\n",
              " '/root/mir_datasets/mridangam_stroke/mridangam_stroke_1.5/B/224426__akshaylaya__ta-b-078.wav',\n",
              " '/root/mir_datasets/mridangam_stroke/mridangam_stroke_1.5/B/224427__akshaylaya__ta-b-079.wav',\n",
              " '/root/mir_datasets/mridangam_stroke/mridangam_stroke_1.5/B/224428__akshaylaya__ta-b-080.wav',\n",
              " '/root/mir_datasets/mridangam_stroke/mridangam_stroke_1.5/B/224429__akshaylaya__ta-b-081.wav',\n",
              " '/root/mir_datasets/mridangam_stroke/mridangam_stroke_1.5/B/224430__akshaylaya__ta-b-082.wav',\n",
              " '/root/mir_datasets/mridangam_stroke/mridangam_stroke_1.5/B/224431__akshaylaya__ta-b-083.wav',\n",
              " '/root/mir_datasets/mridangam_stroke/mridangam_stroke_1.5/B/224432__akshaylaya__ta-b-084.wav',\n",
              " '/root/mir_datasets/mridangam_stroke/mridangam_stroke_1.5/B/224433__akshaylaya__ta-b-085.wav',\n",
              " '/root/mir_datasets/mridangam_stroke/mridangam_stroke_1.5/B/224434__akshaylaya__ta-b-086.wav',\n",
              " '/root/mir_datasets/mridangam_stroke/mridangam_stroke_1.5/B/224435__akshaylaya__ta-b-087.wav',\n",
              " '/root/mir_datasets/mridangam_stroke/mridangam_stroke_1.5/B/224436__akshaylaya__ta-b-088.wav',\n",
              " '/root/mir_datasets/mridangam_stroke/mridangam_stroke_1.5/B/224437__akshaylaya__ta-b-089.wav',\n",
              " '/root/mir_datasets/mridangam_stroke/mridangam_stroke_1.5/B/224438__akshaylaya__ta-b-090.wav',\n",
              " '/root/mir_datasets/mridangam_stroke/mridangam_stroke_1.5/B/224439__akshaylaya__ta-b-091.wav',\n",
              " '/root/mir_datasets/mridangam_stroke/mridangam_stroke_1.5/B/224440__akshaylaya__ta-b-092.wav',\n",
              " '/root/mir_datasets/mridangam_stroke/mridangam_stroke_1.5/B/224441__akshaylaya__ta-b-093.wav',\n",
              " '/root/mir_datasets/mridangam_stroke/mridangam_stroke_1.5/B/224442__akshaylaya__ta-b-094.wav',\n",
              " '/root/mir_datasets/mridangam_stroke/mridangam_stroke_1.5/B/224443__akshaylaya__ta-b-095.wav',\n",
              " '/root/mir_datasets/mridangam_stroke/mridangam_stroke_1.5/B/224444__akshaylaya__ta-b-096.wav',\n",
              " '/root/mir_datasets/mridangam_stroke/mridangam_stroke_1.5/B/224445__akshaylaya__ta-b-097.wav',\n",
              " '/root/mir_datasets/mridangam_stroke/mridangam_stroke_1.5/B/224446__akshaylaya__ta-b-098.wav',\n",
              " '/root/mir_datasets/mridangam_stroke/mridangam_stroke_1.5/B/224447__akshaylaya__ta-b-099.wav',\n",
              " '/root/mir_datasets/mridangam_stroke/mridangam_stroke_1.5/B/224448__akshaylaya__ta-b-100.wav',\n",
              " '/root/mir_datasets/mridangam_stroke/mridangam_stroke_1.5/B/224449__akshaylaya__ta-b-101.wav',\n",
              " '/root/mir_datasets/mridangam_stroke/mridangam_stroke_1.5/B/224450__akshaylaya__ta-b-102.wav',\n",
              " '/root/mir_datasets/mridangam_stroke/mridangam_stroke_1.5/B/224451__akshaylaya__ta-b-103.wav',\n",
              " '/root/mir_datasets/mridangam_stroke/mridangam_stroke_1.5/B/224452__akshaylaya__ta-b-104.wav',\n",
              " '/root/mir_datasets/mridangam_stroke/mridangam_stroke_1.5/B/224453__akshaylaya__ta-b-105.wav',\n",
              " '/root/mir_datasets/mridangam_stroke/mridangam_stroke_1.5/B/224454__akshaylaya__ta-b-106.wav',\n",
              " '/root/mir_datasets/mridangam_stroke/mridangam_stroke_1.5/B/224455__akshaylaya__ta-b-107.wav',\n",
              " '/root/mir_datasets/mridangam_stroke/mridangam_stroke_1.5/B/224456__akshaylaya__ta-b-108.wav',\n",
              " '/root/mir_datasets/mridangam_stroke/mridangam_stroke_1.5/B/224457__akshaylaya__ta-b-109.wav',\n",
              " '/root/mir_datasets/mridangam_stroke/mridangam_stroke_1.5/B/224458__akshaylaya__ta-b-110.wav',\n",
              " '/root/mir_datasets/mridangam_stroke/mridangam_stroke_1.5/B/224459__akshaylaya__ta-b-111.wav',\n",
              " '/root/mir_datasets/mridangam_stroke/mridangam_stroke_1.5/B/224460__akshaylaya__ta-b-112.wav',\n",
              " '/root/mir_datasets/mridangam_stroke/mridangam_stroke_1.5/B/224461__akshaylaya__ta-b-113.wav',\n",
              " '/root/mir_datasets/mridangam_stroke/mridangam_stroke_1.5/B/224462__akshaylaya__ta-b-114.wav',\n",
              " '/root/mir_datasets/mridangam_stroke/mridangam_stroke_1.5/B/224463__akshaylaya__ta-b-115.wav',\n",
              " '/root/mir_datasets/mridangam_stroke/mridangam_stroke_1.5/B/224464__akshaylaya__ta-b-116.wav',\n",
              " '/root/mir_datasets/mridangam_stroke/mridangam_stroke_1.5/B/224465__akshaylaya__ta-b-117.wav',\n",
              " '/root/mir_datasets/mridangam_stroke/mridangam_stroke_1.5/B/224466__akshaylaya__ta-b-118.wav',\n",
              " '/root/mir_datasets/mridangam_stroke/mridangam_stroke_1.5/B/224467__akshaylaya__ta-b-119.wav',\n",
              " '/root/mir_datasets/mridangam_stroke/mridangam_stroke_1.5/B/224468__akshaylaya__ta-b-120.wav',\n",
              " '/root/mir_datasets/mridangam_stroke/mridangam_stroke_1.5/B/224469__akshaylaya__ta-b-121.wav',\n",
              " '/root/mir_datasets/mridangam_stroke/mridangam_stroke_1.5/B/224470__akshaylaya__ta-b-122.wav',\n",
              " '/root/mir_datasets/mridangam_stroke/mridangam_stroke_1.5/B/224471__akshaylaya__ta-b-123.wav',\n",
              " '/root/mir_datasets/mridangam_stroke/mridangam_stroke_1.5/B/224472__akshaylaya__ta-b-124.wav',\n",
              " '/root/mir_datasets/mridangam_stroke/mridangam_stroke_1.5/B/224473__akshaylaya__ta-b-125.wav',\n",
              " '/root/mir_datasets/mridangam_stroke/mridangam_stroke_1.5/B/224474__akshaylaya__ta-b-126.wav',\n",
              " '/root/mir_datasets/mridangam_stroke/mridangam_stroke_1.5/B/224475__akshaylaya__ta-b-127.wav',\n",
              " '/root/mir_datasets/mridangam_stroke/mridangam_stroke_1.5/B/224476__akshaylaya__ta-b-128.wav',\n",
              " '/root/mir_datasets/mridangam_stroke/mridangam_stroke_1.5/B/224477__akshaylaya__ta-b-129.wav',\n",
              " '/root/mir_datasets/mridangam_stroke/mridangam_stroke_1.5/B/224478__akshaylaya__ta-b-130.wav',\n",
              " '/root/mir_datasets/mridangam_stroke/mridangam_stroke_1.5/B/224479__akshaylaya__ta-b-131.wav',\n",
              " '/root/mir_datasets/mridangam_stroke/mridangam_stroke_1.5/B/224480__akshaylaya__ta-b-132.wav',\n",
              " '/root/mir_datasets/mridangam_stroke/mridangam_stroke_1.5/B/224481__akshaylaya__ta-b-133.wav',\n",
              " '/root/mir_datasets/mridangam_stroke/mridangam_stroke_1.5/B/224482__akshaylaya__ta-b-134.wav',\n",
              " '/root/mir_datasets/mridangam_stroke/mridangam_stroke_1.5/B/224483__akshaylaya__ta-b-135.wav',\n",
              " '/root/mir_datasets/mridangam_stroke/mridangam_stroke_1.5/B/224484__akshaylaya__ta-b-136.wav',\n",
              " '/root/mir_datasets/mridangam_stroke/mridangam_stroke_1.5/B/224485__akshaylaya__ta-b-137.wav',\n",
              " '/root/mir_datasets/mridangam_stroke/mridangam_stroke_1.5/B/224486__akshaylaya__ta-b-138.wav',\n",
              " '/root/mir_datasets/mridangam_stroke/mridangam_stroke_1.5/B/224487__akshaylaya__ta-b-139.wav',\n",
              " '/root/mir_datasets/mridangam_stroke/mridangam_stroke_1.5/B/224488__akshaylaya__ta-b-140.wav',\n",
              " '/root/mir_datasets/mridangam_stroke/mridangam_stroke_1.5/B/224489__akshaylaya__ta-b-141.wav',\n",
              " '/root/mir_datasets/mridangam_stroke/mridangam_stroke_1.5/B/224490__akshaylaya__ta-b-142.wav',\n",
              " '/root/mir_datasets/mridangam_stroke/mridangam_stroke_1.5/B/224491__akshaylaya__ta-b-143.wav',\n",
              " '/root/mir_datasets/mridangam_stroke/mridangam_stroke_1.5/B/224492__akshaylaya__ta-b-144.wav',\n",
              " '/root/mir_datasets/mridangam_stroke/mridangam_stroke_1.5/B/224493__akshaylaya__ta-b-145.wav',\n",
              " '/root/mir_datasets/mridangam_stroke/mridangam_stroke_1.5/B/224494__akshaylaya__tha-b-001.wav',\n",
              " '/root/mir_datasets/mridangam_stroke/mridangam_stroke_1.5/B/224495__akshaylaya__tha-b-002.wav',\n",
              " '/root/mir_datasets/mridangam_stroke/mridangam_stroke_1.5/B/224496__akshaylaya__tha-b-003.wav',\n",
              " '/root/mir_datasets/mridangam_stroke/mridangam_stroke_1.5/B/224497__akshaylaya__tha-b-004.wav',\n",
              " '/root/mir_datasets/mridangam_stroke/mridangam_stroke_1.5/B/224498__akshaylaya__tha-b-005.wav',\n",
              " '/root/mir_datasets/mridangam_stroke/mridangam_stroke_1.5/B/224499__akshaylaya__tha-b-006.wav',\n",
              " '/root/mir_datasets/mridangam_stroke/mridangam_stroke_1.5/B/224500__akshaylaya__tha-b-007.wav',\n",
              " '/root/mir_datasets/mridangam_stroke/mridangam_stroke_1.5/B/224501__akshaylaya__tha-b-008.wav',\n",
              " '/root/mir_datasets/mridangam_stroke/mridangam_stroke_1.5/B/224502__akshaylaya__tha-b-009.wav',\n",
              " '/root/mir_datasets/mridangam_stroke/mridangam_stroke_1.5/B/224503__akshaylaya__tha-b-010.wav',\n",
              " '/root/mir_datasets/mridangam_stroke/mridangam_stroke_1.5/B/224504__akshaylaya__tha-b-011.wav',\n",
              " '/root/mir_datasets/mridangam_stroke/mridangam_stroke_1.5/B/224505__akshaylaya__tha-b-012.wav',\n",
              " '/root/mir_datasets/mridangam_stroke/mridangam_stroke_1.5/B/224507__akshaylaya__tha-b-014.wav',\n",
              " '/root/mir_datasets/mridangam_stroke/mridangam_stroke_1.5/B/224508__akshaylaya__tha-b-015.wav',\n",
              " '/root/mir_datasets/mridangam_stroke/mridangam_stroke_1.5/B/224509__akshaylaya__tha-b-016.wav',\n",
              " '/root/mir_datasets/mridangam_stroke/mridangam_stroke_1.5/B/224510__akshaylaya__tha-b-017.wav',\n",
              " '/root/mir_datasets/mridangam_stroke/mridangam_stroke_1.5/B/224511__akshaylaya__tha-b-018.wav',\n",
              " '/root/mir_datasets/mridangam_stroke/mridangam_stroke_1.5/B/224512__akshaylaya__tha-b-019.wav',\n",
              " '/root/mir_datasets/mridangam_stroke/mridangam_stroke_1.5/B/224513__akshaylaya__tha-b-020.wav',\n",
              " '/root/mir_datasets/mridangam_stroke/mridangam_stroke_1.5/B/224514__akshaylaya__tha-b-021.wav',\n",
              " '/root/mir_datasets/mridangam_stroke/mridangam_stroke_1.5/B/224515__akshaylaya__tha-b-022.wav',\n",
              " '/root/mir_datasets/mridangam_stroke/mridangam_stroke_1.5/B/224516__akshaylaya__tha-b-023.wav',\n",
              " '/root/mir_datasets/mridangam_stroke/mridangam_stroke_1.5/B/224517__akshaylaya__tha-b-024.wav',\n",
              " '/root/mir_datasets/mridangam_stroke/mridangam_stroke_1.5/B/224518__akshaylaya__tha-b-025.wav',\n",
              " '/root/mir_datasets/mridangam_stroke/mridangam_stroke_1.5/B/224519__akshaylaya__tha-b-026.wav',\n",
              " '/root/mir_datasets/mridangam_stroke/mridangam_stroke_1.5/B/224520__akshaylaya__tha-b-027.wav',\n",
              " '/root/mir_datasets/mridangam_stroke/mridangam_stroke_1.5/B/224521__akshaylaya__tha-b-028.wav',\n",
              " '/root/mir_datasets/mridangam_stroke/mridangam_stroke_1.5/B/224522__akshaylaya__tha-b-029.wav',\n",
              " '/root/mir_datasets/mridangam_stroke/mridangam_stroke_1.5/B/224523__akshaylaya__tha-b-030.wav',\n",
              " '/root/mir_datasets/mridangam_stroke/mridangam_stroke_1.5/B/224524__akshaylaya__tha-b-031.wav',\n",
              " '/root/mir_datasets/mridangam_stroke/mridangam_stroke_1.5/B/224525__akshaylaya__tha-b-032.wav',\n",
              " '/root/mir_datasets/mridangam_stroke/mridangam_stroke_1.5/B/224526__akshaylaya__tha-b-033.wav',\n",
              " '/root/mir_datasets/mridangam_stroke/mridangam_stroke_1.5/B/224527__akshaylaya__tha-b-034.wav',\n",
              " '/root/mir_datasets/mridangam_stroke/mridangam_stroke_1.5/B/224528__akshaylaya__tha-b-035.wav',\n",
              " '/root/mir_datasets/mridangam_stroke/mridangam_stroke_1.5/B/224529__akshaylaya__tha-b-036.wav',\n",
              " '/root/mir_datasets/mridangam_stroke/mridangam_stroke_1.5/B/224530__akshaylaya__tha-b-037.wav',\n",
              " '/root/mir_datasets/mridangam_stroke/mridangam_stroke_1.5/B/224531__akshaylaya__tha-b-038.wav',\n",
              " '/root/mir_datasets/mridangam_stroke/mridangam_stroke_1.5/B/224532__akshaylaya__tha-b-039.wav',\n",
              " '/root/mir_datasets/mridangam_stroke/mridangam_stroke_1.5/B/224533__akshaylaya__tha-b-040.wav',\n",
              " '/root/mir_datasets/mridangam_stroke/mridangam_stroke_1.5/B/224534__akshaylaya__tha-b-041.wav',\n",
              " '/root/mir_datasets/mridangam_stroke/mridangam_stroke_1.5/B/224535__akshaylaya__tha-b-042.wav',\n",
              " '/root/mir_datasets/mridangam_stroke/mridangam_stroke_1.5/B/224536__akshaylaya__tha-b-043.wav',\n",
              " '/root/mir_datasets/mridangam_stroke/mridangam_stroke_1.5/B/224537__akshaylaya__tha-b-044.wav',\n",
              " '/root/mir_datasets/mridangam_stroke/mridangam_stroke_1.5/B/224538__akshaylaya__tha-b-045.wav',\n",
              " '/root/mir_datasets/mridangam_stroke/mridangam_stroke_1.5/B/224539__akshaylaya__tha-b-046.wav',\n",
              " '/root/mir_datasets/mridangam_stroke/mridangam_stroke_1.5/B/224540__akshaylaya__tha-b-047.wav',\n",
              " '/root/mir_datasets/mridangam_stroke/mridangam_stroke_1.5/B/224541__akshaylaya__tha-b-048.wav',\n",
              " '/root/mir_datasets/mridangam_stroke/mridangam_stroke_1.5/B/224542__akshaylaya__tha-b-049.wav',\n",
              " '/root/mir_datasets/mridangam_stroke/mridangam_stroke_1.5/B/224543__akshaylaya__tha-b-050.wav',\n",
              " '/root/mir_datasets/mridangam_stroke/mridangam_stroke_1.5/B/224544__akshaylaya__tha-b-051.wav',\n",
              " '/root/mir_datasets/mridangam_stroke/mridangam_stroke_1.5/B/224545__akshaylaya__tha-b-052.wav',\n",
              " '/root/mir_datasets/mridangam_stroke/mridangam_stroke_1.5/B/224546__akshaylaya__tha-b-053.wav',\n",
              " '/root/mir_datasets/mridangam_stroke/mridangam_stroke_1.5/B/224547__akshaylaya__tha-b-054.wav',\n",
              " '/root/mir_datasets/mridangam_stroke/mridangam_stroke_1.5/B/224548__akshaylaya__tha-b-055.wav',\n",
              " '/root/mir_datasets/mridangam_stroke/mridangam_stroke_1.5/B/224549__akshaylaya__tha-b-056.wav',\n",
              " '/root/mir_datasets/mridangam_stroke/mridangam_stroke_1.5/B/224550__akshaylaya__tha-b-057.wav',\n",
              " '/root/mir_datasets/mridangam_stroke/mridangam_stroke_1.5/B/224551__akshaylaya__tha-b-058.wav',\n",
              " '/root/mir_datasets/mridangam_stroke/mridangam_stroke_1.5/B/224552__akshaylaya__tha-b-059.wav',\n",
              " '/root/mir_datasets/mridangam_stroke/mridangam_stroke_1.5/B/224553__akshaylaya__tha-b-060.wav',\n",
              " '/root/mir_datasets/mridangam_stroke/mridangam_stroke_1.5/B/224554__akshaylaya__tha-b-061.wav',\n",
              " '/root/mir_datasets/mridangam_stroke/mridangam_stroke_1.5/B/224555__akshaylaya__tha-b-062.wav',\n",
              " '/root/mir_datasets/mridangam_stroke/mridangam_stroke_1.5/B/224556__akshaylaya__tha-b-063.wav',\n",
              " '/root/mir_datasets/mridangam_stroke/mridangam_stroke_1.5/B/224557__akshaylaya__tha-b-064.wav',\n",
              " '/root/mir_datasets/mridangam_stroke/mridangam_stroke_1.5/B/224558__akshaylaya__tha-b-065.wav',\n",
              " '/root/mir_datasets/mridangam_stroke/mridangam_stroke_1.5/B/224559__akshaylaya__tha-b-066.wav',\n",
              " '/root/mir_datasets/mridangam_stroke/mridangam_stroke_1.5/B/224560__akshaylaya__tha-b-067.wav',\n",
              " '/root/mir_datasets/mridangam_stroke/mridangam_stroke_1.5/B/224561__akshaylaya__tha-b-068.wav',\n",
              " '/root/mir_datasets/mridangam_stroke/mridangam_stroke_1.5/B/224562__akshaylaya__tha-b-069.wav',\n",
              " '/root/mir_datasets/mridangam_stroke/mridangam_stroke_1.5/B/224563__akshaylaya__tha-b-070.wav',\n",
              " '/root/mir_datasets/mridangam_stroke/mridangam_stroke_1.5/B/224564__akshaylaya__tha-b-071.wav',\n",
              " '/root/mir_datasets/mridangam_stroke/mridangam_stroke_1.5/B/224565__akshaylaya__tha-b-072.wav',\n",
              " '/root/mir_datasets/mridangam_stroke/mridangam_stroke_1.5/B/224566__akshaylaya__tha-b-073.wav',\n",
              " '/root/mir_datasets/mridangam_stroke/mridangam_stroke_1.5/B/224567__akshaylaya__tha-b-074.wav',\n",
              " '/root/mir_datasets/mridangam_stroke/mridangam_stroke_1.5/B/224568__akshaylaya__tha-b-075.wav',\n",
              " '/root/mir_datasets/mridangam_stroke/mridangam_stroke_1.5/B/224569__akshaylaya__tha-b-076.wav',\n",
              " '/root/mir_datasets/mridangam_stroke/mridangam_stroke_1.5/B/224570__akshaylaya__tha-b-077.wav',\n",
              " '/root/mir_datasets/mridangam_stroke/mridangam_stroke_1.5/B/224571__akshaylaya__tha-b-078.wav',\n",
              " '/root/mir_datasets/mridangam_stroke/mridangam_stroke_1.5/B/224572__akshaylaya__tha-b-079.wav',\n",
              " '/root/mir_datasets/mridangam_stroke/mridangam_stroke_1.5/B/224573__akshaylaya__tha-b-080.wav',\n",
              " '/root/mir_datasets/mridangam_stroke/mridangam_stroke_1.5/B/224574__akshaylaya__tha-b-081.wav',\n",
              " '/root/mir_datasets/mridangam_stroke/mridangam_stroke_1.5/B/224575__akshaylaya__tha-b-082.wav',\n",
              " '/root/mir_datasets/mridangam_stroke/mridangam_stroke_1.5/B/224576__akshaylaya__tha-b-083.wav',\n",
              " '/root/mir_datasets/mridangam_stroke/mridangam_stroke_1.5/B/224577__akshaylaya__tha-b-084.wav',\n",
              " '/root/mir_datasets/mridangam_stroke/mridangam_stroke_1.5/B/224578__akshaylaya__tha-b-085.wav',\n",
              " '/root/mir_datasets/mridangam_stroke/mridangam_stroke_1.5/B/224579__akshaylaya__tha-b-086.wav',\n",
              " '/root/mir_datasets/mridangam_stroke/mridangam_stroke_1.5/B/224580__akshaylaya__tha-b-087.wav',\n",
              " '/root/mir_datasets/mridangam_stroke/mridangam_stroke_1.5/B/224581__akshaylaya__tha-b-088.wav',\n",
              " '/root/mir_datasets/mridangam_stroke/mridangam_stroke_1.5/B/224582__akshaylaya__tha-b-089.wav',\n",
              " '/root/mir_datasets/mridangam_stroke/mridangam_stroke_1.5/B/224583__akshaylaya__tha-b-090.wav',\n",
              " '/root/mir_datasets/mridangam_stroke/mridangam_stroke_1.5/B/224584__akshaylaya__tha-b-091.wav',\n",
              " '/root/mir_datasets/mridangam_stroke/mridangam_stroke_1.5/B/224585__akshaylaya__tha-b-092.wav',\n",
              " '/root/mir_datasets/mridangam_stroke/mridangam_stroke_1.5/B/224586__akshaylaya__tha-b-093.wav',\n",
              " '/root/mir_datasets/mridangam_stroke/mridangam_stroke_1.5/B/224587__akshaylaya__tha-b-094.wav',\n",
              " '/root/mir_datasets/mridangam_stroke/mridangam_stroke_1.5/B/224588__akshaylaya__tha-b-095.wav',\n",
              " '/root/mir_datasets/mridangam_stroke/mridangam_stroke_1.5/B/224589__akshaylaya__tha-b-096.wav',\n",
              " '/root/mir_datasets/mridangam_stroke/mridangam_stroke_1.5/B/224590__akshaylaya__tha-b-097.wav',\n",
              " '/root/mir_datasets/mridangam_stroke/mridangam_stroke_1.5/B/224591__akshaylaya__tha-b-098.wav',\n",
              " '/root/mir_datasets/mridangam_stroke/mridangam_stroke_1.5/B/224592__akshaylaya__tha-b-099.wav',\n",
              " '/root/mir_datasets/mridangam_stroke/mridangam_stroke_1.5/B/224593__akshaylaya__tha-b-100.wav',\n",
              " '/root/mir_datasets/mridangam_stroke/mridangam_stroke_1.5/B/224594__akshaylaya__tha-b-101.wav',\n",
              " '/root/mir_datasets/mridangam_stroke/mridangam_stroke_1.5/B/224595__akshaylaya__tha-b-102.wav',\n",
              " '/root/mir_datasets/mridangam_stroke/mridangam_stroke_1.5/B/224596__akshaylaya__tha-b-103.wav',\n",
              " '/root/mir_datasets/mridangam_stroke/mridangam_stroke_1.5/B/224597__akshaylaya__tha-b-104.wav',\n",
              " '/root/mir_datasets/mridangam_stroke/mridangam_stroke_1.5/B/224598__akshaylaya__tha-b-105.wav',\n",
              " '/root/mir_datasets/mridangam_stroke/mridangam_stroke_1.5/B/224599__akshaylaya__tha-b-106.wav',\n",
              " '/root/mir_datasets/mridangam_stroke/mridangam_stroke_1.5/B/224600__akshaylaya__tha-b-107.wav',\n",
              " '/root/mir_datasets/mridangam_stroke/mridangam_stroke_1.5/B/224601__akshaylaya__tha-b-108.wav',\n",
              " '/root/mir_datasets/mridangam_stroke/mridangam_stroke_1.5/B/224602__akshaylaya__tha-b-109.wav',\n",
              " '/root/mir_datasets/mridangam_stroke/mridangam_stroke_1.5/B/224603__akshaylaya__tha-b-110.wav',\n",
              " '/root/mir_datasets/mridangam_stroke/mridangam_stroke_1.5/B/224604__akshaylaya__tha-b-111.wav',\n",
              " '/root/mir_datasets/mridangam_stroke/mridangam_stroke_1.5/B/224605__akshaylaya__tha-b-112.wav',\n",
              " '/root/mir_datasets/mridangam_stroke/mridangam_stroke_1.5/B/224606__akshaylaya__tha-b-113.wav',\n",
              " '/root/mir_datasets/mridangam_stroke/mridangam_stroke_1.5/B/224607__akshaylaya__tha-b-114.wav',\n",
              " '/root/mir_datasets/mridangam_stroke/mridangam_stroke_1.5/B/224608__akshaylaya__tha-b-115.wav',\n",
              " '/root/mir_datasets/mridangam_stroke/mridangam_stroke_1.5/B/224609__akshaylaya__tha-b-116.wav',\n",
              " '/root/mir_datasets/mridangam_stroke/mridangam_stroke_1.5/B/224610__akshaylaya__tha-b-117.wav',\n",
              " '/root/mir_datasets/mridangam_stroke/mridangam_stroke_1.5/B/224611__akshaylaya__tha-b-118.wav',\n",
              " '/root/mir_datasets/mridangam_stroke/mridangam_stroke_1.5/B/224612__akshaylaya__tha-b-119.wav',\n",
              " '/root/mir_datasets/mridangam_stroke/mridangam_stroke_1.5/B/224613__akshaylaya__tha-b-120.wav',\n",
              " '/root/mir_datasets/mridangam_stroke/mridangam_stroke_1.5/B/224614__akshaylaya__tha-b-121.wav',\n",
              " '/root/mir_datasets/mridangam_stroke/mridangam_stroke_1.5/B/224615__akshaylaya__tha-b-122.wav',\n",
              " '/root/mir_datasets/mridangam_stroke/mridangam_stroke_1.5/B/224616__akshaylaya__tha-b-123.wav',\n",
              " '/root/mir_datasets/mridangam_stroke/mridangam_stroke_1.5/B/224617__akshaylaya__tha-b-124.wav',\n",
              " '/root/mir_datasets/mridangam_stroke/mridangam_stroke_1.5/B/224618__akshaylaya__tha-b-125.wav',\n",
              " '/root/mir_datasets/mridangam_stroke/mridangam_stroke_1.5/B/224619__akshaylaya__tha-b-126.wav',\n",
              " '/root/mir_datasets/mridangam_stroke/mridangam_stroke_1.5/B/224620__akshaylaya__tha-b-127.wav',\n",
              " '/root/mir_datasets/mridangam_stroke/mridangam_stroke_1.5/B/224621__akshaylaya__tha-b-128.wav',\n",
              " '/root/mir_datasets/mridangam_stroke/mridangam_stroke_1.5/B/224622__akshaylaya__tha-b-129.wav',\n",
              " '/root/mir_datasets/mridangam_stroke/mridangam_stroke_1.5/B/224623__akshaylaya__tha-b-130.wav',\n",
              " '/root/mir_datasets/mridangam_stroke/mridangam_stroke_1.5/B/224624__akshaylaya__tha-b-131.wav',\n",
              " '/root/mir_datasets/mridangam_stroke/mridangam_stroke_1.5/B/224625__akshaylaya__tha-b-132.wav',\n",
              " '/root/mir_datasets/mridangam_stroke/mridangam_stroke_1.5/B/224626__akshaylaya__tha-b-133.wav',\n",
              " '/root/mir_datasets/mridangam_stroke/mridangam_stroke_1.5/B/224627__akshaylaya__tha-b-134.wav',\n",
              " '/root/mir_datasets/mridangam_stroke/mridangam_stroke_1.5/B/224628__akshaylaya__tha-b-135.wav',\n",
              " '/root/mir_datasets/mridangam_stroke/mridangam_stroke_1.5/B/224629__akshaylaya__tha-b-136.wav',\n",
              " '/root/mir_datasets/mridangam_stroke/mridangam_stroke_1.5/B/224630__akshaylaya__tha-b-137.wav',\n",
              " '/root/mir_datasets/mridangam_stroke/mridangam_stroke_1.5/B/224631__akshaylaya__tha-b-138.wav',\n",
              " '/root/mir_datasets/mridangam_stroke/mridangam_stroke_1.5/B/224632__akshaylaya__tha-b-139.wav',\n",
              " '/root/mir_datasets/mridangam_stroke/mridangam_stroke_1.5/B/224633__akshaylaya__tha-b-140.wav',\n",
              " '/root/mir_datasets/mridangam_stroke/mridangam_stroke_1.5/B/224634__akshaylaya__tha-b-141.wav',\n",
              " '/root/mir_datasets/mridangam_stroke/mridangam_stroke_1.5/B/224635__akshaylaya__tha-b-142.wav',\n",
              " '/root/mir_datasets/mridangam_stroke/mridangam_stroke_1.5/B/224636__akshaylaya__tha-b-143.wav',\n",
              " '/root/mir_datasets/mridangam_stroke/mridangam_stroke_1.5/B/224637__akshaylaya__tha-b-144.wav',\n",
              " '/root/mir_datasets/mridangam_stroke/mridangam_stroke_1.5/B/224638__akshaylaya__tha-b-145.wav',\n",
              " '/root/mir_datasets/mridangam_stroke/mridangam_stroke_1.5/B/224639__akshaylaya__tha-b-146.wav',\n",
              " '/root/mir_datasets/mridangam_stroke/mridangam_stroke_1.5/B/224640__akshaylaya__tha-b-147.wav',\n",
              " '/root/mir_datasets/mridangam_stroke/mridangam_stroke_1.5/B/224641__akshaylaya__tha-b-148.wav',\n",
              " '/root/mir_datasets/mridangam_stroke/mridangam_stroke_1.5/B/224642__akshaylaya__tha-b-149.wav',\n",
              " '/root/mir_datasets/mridangam_stroke/mridangam_stroke_1.5/B/224643__akshaylaya__tha-b-150.wav',\n",
              " '/root/mir_datasets/mridangam_stroke/mridangam_stroke_1.5/B/224644__akshaylaya__tha-b-151.wav',\n",
              " '/root/mir_datasets/mridangam_stroke/mridangam_stroke_1.5/B/224645__akshaylaya__tha-b-152.wav',\n",
              " '/root/mir_datasets/mridangam_stroke/mridangam_stroke_1.5/B/224646__akshaylaya__tha-b-153.wav',\n",
              " '/root/mir_datasets/mridangam_stroke/mridangam_stroke_1.5/B/224647__akshaylaya__tha-b-154.wav',\n",
              " '/root/mir_datasets/mridangam_stroke/mridangam_stroke_1.5/B/224648__akshaylaya__tha-b-155.wav',\n",
              " '/root/mir_datasets/mridangam_stroke/mridangam_stroke_1.5/B/224649__akshaylaya__tha-b-156.wav',\n",
              " '/root/mir_datasets/mridangam_stroke/mridangam_stroke_1.5/B/224650__akshaylaya__tha-b-157.wav',\n",
              " '/root/mir_datasets/mridangam_stroke/mridangam_stroke_1.5/B/224651__akshaylaya__tha-b-158.wav',\n",
              " '/root/mir_datasets/mridangam_stroke/mridangam_stroke_1.5/B/224652__akshaylaya__tha-b-159.wav',\n",
              " '/root/mir_datasets/mridangam_stroke/mridangam_stroke_1.5/B/224653__akshaylaya__tha-b-160.wav',\n",
              " '/root/mir_datasets/mridangam_stroke/mridangam_stroke_1.5/B/224654__akshaylaya__tha-b-161.wav',\n",
              " '/root/mir_datasets/mridangam_stroke/mridangam_stroke_1.5/B/224655__akshaylaya__tha-b-162.wav',\n",
              " '/root/mir_datasets/mridangam_stroke/mridangam_stroke_1.5/B/224656__akshaylaya__tha-b-163.wav',\n",
              " '/root/mir_datasets/mridangam_stroke/mridangam_stroke_1.5/B/224657__akshaylaya__tha-b-164.wav',\n",
              " '/root/mir_datasets/mridangam_stroke/mridangam_stroke_1.5/B/224658__akshaylaya__tha-b-165.wav',\n",
              " '/root/mir_datasets/mridangam_stroke/mridangam_stroke_1.5/B/224659__akshaylaya__tha-b-166.wav',\n",
              " '/root/mir_datasets/mridangam_stroke/mridangam_stroke_1.5/B/224660__akshaylaya__tha-b-167.wav',\n",
              " '/root/mir_datasets/mridangam_stroke/mridangam_stroke_1.5/B/224661__akshaylaya__tha-b-168.wav',\n",
              " '/root/mir_datasets/mridangam_stroke/mridangam_stroke_1.5/B/224662__akshaylaya__tha-b-169.wav',\n",
              " '/root/mir_datasets/mridangam_stroke/mridangam_stroke_1.5/B/224663__akshaylaya__tha-b-170.wav',\n",
              " '/root/mir_datasets/mridangam_stroke/mridangam_stroke_1.5/B/224664__akshaylaya__tha-b-171.wav',\n",
              " '/root/mir_datasets/mridangam_stroke/mridangam_stroke_1.5/B/224665__akshaylaya__tha-b-172.wav',\n",
              " '/root/mir_datasets/mridangam_stroke/mridangam_stroke_1.5/B/224666__akshaylaya__tha-b-173.wav',\n",
              " '/root/mir_datasets/mridangam_stroke/mridangam_stroke_1.5/B/224667__akshaylaya__tha-b-174.wav',\n",
              " '/root/mir_datasets/mridangam_stroke/mridangam_stroke_1.5/B/224668__akshaylaya__tha-b-175.wav',\n",
              " '/root/mir_datasets/mridangam_stroke/mridangam_stroke_1.5/B/224669__akshaylaya__tha-b-176.wav',\n",
              " '/root/mir_datasets/mridangam_stroke/mridangam_stroke_1.5/B/224670__akshaylaya__tha-b-177.wav',\n",
              " '/root/mir_datasets/mridangam_stroke/mridangam_stroke_1.5/B/224671__akshaylaya__tha-b-178.wav',\n",
              " '/root/mir_datasets/mridangam_stroke/mridangam_stroke_1.5/B/224672__akshaylaya__tha-b-179.wav',\n",
              " '/root/mir_datasets/mridangam_stroke/mridangam_stroke_1.5/B/224673__akshaylaya__tha-b-180.wav',\n",
              " '/root/mir_datasets/mridangam_stroke/mridangam_stroke_1.5/B/224674__akshaylaya__tha-b-181.wav',\n",
              " '/root/mir_datasets/mridangam_stroke/mridangam_stroke_1.5/B/224675__akshaylaya__tha-b-182.wav',\n",
              " '/root/mir_datasets/mridangam_stroke/mridangam_stroke_1.5/B/224676__akshaylaya__tha-b-183.wav',\n",
              " '/root/mir_datasets/mridangam_stroke/mridangam_stroke_1.5/B/224677__akshaylaya__tha-b-184.wav',\n",
              " '/root/mir_datasets/mridangam_stroke/mridangam_stroke_1.5/B/224678__akshaylaya__tha-b-185.wav',\n",
              " '/root/mir_datasets/mridangam_stroke/mridangam_stroke_1.5/B/224679__akshaylaya__tha-b-186.wav',\n",
              " '/root/mir_datasets/mridangam_stroke/mridangam_stroke_1.5/B/224680__akshaylaya__tha-b-187.wav',\n",
              " '/root/mir_datasets/mridangam_stroke/mridangam_stroke_1.5/B/224681__akshaylaya__tha-b-188.wav',\n",
              " '/root/mir_datasets/mridangam_stroke/mridangam_stroke_1.5/B/224682__akshaylaya__tha-b-189.wav',\n",
              " '/root/mir_datasets/mridangam_stroke/mridangam_stroke_1.5/B/224683__akshaylaya__tha-b-190.wav',\n",
              " '/root/mir_datasets/mridangam_stroke/mridangam_stroke_1.5/B/224684__akshaylaya__tha-b-191.wav',\n",
              " '/root/mir_datasets/mridangam_stroke/mridangam_stroke_1.5/B/224685__akshaylaya__tha-b-192.wav',\n",
              " '/root/mir_datasets/mridangam_stroke/mridangam_stroke_1.5/B/224686__akshaylaya__tha-b-193.wav',\n",
              " '/root/mir_datasets/mridangam_stroke/mridangam_stroke_1.5/B/224687__akshaylaya__tha-b-194.wav',\n",
              " '/root/mir_datasets/mridangam_stroke/mridangam_stroke_1.5/B/224689__akshaylaya__tha-b-196.wav',\n",
              " '/root/mir_datasets/mridangam_stroke/mridangam_stroke_1.5/B/224690__akshaylaya__tha-b-197.wav',\n",
              " '/root/mir_datasets/mridangam_stroke/mridangam_stroke_1.5/B/224691__akshaylaya__tha-b-198.wav',\n",
              " '/root/mir_datasets/mridangam_stroke/mridangam_stroke_1.5/B/224692__akshaylaya__tha-b-199.wav',\n",
              " '/root/mir_datasets/mridangam_stroke/mridangam_stroke_1.5/B/224693__akshaylaya__tha-b-200.wav',\n",
              " '/root/mir_datasets/mridangam_stroke/mridangam_stroke_1.5/B/224694__akshaylaya__tham-b-001.wav',\n",
              " '/root/mir_datasets/mridangam_stroke/mridangam_stroke_1.5/B/224695__akshaylaya__tham-b-002.wav',\n",
              " '/root/mir_datasets/mridangam_stroke/mridangam_stroke_1.5/B/224696__akshaylaya__tham-b-003.wav',\n",
              " '/root/mir_datasets/mridangam_stroke/mridangam_stroke_1.5/B/224697__akshaylaya__tham-b-004.wav',\n",
              " '/root/mir_datasets/mridangam_stroke/mridangam_stroke_1.5/B/224698__akshaylaya__tham-b-005.wav',\n",
              " '/root/mir_datasets/mridangam_stroke/mridangam_stroke_1.5/B/224699__akshaylaya__tham-b-006.wav',\n",
              " '/root/mir_datasets/mridangam_stroke/mridangam_stroke_1.5/B/224700__akshaylaya__tham-b-007.wav',\n",
              " '/root/mir_datasets/mridangam_stroke/mridangam_stroke_1.5/B/224701__akshaylaya__tham-b-008.wav',\n",
              " '/root/mir_datasets/mridangam_stroke/mridangam_stroke_1.5/B/224702__akshaylaya__tham-b-009.wav',\n",
              " '/root/mir_datasets/mridangam_stroke/mridangam_stroke_1.5/B/224703__akshaylaya__tham-b-010.wav',\n",
              " '/root/mir_datasets/mridangam_stroke/mridangam_stroke_1.5/B/224704__akshaylaya__tham-b-011.wav',\n",
              " '/root/mir_datasets/mridangam_stroke/mridangam_stroke_1.5/B/224705__akshaylaya__tham-b-012.wav',\n",
              " '/root/mir_datasets/mridangam_stroke/mridangam_stroke_1.5/B/224706__akshaylaya__tham-b-013.wav',\n",
              " '/root/mir_datasets/mridangam_stroke/mridangam_stroke_1.5/B/224707__akshaylaya__tham-b-014.wav',\n",
              " '/root/mir_datasets/mridangam_stroke/mridangam_stroke_1.5/B/224708__akshaylaya__tham-b-015.wav',\n",
              " '/root/mir_datasets/mridangam_stroke/mridangam_stroke_1.5/B/224709__akshaylaya__tham-b-016.wav',\n",
              " '/root/mir_datasets/mridangam_stroke/mridangam_stroke_1.5/B/224710__akshaylaya__tham-b-017.wav',\n",
              " '/root/mir_datasets/mridangam_stroke/mridangam_stroke_1.5/B/224711__akshaylaya__tham-b-018.wav',\n",
              " '/root/mir_datasets/mridangam_stroke/mridangam_stroke_1.5/B/224712__akshaylaya__tham-b-019.wav',\n",
              " '/root/mir_datasets/mridangam_stroke/mridangam_stroke_1.5/B/224713__akshaylaya__tham-b-020.wav',\n",
              " '/root/mir_datasets/mridangam_stroke/mridangam_stroke_1.5/B/224714__akshaylaya__tham-b-021.wav',\n",
              " '/root/mir_datasets/mridangam_stroke/mridangam_stroke_1.5/B/224715__akshaylaya__tham-b-022.wav',\n",
              " '/root/mir_datasets/mridangam_stroke/mridangam_stroke_1.5/B/224716__akshaylaya__tham-b-023.wav',\n",
              " '/root/mir_datasets/mridangam_stroke/mridangam_stroke_1.5/B/224717__akshaylaya__tham-b-024.wav',\n",
              " '/root/mir_datasets/mridangam_stroke/mridangam_stroke_1.5/B/224718__akshaylaya__tham-b-025.wav',\n",
              " '/root/mir_datasets/mridangam_stroke/mridangam_stroke_1.5/B/224719__akshaylaya__tham-b-026.wav',\n",
              " '/root/mir_datasets/mridangam_stroke/mridangam_stroke_1.5/B/224720__akshaylaya__tham-b-027.wav',\n",
              " '/root/mir_datasets/mridangam_stroke/mridangam_stroke_1.5/B/224721__akshaylaya__tham-b-028.wav',\n",
              " '/root/mir_datasets/mridangam_stroke/mridangam_stroke_1.5/B/224722__akshaylaya__tham-b-029.wav',\n",
              " '/root/mir_datasets/mridangam_stroke/mridangam_stroke_1.5/B/224723__akshaylaya__tham-b-030.wav',\n",
              " '/root/mir_datasets/mridangam_stroke/mridangam_stroke_1.5/B/224724__akshaylaya__tham-b-031.wav',\n",
              " '/root/mir_datasets/mridangam_stroke/mridangam_stroke_1.5/B/224725__akshaylaya__tham-b-032.wav',\n",
              " '/root/mir_datasets/mridangam_stroke/mridangam_stroke_1.5/B/224726__akshaylaya__tham-b-033.wav',\n",
              " '/root/mir_datasets/mridangam_stroke/mridangam_stroke_1.5/B/224727__akshaylaya__tham-b-034.wav',\n",
              " '/root/mir_datasets/mridangam_stroke/mridangam_stroke_1.5/B/224728__akshaylaya__tham-b-035.wav',\n",
              " '/root/mir_datasets/mridangam_stroke/mridangam_stroke_1.5/B/224730__akshaylaya__tham-b-037.wav',\n",
              " '/root/mir_datasets/mridangam_stroke/mridangam_stroke_1.5/B/224731__akshaylaya__tham-b-038.wav',\n",
              " '/root/mir_datasets/mridangam_stroke/mridangam_stroke_1.5/B/224732__akshaylaya__tham-b-039.wav',\n",
              " '/root/mir_datasets/mridangam_stroke/mridangam_stroke_1.5/B/224733__akshaylaya__tham-b-040.wav',\n",
              " '/root/mir_datasets/mridangam_stroke/mridangam_stroke_1.5/B/224734__akshaylaya__tham-b-041.wav',\n",
              " '/root/mir_datasets/mridangam_stroke/mridangam_stroke_1.5/B/224735__akshaylaya__tham-b-042.wav',\n",
              " '/root/mir_datasets/mridangam_stroke/mridangam_stroke_1.5/B/224736__akshaylaya__tham-b-043.wav',\n",
              " '/root/mir_datasets/mridangam_stroke/mridangam_stroke_1.5/B/224737__akshaylaya__tham-b-044.wav',\n",
              " '/root/mir_datasets/mridangam_stroke/mridangam_stroke_1.5/B/224738__akshaylaya__tham-b-045.wav',\n",
              " '/root/mir_datasets/mridangam_stroke/mridangam_stroke_1.5/B/224739__akshaylaya__tham-b-046.wav',\n",
              " '/root/mir_datasets/mridangam_stroke/mridangam_stroke_1.5/B/224740__akshaylaya__tham-b-047.wav',\n",
              " '/root/mir_datasets/mridangam_stroke/mridangam_stroke_1.5/B/224741__akshaylaya__tham-b-048.wav',\n",
              " '/root/mir_datasets/mridangam_stroke/mridangam_stroke_1.5/B/224742__akshaylaya__tham-b-049.wav',\n",
              " '/root/mir_datasets/mridangam_stroke/mridangam_stroke_1.5/B/224743__akshaylaya__tham-b-050.wav',\n",
              " '/root/mir_datasets/mridangam_stroke/mridangam_stroke_1.5/B/224744__akshaylaya__tham-b-051.wav',\n",
              " '/root/mir_datasets/mridangam_stroke/mridangam_stroke_1.5/B/224745__akshaylaya__tham-b-052.wav',\n",
              " '/root/mir_datasets/mridangam_stroke/mridangam_stroke_1.5/B/224746__akshaylaya__tham-b-053.wav',\n",
              " '/root/mir_datasets/mridangam_stroke/mridangam_stroke_1.5/B/224747__akshaylaya__tham-b-054.wav',\n",
              " '/root/mir_datasets/mridangam_stroke/mridangam_stroke_1.5/B/224748__akshaylaya__tham-b-055.wav',\n",
              " '/root/mir_datasets/mridangam_stroke/mridangam_stroke_1.5/B/224749__akshaylaya__tham-b-056.wav',\n",
              " '/root/mir_datasets/mridangam_stroke/mridangam_stroke_1.5/B/224750__akshaylaya__tham-b-057.wav',\n",
              " '/root/mir_datasets/mridangam_stroke/mridangam_stroke_1.5/B/224751__akshaylaya__tham-b-058.wav',\n",
              " '/root/mir_datasets/mridangam_stroke/mridangam_stroke_1.5/B/224752__akshaylaya__tham-b-059.wav',\n",
              " '/root/mir_datasets/mridangam_stroke/mridangam_stroke_1.5/B/224753__akshaylaya__tham-b-060.wav',\n",
              " '/root/mir_datasets/mridangam_stroke/mridangam_stroke_1.5/B/224754__akshaylaya__tham-b-061.wav',\n",
              " '/root/mir_datasets/mridangam_stroke/mridangam_stroke_1.5/B/224755__akshaylaya__tham-b-062.wav',\n",
              " '/root/mir_datasets/mridangam_stroke/mridangam_stroke_1.5/B/224756__akshaylaya__tham-b-063.wav',\n",
              " '/root/mir_datasets/mridangam_stroke/mridangam_stroke_1.5/B/224757__akshaylaya__tham-b-064.wav',\n",
              " '/root/mir_datasets/mridangam_stroke/mridangam_stroke_1.5/B/224758__akshaylaya__tham-b-065.wav',\n",
              " '/root/mir_datasets/mridangam_stroke/mridangam_stroke_1.5/B/224759__akshaylaya__tham-b-066.wav',\n",
              " '/root/mir_datasets/mridangam_stroke/mridangam_stroke_1.5/B/224760__akshaylaya__tham-b-067.wav',\n",
              " '/root/mir_datasets/mridangam_stroke/mridangam_stroke_1.5/B/224761__akshaylaya__tham-b-068.wav',\n",
              " '/root/mir_datasets/mridangam_stroke/mridangam_stroke_1.5/B/224762__akshaylaya__tham-b-069.wav',\n",
              " '/root/mir_datasets/mridangam_stroke/mridangam_stroke_1.5/B/224763__akshaylaya__tham-b-070.wav',\n",
              " '/root/mir_datasets/mridangam_stroke/mridangam_stroke_1.5/B/224764__akshaylaya__tham-b-071.wav',\n",
              " '/root/mir_datasets/mridangam_stroke/mridangam_stroke_1.5/B/224765__akshaylaya__tham-b-072.wav',\n",
              " '/root/mir_datasets/mridangam_stroke/mridangam_stroke_1.5/B/224766__akshaylaya__tham-b-073.wav',\n",
              " '/root/mir_datasets/mridangam_stroke/mridangam_stroke_1.5/B/224767__akshaylaya__tham-b-074.wav',\n",
              " '/root/mir_datasets/mridangam_stroke/mridangam_stroke_1.5/B/224768__akshaylaya__tham-b-075.wav',\n",
              " '/root/mir_datasets/mridangam_stroke/mridangam_stroke_1.5/B/224769__akshaylaya__tham-b-076.wav',\n",
              " '/root/mir_datasets/mridangam_stroke/mridangam_stroke_1.5/B/224770__akshaylaya__tham-b-077.wav',\n",
              " '/root/mir_datasets/mridangam_stroke/mridangam_stroke_1.5/B/224771__akshaylaya__tham-b-078.wav',\n",
              " '/root/mir_datasets/mridangam_stroke/mridangam_stroke_1.5/B/224772__akshaylaya__tham-b-079.wav',\n",
              " '/root/mir_datasets/mridangam_stroke/mridangam_stroke_1.5/B/224773__akshaylaya__tham-b-080.wav',\n",
              " '/root/mir_datasets/mridangam_stroke/mridangam_stroke_1.5/B/224774__akshaylaya__tham-b-081.wav',\n",
              " '/root/mir_datasets/mridangam_stroke/mridangam_stroke_1.5/B/224775__akshaylaya__tham-b-082.wav',\n",
              " '/root/mir_datasets/mridangam_stroke/mridangam_stroke_1.5/B/224776__akshaylaya__tham-b-083.wav',\n",
              " '/root/mir_datasets/mridangam_stroke/mridangam_stroke_1.5/B/224777__akshaylaya__tham-b-084.wav',\n",
              " '/root/mir_datasets/mridangam_stroke/mridangam_stroke_1.5/B/224778__akshaylaya__tham-b-085.wav',\n",
              " '/root/mir_datasets/mridangam_stroke/mridangam_stroke_1.5/B/224779__akshaylaya__tham-b-086.wav',\n",
              " '/root/mir_datasets/mridangam_stroke/mridangam_stroke_1.5/B/224780__akshaylaya__tham-b-087.wav',\n",
              " '/root/mir_datasets/mridangam_stroke/mridangam_stroke_1.5/B/224781__akshaylaya__tham-b-088.wav',\n",
              " '/root/mir_datasets/mridangam_stroke/mridangam_stroke_1.5/B/224782__akshaylaya__thi-b-001.wav',\n",
              " '/root/mir_datasets/mridangam_stroke/mridangam_stroke_1.5/B/224783__akshaylaya__thi-b-002.wav',\n",
              " '/root/mir_datasets/mridangam_stroke/mridangam_stroke_1.5/B/224784__akshaylaya__thi-b-003.wav',\n",
              " '/root/mir_datasets/mridangam_stroke/mridangam_stroke_1.5/B/224785__akshaylaya__thi-b-004.wav',\n",
              " '/root/mir_datasets/mridangam_stroke/mridangam_stroke_1.5/B/224786__akshaylaya__thi-b-005.wav',\n",
              " '/root/mir_datasets/mridangam_stroke/mridangam_stroke_1.5/B/224787__akshaylaya__thi-b-006.wav',\n",
              " '/root/mir_datasets/mridangam_stroke/mridangam_stroke_1.5/B/224788__akshaylaya__thi-b-007.wav',\n",
              " '/root/mir_datasets/mridangam_stroke/mridangam_stroke_1.5/B/224789__akshaylaya__thi-b-008.wav',\n",
              " '/root/mir_datasets/mridangam_stroke/mridangam_stroke_1.5/B/224790__akshaylaya__thi-b-009.wav',\n",
              " '/root/mir_datasets/mridangam_stroke/mridangam_stroke_1.5/B/224791__akshaylaya__thi-b-010.wav',\n",
              " '/root/mir_datasets/mridangam_stroke/mridangam_stroke_1.5/B/224792__akshaylaya__thi-b-011.wav',\n",
              " '/root/mir_datasets/mridangam_stroke/mridangam_stroke_1.5/B/224793__akshaylaya__thi-b-012.wav',\n",
              " '/root/mir_datasets/mridangam_stroke/mridangam_stroke_1.5/B/224794__akshaylaya__thi-b-013.wav',\n",
              " '/root/mir_datasets/mridangam_stroke/mridangam_stroke_1.5/B/224795__akshaylaya__thi-b-014.wav',\n",
              " '/root/mir_datasets/mridangam_stroke/mridangam_stroke_1.5/B/224796__akshaylaya__thi-b-015.wav',\n",
              " '/root/mir_datasets/mridangam_stroke/mridangam_stroke_1.5/B/224797__akshaylaya__thi-b-016.wav',\n",
              " '/root/mir_datasets/mridangam_stroke/mridangam_stroke_1.5/B/224798__akshaylaya__thi-b-017.wav',\n",
              " '/root/mir_datasets/mridangam_stroke/mridangam_stroke_1.5/B/224799__akshaylaya__thi-b-018.wav',\n",
              " '/root/mir_datasets/mridangam_stroke/mridangam_stroke_1.5/B/224800__akshaylaya__thi-b-019.wav',\n",
              " '/root/mir_datasets/mridangam_stroke/mridangam_stroke_1.5/B/224801__akshaylaya__thi-b-020.wav',\n",
              " '/root/mir_datasets/mridangam_stroke/mridangam_stroke_1.5/B/224802__akshaylaya__thi-b-021.wav',\n",
              " '/root/mir_datasets/mridangam_stroke/mridangam_stroke_1.5/B/224803__akshaylaya__thi-b-022.wav',\n",
              " '/root/mir_datasets/mridangam_stroke/mridangam_stroke_1.5/B/224804__akshaylaya__thi-b-023.wav',\n",
              " '/root/mir_datasets/mridangam_stroke/mridangam_stroke_1.5/B/224805__akshaylaya__thi-b-024.wav',\n",
              " '/root/mir_datasets/mridangam_stroke/mridangam_stroke_1.5/B/224806__akshaylaya__thi-b-025.wav',\n",
              " '/root/mir_datasets/mridangam_stroke/mridangam_stroke_1.5/B/224807__akshaylaya__thi-b-026.wav',\n",
              " '/root/mir_datasets/mridangam_stroke/mridangam_stroke_1.5/B/224808__akshaylaya__thi-b-027.wav',\n",
              " '/root/mir_datasets/mridangam_stroke/mridangam_stroke_1.5/B/224809__akshaylaya__thi-b-028.wav',\n",
              " '/root/mir_datasets/mridangam_stroke/mridangam_stroke_1.5/B/224810__akshaylaya__thi-b-029.wav',\n",
              " '/root/mir_datasets/mridangam_stroke/mridangam_stroke_1.5/B/224811__akshaylaya__thi-b-030.wav',\n",
              " '/root/mir_datasets/mridangam_stroke/mridangam_stroke_1.5/B/224812__akshaylaya__thi-b-031.wav',\n",
              " '/root/mir_datasets/mridangam_stroke/mridangam_stroke_1.5/B/224813__akshaylaya__thi-b-032.wav',\n",
              " '/root/mir_datasets/mridangam_stroke/mridangam_stroke_1.5/B/224814__akshaylaya__thi-b-033.wav',\n",
              " '/root/mir_datasets/mridangam_stroke/mridangam_stroke_1.5/B/224815__akshaylaya__thi-b-034.wav',\n",
              " '/root/mir_datasets/mridangam_stroke/mridangam_stroke_1.5/B/224816__akshaylaya__thi-b-035.wav',\n",
              " '/root/mir_datasets/mridangam_stroke/mridangam_stroke_1.5/B/224817__akshaylaya__thi-b-036.wav',\n",
              " '/root/mir_datasets/mridangam_stroke/mridangam_stroke_1.5/B/224818__akshaylaya__thi-b-037.wav',\n",
              " '/root/mir_datasets/mridangam_stroke/mridangam_stroke_1.5/B/224819__akshaylaya__thi-b-038.wav',\n",
              " '/root/mir_datasets/mridangam_stroke/mridangam_stroke_1.5/B/224820__akshaylaya__thi-b-039.wav',\n",
              " '/root/mir_datasets/mridangam_stroke/mridangam_stroke_1.5/B/224821__akshaylaya__thi-b-040.wav',\n",
              " '/root/mir_datasets/mridangam_stroke/mridangam_stroke_1.5/B/224822__akshaylaya__thi-b-041.wav',\n",
              " '/root/mir_datasets/mridangam_stroke/mridangam_stroke_1.5/B/224823__akshaylaya__thi-b-042.wav',\n",
              " '/root/mir_datasets/mridangam_stroke/mridangam_stroke_1.5/B/224824__akshaylaya__thi-b-043.wav',\n",
              " '/root/mir_datasets/mridangam_stroke/mridangam_stroke_1.5/B/224825__akshaylaya__thi-b-044.wav',\n",
              " '/root/mir_datasets/mridangam_stroke/mridangam_stroke_1.5/B/224826__akshaylaya__thi-b-045.wav',\n",
              " '/root/mir_datasets/mridangam_stroke/mridangam_stroke_1.5/B/224827__akshaylaya__thi-b-046.wav',\n",
              " '/root/mir_datasets/mridangam_stroke/mridangam_stroke_1.5/B/224828__akshaylaya__thi-b-047.wav',\n",
              " '/root/mir_datasets/mridangam_stroke/mridangam_stroke_1.5/B/224829__akshaylaya__thi-b-048.wav',\n",
              " '/root/mir_datasets/mridangam_stroke/mridangam_stroke_1.5/B/224830__akshaylaya__thi-b-049.wav',\n",
              " '/root/mir_datasets/mridangam_stroke/mridangam_stroke_1.5/B/224831__akshaylaya__thi-b-050.wav',\n",
              " '/root/mir_datasets/mridangam_stroke/mridangam_stroke_1.5/B/224832__akshaylaya__thi-b-051.wav',\n",
              " '/root/mir_datasets/mridangam_stroke/mridangam_stroke_1.5/B/224833__akshaylaya__thi-b-052.wav',\n",
              " '/root/mir_datasets/mridangam_stroke/mridangam_stroke_1.5/B/224834__akshaylaya__thi-b-053.wav',\n",
              " '/root/mir_datasets/mridangam_stroke/mridangam_stroke_1.5/B/224835__akshaylaya__thi-b-054.wav',\n",
              " '/root/mir_datasets/mridangam_stroke/mridangam_stroke_1.5/B/224836__akshaylaya__thi-b-055.wav',\n",
              " '/root/mir_datasets/mridangam_stroke/mridangam_stroke_1.5/B/224837__akshaylaya__thi-b-056.wav',\n",
              " '/root/mir_datasets/mridangam_stroke/mridangam_stroke_1.5/B/224838__akshaylaya__thi-b-057.wav',\n",
              " '/root/mir_datasets/mridangam_stroke/mridangam_stroke_1.5/B/224839__akshaylaya__thi-b-058.wav',\n",
              " '/root/mir_datasets/mridangam_stroke/mridangam_stroke_1.5/B/224840__akshaylaya__thi-b-059.wav',\n",
              " '/root/mir_datasets/mridangam_stroke/mridangam_stroke_1.5/B/224841__akshaylaya__thi-b-060.wav',\n",
              " '/root/mir_datasets/mridangam_stroke/mridangam_stroke_1.5/B/224842__akshaylaya__thi-b-061.wav',\n",
              " '/root/mir_datasets/mridangam_stroke/mridangam_stroke_1.5/B/224843__akshaylaya__thi-b-062.wav',\n",
              " '/root/mir_datasets/mridangam_stroke/mridangam_stroke_1.5/B/224844__akshaylaya__thi-b-063.wav',\n",
              " '/root/mir_datasets/mridangam_stroke/mridangam_stroke_1.5/B/224845__akshaylaya__thi-b-064.wav',\n",
              " '/root/mir_datasets/mridangam_stroke/mridangam_stroke_1.5/B/224846__akshaylaya__thi-b-065.wav',\n",
              " '/root/mir_datasets/mridangam_stroke/mridangam_stroke_1.5/B/224847__akshaylaya__thi-b-066.wav',\n",
              " '/root/mir_datasets/mridangam_stroke/mridangam_stroke_1.5/B/224848__akshaylaya__thi-b-067.wav',\n",
              " '/root/mir_datasets/mridangam_stroke/mridangam_stroke_1.5/B/224849__akshaylaya__thi-b-068.wav',\n",
              " '/root/mir_datasets/mridangam_stroke/mridangam_stroke_1.5/B/224850__akshaylaya__thi-b-069.wav',\n",
              " '/root/mir_datasets/mridangam_stroke/mridangam_stroke_1.5/B/224851__akshaylaya__thi-b-070.wav',\n",
              " '/root/mir_datasets/mridangam_stroke/mridangam_stroke_1.5/B/224852__akshaylaya__thi-b-071.wav',\n",
              " '/root/mir_datasets/mridangam_stroke/mridangam_stroke_1.5/B/224853__akshaylaya__thi-b-072.wav',\n",
              " '/root/mir_datasets/mridangam_stroke/mridangam_stroke_1.5/B/224854__akshaylaya__thi-b-073.wav',\n",
              " '/root/mir_datasets/mridangam_stroke/mridangam_stroke_1.5/B/224855__akshaylaya__thi-b-074.wav',\n",
              " '/root/mir_datasets/mridangam_stroke/mridangam_stroke_1.5/B/224856__akshaylaya__thi-b-075.wav',\n",
              " '/root/mir_datasets/mridangam_stroke/mridangam_stroke_1.5/B/224857__akshaylaya__thi-b-076.wav',\n",
              " '/root/mir_datasets/mridangam_stroke/mridangam_stroke_1.5/B/224858__akshaylaya__thi-b-077.wav',\n",
              " '/root/mir_datasets/mridangam_stroke/mridangam_stroke_1.5/B/224859__akshaylaya__thi-b-078.wav',\n",
              " '/root/mir_datasets/mridangam_stroke/mridangam_stroke_1.5/B/224860__akshaylaya__thi-b-079.wav',\n",
              " '/root/mir_datasets/mridangam_stroke/mridangam_stroke_1.5/B/224861__akshaylaya__thi-b-080.wav',\n",
              " '/root/mir_datasets/mridangam_stroke/mridangam_stroke_1.5/B/224862__akshaylaya__thi-b-081.wav',\n",
              " '/root/mir_datasets/mridangam_stroke/mridangam_stroke_1.5/B/224863__akshaylaya__thi-b-082.wav',\n",
              " '/root/mir_datasets/mridangam_stroke/mridangam_stroke_1.5/B/224864__akshaylaya__thi-b-083.wav',\n",
              " '/root/mir_datasets/mridangam_stroke/mridangam_stroke_1.5/B/224865__akshaylaya__thi-b-084.wav',\n",
              " '/root/mir_datasets/mridangam_stroke/mridangam_stroke_1.5/B/224866__akshaylaya__thi-b-085.wav',\n",
              " '/root/mir_datasets/mridangam_stroke/mridangam_stroke_1.5/B/224867__akshaylaya__thi-b-086.wav',\n",
              " '/root/mir_datasets/mridangam_stroke/mridangam_stroke_1.5/B/224868__akshaylaya__thi-b-087.wav',\n",
              " '/root/mir_datasets/mridangam_stroke/mridangam_stroke_1.5/B/224869__akshaylaya__thi-b-088.wav',\n",
              " '/root/mir_datasets/mridangam_stroke/mridangam_stroke_1.5/B/224870__akshaylaya__thi-b-089.wav',\n",
              " '/root/mir_datasets/mridangam_stroke/mridangam_stroke_1.5/B/224871__akshaylaya__thi-b-090.wav',\n",
              " '/root/mir_datasets/mridangam_stroke/mridangam_stroke_1.5/B/224872__akshaylaya__thi-b-091.wav',\n",
              " '/root/mir_datasets/mridangam_stroke/mridangam_stroke_1.5/B/224873__akshaylaya__thi-b-092.wav',\n",
              " '/root/mir_datasets/mridangam_stroke/mridangam_stroke_1.5/B/224874__akshaylaya__thi-b-093.wav',\n",
              " '/root/mir_datasets/mridangam_stroke/mridangam_stroke_1.5/B/224875__akshaylaya__thi-b-094.wav',\n",
              " '/root/mir_datasets/mridangam_stroke/mridangam_stroke_1.5/B/224876__akshaylaya__thi-b-095.wav',\n",
              " '/root/mir_datasets/mridangam_stroke/mridangam_stroke_1.5/B/224877__akshaylaya__thi-b-096.wav',\n",
              " '/root/mir_datasets/mridangam_stroke/mridangam_stroke_1.5/B/224878__akshaylaya__thi-b-097.wav',\n",
              " '/root/mir_datasets/mridangam_stroke/mridangam_stroke_1.5/B/224879__akshaylaya__thi-b-098.wav',\n",
              " '/root/mir_datasets/mridangam_stroke/mridangam_stroke_1.5/B/224880__akshaylaya__thi-b-099.wav',\n",
              " '/root/mir_datasets/mridangam_stroke/mridangam_stroke_1.5/B/224881__akshaylaya__thi-b-100.wav',\n",
              " '/root/mir_datasets/mridangam_stroke/mridangam_stroke_1.5/B/224882__akshaylaya__thi-b-101.wav',\n",
              " '/root/mir_datasets/mridangam_stroke/mridangam_stroke_1.5/B/224883__akshaylaya__thi-b-102.wav',\n",
              " '/root/mir_datasets/mridangam_stroke/mridangam_stroke_1.5/B/224884__akshaylaya__thi-b-103.wav',\n",
              " '/root/mir_datasets/mridangam_stroke/mridangam_stroke_1.5/B/224885__akshaylaya__thi-b-104.wav',\n",
              " '/root/mir_datasets/mridangam_stroke/mridangam_stroke_1.5/B/224886__akshaylaya__thi-b-105.wav',\n",
              " '/root/mir_datasets/mridangam_stroke/mridangam_stroke_1.5/B/224887__akshaylaya__thi-b-106.wav',\n",
              " '/root/mir_datasets/mridangam_stroke/mridangam_stroke_1.5/B/224888__akshaylaya__thi-b-107.wav',\n",
              " '/root/mir_datasets/mridangam_stroke/mridangam_stroke_1.5/B/224889__akshaylaya__thi-b-108.wav',\n",
              " '/root/mir_datasets/mridangam_stroke/mridangam_stroke_1.5/B/224890__akshaylaya__thi-b-109.wav',\n",
              " '/root/mir_datasets/mridangam_stroke/mridangam_stroke_1.5/B/224891__akshaylaya__thi-b-110.wav',\n",
              " '/root/mir_datasets/mridangam_stroke/mridangam_stroke_1.5/B/224892__akshaylaya__thi-b-111.wav',\n",
              " '/root/mir_datasets/mridangam_stroke/mridangam_stroke_1.5/B/224893__akshaylaya__thi-b-112.wav',\n",
              " '/root/mir_datasets/mridangam_stroke/mridangam_stroke_1.5/B/224894__akshaylaya__thi-b-113.wav',\n",
              " '/root/mir_datasets/mridangam_stroke/mridangam_stroke_1.5/B/224895__akshaylaya__thi-b-114.wav',\n",
              " '/root/mir_datasets/mridangam_stroke/mridangam_stroke_1.5/B/224896__akshaylaya__thi-b-115.wav',\n",
              " '/root/mir_datasets/mridangam_stroke/mridangam_stroke_1.5/B/224897__akshaylaya__thi-b-116.wav',\n",
              " '/root/mir_datasets/mridangam_stroke/mridangam_stroke_1.5/B/224898__akshaylaya__thi-b-117.wav',\n",
              " '/root/mir_datasets/mridangam_stroke/mridangam_stroke_1.5/B/224899__akshaylaya__thi-b-118.wav',\n",
              " '/root/mir_datasets/mridangam_stroke/mridangam_stroke_1.5/B/224900__akshaylaya__thi-b-119.wav',\n",
              " '/root/mir_datasets/mridangam_stroke/mridangam_stroke_1.5/B/224901__akshaylaya__thi-b-120.wav',\n",
              " '/root/mir_datasets/mridangam_stroke/mridangam_stroke_1.5/B/224902__akshaylaya__thi-b-121.wav',\n",
              " '/root/mir_datasets/mridangam_stroke/mridangam_stroke_1.5/B/224903__akshaylaya__thi-b-122.wav',\n",
              " '/root/mir_datasets/mridangam_stroke/mridangam_stroke_1.5/B/224904__akshaylaya__thi-b-123.wav',\n",
              " '/root/mir_datasets/mridangam_stroke/mridangam_stroke_1.5/B/224905__akshaylaya__thi-b-124.wav',\n",
              " '/root/mir_datasets/mridangam_stroke/mridangam_stroke_1.5/B/224906__akshaylaya__thi-b-125.wav',\n",
              " '/root/mir_datasets/mridangam_stroke/mridangam_stroke_1.5/B/224908__akshaylaya__thi-b-127.wav',\n",
              " '/root/mir_datasets/mridangam_stroke/mridangam_stroke_1.5/B/224909__akshaylaya__thi-b-128.wav',\n",
              " '/root/mir_datasets/mridangam_stroke/mridangam_stroke_1.5/B/224911__akshaylaya__thi-b-130.wav',\n",
              " '/root/mir_datasets/mridangam_stroke/mridangam_stroke_1.5/B/224912__akshaylaya__thi-b-131.wav',\n",
              " '/root/mir_datasets/mridangam_stroke/mridangam_stroke_1.5/B/224913__akshaylaya__thi-b-132.wav',\n",
              " '/root/mir_datasets/mridangam_stroke/mridangam_stroke_1.5/B/224914__akshaylaya__thi-b-133.wav',\n",
              " '/root/mir_datasets/mridangam_stroke/mridangam_stroke_1.5/B/224915__akshaylaya__thi-b-134.wav',\n",
              " '/root/mir_datasets/mridangam_stroke/mridangam_stroke_1.5/B/224916__akshaylaya__thi-b-135.wav',\n",
              " '/root/mir_datasets/mridangam_stroke/mridangam_stroke_1.5/B/224917__akshaylaya__thi-b-136.wav',\n",
              " '/root/mir_datasets/mridangam_stroke/mridangam_stroke_1.5/B/224918__akshaylaya__thi-b-137.wav',\n",
              " '/root/mir_datasets/mridangam_stroke/mridangam_stroke_1.5/B/224919__akshaylaya__thi-b-138.wav',\n",
              " '/root/mir_datasets/mridangam_stroke/mridangam_stroke_1.5/B/224920__akshaylaya__thi-b-139.wav',\n",
              " '/root/mir_datasets/mridangam_stroke/mridangam_stroke_1.5/B/224921__akshaylaya__thi-b-140.wav',\n",
              " '/root/mir_datasets/mridangam_stroke/mridangam_stroke_1.5/B/224922__akshaylaya__thi-b-141.wav',\n",
              " '/root/mir_datasets/mridangam_stroke/mridangam_stroke_1.5/B/224923__akshaylaya__thi-b-142.wav',\n",
              " '/root/mir_datasets/mridangam_stroke/mridangam_stroke_1.5/B/224924__akshaylaya__thi-b-143.wav',\n",
              " '/root/mir_datasets/mridangam_stroke/mridangam_stroke_1.5/B/224925__akshaylaya__thi-b-144.wav',\n",
              " '/root/mir_datasets/mridangam_stroke/mridangam_stroke_1.5/B/224926__akshaylaya__thi-b-145.wav',\n",
              " '/root/mir_datasets/mridangam_stroke/mridangam_stroke_1.5/B/224927__akshaylaya__thi-b-146.wav',\n",
              " '/root/mir_datasets/mridangam_stroke/mridangam_stroke_1.5/B/224928__akshaylaya__thi-b-147.wav',\n",
              " '/root/mir_datasets/mridangam_stroke/mridangam_stroke_1.5/B/224929__akshaylaya__thi-b-148.wav',\n",
              " '/root/mir_datasets/mridangam_stroke/mridangam_stroke_1.5/B/224930__akshaylaya__thi-b-149.wav',\n",
              " '/root/mir_datasets/mridangam_stroke/mridangam_stroke_1.5/B/224931__akshaylaya__thi-b-150.wav',\n",
              " '/root/mir_datasets/mridangam_stroke/mridangam_stroke_1.5/B/224932__akshaylaya__thi-b-151.wav',\n",
              " '/root/mir_datasets/mridangam_stroke/mridangam_stroke_1.5/B/224933__akshaylaya__thi-b-152.wav',\n",
              " '/root/mir_datasets/mridangam_stroke/mridangam_stroke_1.5/B/224934__akshaylaya__thi-b-153.wav',\n",
              " '/root/mir_datasets/mridangam_stroke/mridangam_stroke_1.5/B/224935__akshaylaya__thi-b-154.wav',\n",
              " '/root/mir_datasets/mridangam_stroke/mridangam_stroke_1.5/B/224936__akshaylaya__thi-b-155.wav',\n",
              " '/root/mir_datasets/mridangam_stroke/mridangam_stroke_1.5/B/224937__akshaylaya__thi-b-156.wav',\n",
              " '/root/mir_datasets/mridangam_stroke/mridangam_stroke_1.5/B/224938__akshaylaya__thi-b-157.wav',\n",
              " '/root/mir_datasets/mridangam_stroke/mridangam_stroke_1.5/B/224939__akshaylaya__thi-b-158.wav',\n",
              " '/root/mir_datasets/mridangam_stroke/mridangam_stroke_1.5/B/224940__akshaylaya__thi-b-159.wav',\n",
              " '/root/mir_datasets/mridangam_stroke/mridangam_stroke_1.5/B/224941__akshaylaya__thi-b-160.wav',\n",
              " '/root/mir_datasets/mridangam_stroke/mridangam_stroke_1.5/B/224942__akshaylaya__thi-b-161.wav',\n",
              " '/root/mir_datasets/mridangam_stroke/mridangam_stroke_1.5/B/224943__akshaylaya__thi-b-162.wav',\n",
              " '/root/mir_datasets/mridangam_stroke/mridangam_stroke_1.5/B/224944__akshaylaya__thi-b-163.wav',\n",
              " '/root/mir_datasets/mridangam_stroke/mridangam_stroke_1.5/B/224945__akshaylaya__thi-b-164.wav',\n",
              " '/root/mir_datasets/mridangam_stroke/mridangam_stroke_1.5/B/224946__akshaylaya__thi-b-165.wav',\n",
              " '/root/mir_datasets/mridangam_stroke/mridangam_stroke_1.5/B/224947__akshaylaya__thi-b-166.wav',\n",
              " '/root/mir_datasets/mridangam_stroke/mridangam_stroke_1.5/B/224948__akshaylaya__thi-b-167.wav',\n",
              " '/root/mir_datasets/mridangam_stroke/mridangam_stroke_1.5/B/224949__akshaylaya__thi-b-168.wav',\n",
              " '/root/mir_datasets/mridangam_stroke/mridangam_stroke_1.5/B/224950__akshaylaya__thi-b-169.wav',\n",
              " '/root/mir_datasets/mridangam_stroke/mridangam_stroke_1.5/B/224951__akshaylaya__thi-b-170.wav',\n",
              " '/root/mir_datasets/mridangam_stroke/mridangam_stroke_1.5/B/224952__akshaylaya__thi-b-171.wav',\n",
              " '/root/mir_datasets/mridangam_stroke/mridangam_stroke_1.5/B/224953__akshaylaya__thi-b-172.wav',\n",
              " '/root/mir_datasets/mridangam_stroke/mridangam_stroke_1.5/B/224954__akshaylaya__thi-b-173.wav',\n",
              " '/root/mir_datasets/mridangam_stroke/mridangam_stroke_1.5/B/224955__akshaylaya__thi-b-174.wav',\n",
              " '/root/mir_datasets/mridangam_stroke/mridangam_stroke_1.5/B/224956__akshaylaya__thi-b-175.wav',\n",
              " '/root/mir_datasets/mridangam_stroke/mridangam_stroke_1.5/B/224957__akshaylaya__thi-b-176.wav',\n",
              " '/root/mir_datasets/mridangam_stroke/mridangam_stroke_1.5/B/224958__akshaylaya__thi-b-177.wav',\n",
              " '/root/mir_datasets/mridangam_stroke/mridangam_stroke_1.5/B/224959__akshaylaya__thi-b-178.wav',\n",
              " '/root/mir_datasets/mridangam_stroke/mridangam_stroke_1.5/B/224960__akshaylaya__thi-b-179.wav',\n",
              " '/root/mir_datasets/mridangam_stroke/mridangam_stroke_1.5/B/224961__akshaylaya__thi-b-180.wav',\n",
              " '/root/mir_datasets/mridangam_stroke/mridangam_stroke_1.5/B/224962__akshaylaya__thi-b-181.wav',\n",
              " '/root/mir_datasets/mridangam_stroke/mridangam_stroke_1.5/B/224963__akshaylaya__thi-b-182.wav',\n",
              " '/root/mir_datasets/mridangam_stroke/mridangam_stroke_1.5/B/224964__akshaylaya__thi-b-183.wav',\n",
              " '/root/mir_datasets/mridangam_stroke/mridangam_stroke_1.5/B/224965__akshaylaya__thi-b-184.wav',\n",
              " '/root/mir_datasets/mridangam_stroke/mridangam_stroke_1.5/B/224966__akshaylaya__thi-b-185.wav',\n",
              " '/root/mir_datasets/mridangam_stroke/mridangam_stroke_1.5/B/224967__akshaylaya__thi-b-186.wav',\n",
              " '/root/mir_datasets/mridangam_stroke/mridangam_stroke_1.5/B/224968__akshaylaya__thi-b-187.wav',\n",
              " '/root/mir_datasets/mridangam_stroke/mridangam_stroke_1.5/B/224969__akshaylaya__thi-b-188.wav',\n",
              " '/root/mir_datasets/mridangam_stroke/mridangam_stroke_1.5/B/224970__akshaylaya__thi-b-189.wav',\n",
              " '/root/mir_datasets/mridangam_stroke/mridangam_stroke_1.5/B/224971__akshaylaya__thi-b-190.wav',\n",
              " '/root/mir_datasets/mridangam_stroke/mridangam_stroke_1.5/B/224972__akshaylaya__thi-b-191.wav',\n",
              " '/root/mir_datasets/mridangam_stroke/mridangam_stroke_1.5/B/224973__akshaylaya__thi-b-192.wav',\n",
              " '/root/mir_datasets/mridangam_stroke/mridangam_stroke_1.5/B/224974__akshaylaya__thi-b-193.wav',\n",
              " '/root/mir_datasets/mridangam_stroke/mridangam_stroke_1.5/B/224975__akshaylaya__thi-b-194.wav',\n",
              " '/root/mir_datasets/mridangam_stroke/mridangam_stroke_1.5/B/224976__akshaylaya__thi-b-195.wav',\n",
              " '/root/mir_datasets/mridangam_stroke/mridangam_stroke_1.5/B/224977__akshaylaya__thi-b-196.wav',\n",
              " '/root/mir_datasets/mridangam_stroke/mridangam_stroke_1.5/B/224978__akshaylaya__thi-b-197.wav',\n",
              " '/root/mir_datasets/mridangam_stroke/mridangam_stroke_1.5/B/224979__akshaylaya__thi-b-198.wav',\n",
              " '/root/mir_datasets/mridangam_stroke/mridangam_stroke_1.5/B/224980__akshaylaya__thi-b-199.wav',\n",
              " '/root/mir_datasets/mridangam_stroke/mridangam_stroke_1.5/B/224981__akshaylaya__thi-b-200.wav',\n",
              " '/root/mir_datasets/mridangam_stroke/mridangam_stroke_1.5/B/224982__akshaylaya__thi-b-201.wav',\n",
              " '/root/mir_datasets/mridangam_stroke/mridangam_stroke_1.5/B/224983__akshaylaya__thi-b-202.wav',\n",
              " '/root/mir_datasets/mridangam_stroke/mridangam_stroke_1.5/B/224984__akshaylaya__thi-b-203.wav',\n",
              " '/root/mir_datasets/mridangam_stroke/mridangam_stroke_1.5/B/224985__akshaylaya__thi-b-204.wav',\n",
              " '/root/mir_datasets/mridangam_stroke/mridangam_stroke_1.5/B/224986__akshaylaya__thi-b-205.wav',\n",
              " '/root/mir_datasets/mridangam_stroke/mridangam_stroke_1.5/B/224987__akshaylaya__thi-b-206.wav',\n",
              " '/root/mir_datasets/mridangam_stroke/mridangam_stroke_1.5/B/224988__akshaylaya__thi-b-207.wav',\n",
              " '/root/mir_datasets/mridangam_stroke/mridangam_stroke_1.5/B/224989__akshaylaya__thi-b-208.wav',\n",
              " '/root/mir_datasets/mridangam_stroke/mridangam_stroke_1.5/B/224990__akshaylaya__thi-b-209.wav',\n",
              " '/root/mir_datasets/mridangam_stroke/mridangam_stroke_1.5/B/224991__akshaylaya__thi-b-210.wav',\n",
              " '/root/mir_datasets/mridangam_stroke/mridangam_stroke_1.5/B/224992__akshaylaya__thi-b-211.wav',\n",
              " '/root/mir_datasets/mridangam_stroke/mridangam_stroke_1.5/B/224993__akshaylaya__thi-b-212.wav',\n",
              " '/root/mir_datasets/mridangam_stroke/mridangam_stroke_1.5/B/224994__akshaylaya__thi-b-213.wav',\n",
              " '/root/mir_datasets/mridangam_stroke/mridangam_stroke_1.5/B/224995__akshaylaya__thi-b-214.wav',\n",
              " '/root/mir_datasets/mridangam_stroke/mridangam_stroke_1.5/B/224996__akshaylaya__thi-b-215.wav',\n",
              " '/root/mir_datasets/mridangam_stroke/mridangam_stroke_1.5/B/224997__akshaylaya__thi-b-216.wav',\n",
              " '/root/mir_datasets/mridangam_stroke/mridangam_stroke_1.5/B/224998__akshaylaya__thi-b-217.wav',\n",
              " '/root/mir_datasets/mridangam_stroke/mridangam_stroke_1.5/B/224999__akshaylaya__thi-b-218.wav',\n",
              " '/root/mir_datasets/mridangam_stroke/mridangam_stroke_1.5/B/225000__akshaylaya__thi-b-219.wav',\n",
              " '/root/mir_datasets/mridangam_stroke/mridangam_stroke_1.5/B/225001__akshaylaya__thi-b-220.wav',\n",
              " '/root/mir_datasets/mridangam_stroke/mridangam_stroke_1.5/B/225002__akshaylaya__thi-b-221.wav',\n",
              " '/root/mir_datasets/mridangam_stroke/mridangam_stroke_1.5/B/225003__akshaylaya__thi-b-222.wav',\n",
              " '/root/mir_datasets/mridangam_stroke/mridangam_stroke_1.5/B/225004__akshaylaya__thi-b-223.wav',\n",
              " '/root/mir_datasets/mridangam_stroke/mridangam_stroke_1.5/B/225005__akshaylaya__thi-b-224.wav',\n",
              " '/root/mir_datasets/mridangam_stroke/mridangam_stroke_1.5/B/225006__akshaylaya__thi-b-225.wav',\n",
              " '/root/mir_datasets/mridangam_stroke/mridangam_stroke_1.5/B/225007__akshaylaya__thi-b-226.wav',\n",
              " '/root/mir_datasets/mridangam_stroke/mridangam_stroke_1.5/B/225008__akshaylaya__thi-b-227.wav',\n",
              " '/root/mir_datasets/mridangam_stroke/mridangam_stroke_1.5/B/225009__akshaylaya__thi-b-228.wav',\n",
              " '/root/mir_datasets/mridangam_stroke/mridangam_stroke_1.5/B/225010__akshaylaya__thi-b-229.wav',\n",
              " '/root/mir_datasets/mridangam_stroke/mridangam_stroke_1.5/B/225011__akshaylaya__thi-b-230.wav',\n",
              " '/root/mir_datasets/mridangam_stroke/mridangam_stroke_1.5/B/225012__akshaylaya__thi-b-231.wav',\n",
              " '/root/mir_datasets/mridangam_stroke/mridangam_stroke_1.5/B/225013__akshaylaya__thi-b-232.wav',\n",
              " '/root/mir_datasets/mridangam_stroke/mridangam_stroke_1.5/B/225014__akshaylaya__thi-b-233.wav',\n",
              " '/root/mir_datasets/mridangam_stroke/mridangam_stroke_1.5/B/225015__akshaylaya__thi-b-234.wav',\n",
              " '/root/mir_datasets/mridangam_stroke/mridangam_stroke_1.5/B/225016__akshaylaya__thi-b-235.wav',\n",
              " '/root/mir_datasets/mridangam_stroke/mridangam_stroke_1.5/B/225017__akshaylaya__thi-b-236.wav',\n",
              " '/root/mir_datasets/mridangam_stroke/mridangam_stroke_1.5/B/225018__akshaylaya__thi-b-237.wav',\n",
              " '/root/mir_datasets/mridangam_stroke/mridangam_stroke_1.5/B/225019__akshaylaya__thi-b-238.wav',\n",
              " '/root/mir_datasets/mridangam_stroke/mridangam_stroke_1.5/B/225020__akshaylaya__thi-b-239.wav',\n",
              " '/root/mir_datasets/mridangam_stroke/mridangam_stroke_1.5/B/225022__akshaylaya__thi-b-241.wav',\n",
              " '/root/mir_datasets/mridangam_stroke/mridangam_stroke_1.5/B/225023__akshaylaya__thi-b-242.wav',\n",
              " '/root/mir_datasets/mridangam_stroke/mridangam_stroke_1.5/B/225024__akshaylaya__thi-b-243.wav',\n",
              " '/root/mir_datasets/mridangam_stroke/mridangam_stroke_1.5/B/225025__akshaylaya__thi-b-244.wav',\n",
              " '/root/mir_datasets/mridangam_stroke/mridangam_stroke_1.5/B/225026__akshaylaya__thi-b-245.wav',\n",
              " '/root/mir_datasets/mridangam_stroke/mridangam_stroke_1.5/B/225027__akshaylaya__thi-b-246.wav',\n",
              " '/root/mir_datasets/mridangam_stroke/mridangam_stroke_1.5/B/225028__akshaylaya__thi-b-247.wav',\n",
              " '/root/mir_datasets/mridangam_stroke/mridangam_stroke_1.5/B/225029__akshaylaya__thi-b-248.wav',\n",
              " '/root/mir_datasets/mridangam_stroke/mridangam_stroke_1.5/B/225030__akshaylaya__thi-b-249.wav',\n",
              " '/root/mir_datasets/mridangam_stroke/mridangam_stroke_1.5/B/225031__akshaylaya__thi-b-250.wav',\n",
              " '/root/mir_datasets/mridangam_stroke/mridangam_stroke_1.5/B/225032__akshaylaya__thi-b-251.wav',\n",
              " '/root/mir_datasets/mridangam_stroke/mridangam_stroke_1.5/B/225033__akshaylaya__thi-b-252.wav',\n",
              " '/root/mir_datasets/mridangam_stroke/mridangam_stroke_1.5/B/225034__akshaylaya__thi-b-253.wav',\n",
              " '/root/mir_datasets/mridangam_stroke/mridangam_stroke_1.5/B/225035__akshaylaya__thi-b-254.wav',\n",
              " '/root/mir_datasets/mridangam_stroke/mridangam_stroke_1.5/B/225036__akshaylaya__thi-b-255.wav',\n",
              " '/root/mir_datasets/mridangam_stroke/mridangam_stroke_1.5/B/225037__akshaylaya__thi-b-256.wav',\n",
              " '/root/mir_datasets/mridangam_stroke/mridangam_stroke_1.5/B/225038__akshaylaya__thi-b-257.wav',\n",
              " '/root/mir_datasets/mridangam_stroke/mridangam_stroke_1.5/B/225039__akshaylaya__thi-b-258.wav',\n",
              " '/root/mir_datasets/mridangam_stroke/mridangam_stroke_1.5/B/225040__akshaylaya__thi-b-259.wav',\n",
              " '/root/mir_datasets/mridangam_stroke/mridangam_stroke_1.5/B/225041__akshaylaya__thi-b-260.wav',\n",
              " '/root/mir_datasets/mridangam_stroke/mridangam_stroke_1.5/B/225042__akshaylaya__thi-b-261.wav',\n",
              " '/root/mir_datasets/mridangam_stroke/mridangam_stroke_1.5/B/225043__akshaylaya__thi-b-262.wav',\n",
              " '/root/mir_datasets/mridangam_stroke/mridangam_stroke_1.5/B/225044__akshaylaya__thi-b-263.wav',\n",
              " '/root/mir_datasets/mridangam_stroke/mridangam_stroke_1.5/B/225045__akshaylaya__thi-b-264.wav',\n",
              " '/root/mir_datasets/mridangam_stroke/mridangam_stroke_1.5/B/225046__akshaylaya__thi-b-265.wav',\n",
              " '/root/mir_datasets/mridangam_stroke/mridangam_stroke_1.5/B/225047__akshaylaya__thi-b-266.wav',\n",
              " '/root/mir_datasets/mridangam_stroke/mridangam_stroke_1.5/B/225048__akshaylaya__thi-b-267.wav',\n",
              " '/root/mir_datasets/mridangam_stroke/mridangam_stroke_1.5/B/225049__akshaylaya__thi-b-268.wav',\n",
              " '/root/mir_datasets/mridangam_stroke/mridangam_stroke_1.5/B/225050__akshaylaya__thi-b-269.wav',\n",
              " '/root/mir_datasets/mridangam_stroke/mridangam_stroke_1.5/B/225051__akshaylaya__thi-b-270.wav',\n",
              " '/root/mir_datasets/mridangam_stroke/mridangam_stroke_1.5/B/225052__akshaylaya__thi-b-271.wav',\n",
              " '/root/mir_datasets/mridangam_stroke/mridangam_stroke_1.5/B/225053__akshaylaya__thi-b-272.wav',\n",
              " '/root/mir_datasets/mridangam_stroke/mridangam_stroke_1.5/B/225054__akshaylaya__thi-b-273.wav',\n",
              " '/root/mir_datasets/mridangam_stroke/mridangam_stroke_1.5/B/225055__akshaylaya__thi-b-274.wav',\n",
              " '/root/mir_datasets/mridangam_stroke/mridangam_stroke_1.5/B/225056__akshaylaya__thi-b-275.wav',\n",
              " '/root/mir_datasets/mridangam_stroke/mridangam_stroke_1.5/B/225057__akshaylaya__thi-b-276.wav',\n",
              " '/root/mir_datasets/mridangam_stroke/mridangam_stroke_1.5/B/225058__akshaylaya__thi-b-277.wav',\n",
              " '/root/mir_datasets/mridangam_stroke/mridangam_stroke_1.5/B/225059__akshaylaya__thi-b-278.wav',\n",
              " '/root/mir_datasets/mridangam_stroke/mridangam_stroke_1.5/B/225060__akshaylaya__thi-b-279.wav',\n",
              " '/root/mir_datasets/mridangam_stroke/mridangam_stroke_1.5/B/225061__akshaylaya__thi-b-280.wav',\n",
              " '/root/mir_datasets/mridangam_stroke/mridangam_stroke_1.5/B/225062__akshaylaya__thi-b-281.wav',\n",
              " '/root/mir_datasets/mridangam_stroke/mridangam_stroke_1.5/B/225063__akshaylaya__thi-b-282.wav',\n",
              " '/root/mir_datasets/mridangam_stroke/mridangam_stroke_1.5/B/225064__akshaylaya__thi-b-283.wav',\n",
              " ...]"
            ]
          },
          "metadata": {},
          "execution_count": 7
        }
      ]
    },
    {
      "cell_type": "code",
      "metadata": {
        "id": "Vr2f3y2dZ3By",
        "colab": {
          "base_uri": "https://localhost:8080/",
          "height": 194
        },
        "outputId": "9facd2da-8377-4381-f773-8de436b70187"
      },
      "source": [
        "# Raw-data preprocess analysis parameters\n",
        "_, fs = mridangam_data[mridangam_ids[0]].audio\n",
        "\n",
        "num_tonic = len(tonic_dict.keys())\n",
        "print(\"Plot waveforms of random samples of each tonic type...\")\n",
        "plt.figure(1, figsize=(5 * num_tonic, 3))\n",
        "file_ind_inlist = 0 # 0: let's take the first file in the list for sample plots\n",
        "for i, tonic in enumerate(tonic_dict.keys()):\n",
        "    sample_file = tonic_dict[tonic][file_ind_inlist]\n",
        "    x = ess.MonoLoader(filename = sample_file, sampleRate = fs)()\n",
        "    \n",
        "    plt.subplot(1,num_tonic,(i+1))\n",
        "    plt.plot(x)\n",
        "    plt.title(tonic)"
      ],
      "execution_count": 8,
      "outputs": [
        {
          "output_type": "stream",
          "name": "stdout",
          "text": [
            "Plot waveforms of random samples of each tonic type...\n"
          ]
        },
        {
          "output_type": "display_data",
          "data": {
            "text/plain": [
              "<Figure size 2160x216 with 6 Axes>"
            ],
            "image/png": "[encoded data removed]"
          },
          "metadata": {
            "needs_background": "light"
          }
        }
      ]
    },
    {
      "cell_type": "markdown",
      "metadata": {
        "id": "kceA0MUMGaMm"
      },
      "source": [
        "## Preprocessing of raw data: Segmentation, splitting, alignment,... "
      ]
    },
    {
      "cell_type": "markdown",
      "metadata": {
        "id": "3jT1ghfoGWJr"
      },
      "source": [
        "While common preprocessing steps (such as amplitude normalisation) exist, there is often some dataset and task specific preprocessing tasks required for grouping, cleaning, and format change. \n",
        "\n",
        "In the downloaded dataset, recordings include a sequence of isolated notes played in sequence which could be split into isolated notes. We would like to investigate the option of splitting using a fixed energy threshold (which would help us separate notes using the silence regions). Let's define a function to perform this operation and visualize some samples to observe the effectiveness of it."
      ]
    },
    {
      "cell_type": "code",
      "metadata": {
        "id": "Zxh3GIATiJzm"
      },
      "source": [
        "# Raw-data preprocess analysis parameters\n",
        "windowSize = 1024\n",
        "hopSize = 512\n",
        "NRG_threshold_ratio = 0.005 #threshold expressed as ratio with respect to the maximum value\n",
        "#Let's put in a container to be able to use as a single argument in function calls\n",
        "params = {\"fs\":fs, \"windowSize\":windowSize, \"hopSize\":hopSize, \"NRG_threshold_ratio\": NRG_threshold_ratio}"
      ],
      "execution_count": 9,
      "outputs": []
    },
    {
      "cell_type": "code",
      "metadata": {
        "id": "amlqoQ_RiM7y"
      },
      "source": [
        "#Function definition\n",
        "def split_file(filename, params):\n",
        "    '''Function to define split boundaries based on a fixed energy threshold\n",
        "    '''\n",
        "    x = ess.MonoLoader(filename = filename, sampleRate = fs)()\n",
        "    NRG = [];\n",
        "    #Main windowing and feature extraction loop\n",
        "    for frame in ess.FrameGenerator(x, frameSize = windowSize, hopSize = hopSize, startFromZero = True):\n",
        "        NRG.append(ess.Energy()(frame))\n",
        "    NRG = np.array(NRG)\n",
        "    NRG = NRG / np.max(NRG)\n",
        "    \n",
        "    #Applying energy threshold to decide wave split boundaries\n",
        "    split_decision_func = np.zeros_like(NRG)\n",
        "    split_decision_func[NRG > NRG_threshold_ratio] = 1\n",
        "    #Setting segment boundaries\n",
        "    #Inserting a zero at the beginning since we will decide the transitions using a diff function\n",
        "    split_decision_func = np.insert(split_decision_func, 0, 0)\n",
        "    diff_split_decision = np.diff(split_decision_func)\n",
        "    #Start indexes: transition from 0 to 1\n",
        "    start_indexes = np.nonzero(diff_split_decision > 0)[0] * hopSize\n",
        "    #Stop indexes: transition from 1 to 0\n",
        "    stop_indexes = np.nonzero(diff_split_decision < 0)[0] * hopSize\n",
        "    return (x, NRG, split_decision_func, start_indexes, stop_indexes)"
      ],
      "execution_count": 10,
      "outputs": []
    },
    {
      "cell_type": "markdown",
      "source": [
        "Here we can observe the implementation of the function defined below in order to identify different regions on the waveforms according to its energy and be able to split them based on their energy threshold."
      ],
      "metadata": {
        "id": "s3q0b27rHkBd"
      }
    },
    {
      "cell_type": "code",
      "metadata": {
        "colab": {
          "base_uri": "https://localhost:8080/",
          "height": 194
        },
        "id": "47Akom3niaUD",
        "outputId": "f5676cc0-2b76-4694-ed19-e0dc191b9885"
      },
      "source": [
        "num_tonic = len(tonic_names)\n",
        "print(\"Sample plots for waveform versus energy and splits based on energy threshold\")\n",
        "\n",
        "file_indexes = [1]\n",
        "for file_ind_inlist in file_indexes:\n",
        "    plt.figure(file_ind_inlist, figsize=(5 * num_tonic, 3))\n",
        "    for i, tonic in enumerate(tonic_dict.keys()):\n",
        "        sample_file = tonic_dict[tonic][file_ind_inlist]\n",
        "        (x, NRG, split_decision_func, start_indexes, stop_indexes) = split_file(sample_file, params)\n",
        "        #Plotting functions for checking the split decisions\n",
        "        plt.subplot(1,num_tonic,(i+1))\n",
        "        plt.title(tonic)\n",
        "        plt.plot(x, label = 'sound waveform')\n",
        "        plt.plot(np.arange(NRG.size) * hopSize, NRG, 'g', label = 'NRG')\n",
        "        plt.plot(np.arange(split_decision_func.size) * hopSize, split_decision_func,'r', label = 'split function')\n",
        "        plt.vlines(start_indexes, ymin = -0.5, ymax = 0, colors='b', linestyles='solid', label='Segment start')\n",
        "        plt.vlines(stop_indexes, ymin = -0.5, ymax = 0, colors='k', linestyles='dashed', label='Segment stop')\n",
        "\n",
        "plt.legend(loc=\"best\");\n"
      ],
      "execution_count": 11,
      "outputs": [
        {
          "output_type": "stream",
          "name": "stdout",
          "text": [
            "Sample plots for waveform versus energy and splits based on energy threshold\n"
          ]
        },
        {
          "output_type": "display_data",
          "data": {
            "text/plain": [
              "<Figure size 2160x216 with 6 Axes>"
            ],
            "image/png": "[encoded data removed]"
          },
          "metadata": {
            "needs_background": "light"
          }
        }
      ]
    },
    {
      "cell_type": "code",
      "metadata": {
        "colab": {
          "base_uri": "https://localhost:8080/"
        },
        "id": "FGIUqV_xk2v7",
        "outputId": "73e0ad14-d6c7-4326-b273-ad47d77f630c"
      },
      "source": [
        "main_data_dir = 'sample_data_tonic'\n",
        "if not os.path.exists(main_data_dir): #creating the directory\n",
        "    os.mkdir(main_data_dir)\n",
        "segments_dir = os.path.join(main_data_dir,'segments_tonic')\n",
        "if not os.path.exists(segments_dir): #creating the directory\n",
        "    os.mkdir(segments_dir)\n",
        "\n",
        "segment_files = []\n",
        "for tonic, files in tonic_dict.items():\n",
        "    for sample_file in files:\n",
        "        #Get file id\n",
        "        tonic_id =  sample_file.split('__')[-1].split('.')[0]\n",
        "        x = ess.MonoLoader(filename = sample_file, sampleRate = fs)()\n",
        "        (x, NRG, split_decision_func, start_indexes, stop_indexes) = split_file(sample_file, params)\n",
        "        #Croping segments\n",
        "        for start, stop in zip(start_indexes, stop_indexes):\n",
        "            x_seg = x[start: stop]\n",
        "            #Final check for amplitude (to avoid silent segments selection due to noise in split function)\n",
        "            if(np.max(np.abs(x_seg)) > 0.05):\n",
        "                #Amplitude normalisation\n",
        "                x_seg = x_seg / np.max(np.abs(x_seg))\n",
        "                filename = os.path.join(segments_dir, tonic_id + '.wav')\n",
        "                ess.MonoWriter(filename = filename, format = 'wav', sampleRate = fs)(x_seg)\n",
        "                segment_files.append(filename)\n",
        "\n",
        "print(len(segment_files),'segment files created')"
      ],
      "execution_count": 12,
      "outputs": [
        {
          "output_type": "stream",
          "name": "stdout",
          "text": [
            "6854 segment files created\n"
          ]
        }
      ]
    },
    {
      "cell_type": "code",
      "metadata": {
        "id": "JQkOjXfTnJdi"
      },
      "source": [
        "#If required, you can use this cell to delete all files in a given folder\n",
        "def delete_files_in_dir(dir_name):\n",
        "    '''Deleting all files in a directory\n",
        "    '''\n",
        "    for root, dirs, files in os.walk(dir_name):\n",
        "        for file in files:\n",
        "            file_name = os.path.join(root,file)\n",
        "            os.remove(file_name);print(file_name, 'removed');\n",
        "\n",
        "#delete_files_in_dir(segments_dir)"
      ],
      "execution_count": null,
      "outputs": []
    },
    {
      "cell_type": "markdown",
      "metadata": {
        "id": "pmTShfNLZ3Cg"
      },
      "source": [
        "## Feature extraction \n",
        "\n",
        "Let's compute a list of common features for each of the files and form a data frame including features and categories. We will be using the [MusicExtractor function of Essentia](https://essentia.upf.edu/documentation/reference/std_MusicExtractor.html) that would compute a large number of features commonly used in MIR literature. \n",
        "\n",
        "Essentia-MusicExtractor extracts a large number of features. For simplicity, let's only keep low-level descriptors which are represented with a single scalar value as our feature set and discard other features."
      ]
    },
    {
      "cell_type": "code",
      "metadata": {
        "id": "TvOzjojcZ3Co",
        "colab": {
          "base_uri": "https://localhost:8080/"
        },
        "outputId": "296c6607-3e34-4bfd-aa72-85f29390242f"
      },
      "source": [
        "# Print descriptors to be considered\n",
        "features, features_frames = ess.MusicExtractor(lowlevelSilentFrames='drop',\n",
        "                                                      lowlevelFrameSize = 2048,\n",
        "                                                      lowlevelHopSize = 1024,\n",
        "                                                      lowlevelStats = ['mean', 'stdev'])(mridangam_data['224030'].audio_path)\n",
        "\n",
        "scalar_lowlevel_descriptors = [descriptor for descriptor in features.descriptorNames() if 'lowlevel' in descriptor and isinstance(features[descriptor], float)]\n",
        "print(\"Subset of features to be considered:\\n\",scalar_lowlevel_descriptors)"
      ],
      "execution_count": 13,
      "outputs": [
        {
          "output_type": "stream",
          "name": "stdout",
          "text": [
            "Subset of features to be considered:\n",
            " ['lowlevel.average_loudness', 'lowlevel.barkbands_crest.mean', 'lowlevel.barkbands_crest.stdev', 'lowlevel.barkbands_flatness_db.mean', 'lowlevel.barkbands_flatness_db.stdev', 'lowlevel.barkbands_kurtosis.mean', 'lowlevel.barkbands_kurtosis.stdev', 'lowlevel.barkbands_skewness.mean', 'lowlevel.barkbands_skewness.stdev', 'lowlevel.barkbands_spread.mean', 'lowlevel.barkbands_spread.stdev', 'lowlevel.dissonance.mean', 'lowlevel.dissonance.stdev', 'lowlevel.dynamic_complexity', 'lowlevel.erbbands_crest.mean', 'lowlevel.erbbands_crest.stdev', 'lowlevel.erbbands_flatness_db.mean', 'lowlevel.erbbands_flatness_db.stdev', 'lowlevel.erbbands_kurtosis.mean', 'lowlevel.erbbands_kurtosis.stdev', 'lowlevel.erbbands_skewness.mean', 'lowlevel.erbbands_skewness.stdev', 'lowlevel.erbbands_spread.mean', 'lowlevel.erbbands_spread.stdev', 'lowlevel.hfc.mean', 'lowlevel.hfc.stdev', 'lowlevel.loudness_ebu128.integrated', 'lowlevel.loudness_ebu128.loudness_range', 'lowlevel.loudness_ebu128.momentary.mean', 'lowlevel.loudness_ebu128.momentary.stdev', 'lowlevel.loudness_ebu128.short_term.mean', 'lowlevel.loudness_ebu128.short_term.stdev', 'lowlevel.melbands_crest.mean', 'lowlevel.melbands_crest.stdev', 'lowlevel.melbands_flatness_db.mean', 'lowlevel.melbands_flatness_db.stdev', 'lowlevel.melbands_kurtosis.mean', 'lowlevel.melbands_kurtosis.stdev', 'lowlevel.melbands_skewness.mean', 'lowlevel.melbands_skewness.stdev', 'lowlevel.melbands_spread.mean', 'lowlevel.melbands_spread.stdev', 'lowlevel.pitch_salience.mean', 'lowlevel.pitch_salience.stdev', 'lowlevel.silence_rate_20dB.mean', 'lowlevel.silence_rate_20dB.stdev', 'lowlevel.silence_rate_30dB.mean', 'lowlevel.silence_rate_30dB.stdev', 'lowlevel.silence_rate_60dB.mean', 'lowlevel.silence_rate_60dB.stdev', 'lowlevel.spectral_centroid.mean', 'lowlevel.spectral_centroid.stdev', 'lowlevel.spectral_complexity.mean', 'lowlevel.spectral_complexity.stdev', 'lowlevel.spectral_decrease.mean', 'lowlevel.spectral_decrease.stdev', 'lowlevel.spectral_energy.mean', 'lowlevel.spectral_energy.stdev', 'lowlevel.spectral_energyband_high.mean', 'lowlevel.spectral_energyband_high.stdev', 'lowlevel.spectral_energyband_low.mean', 'lowlevel.spectral_energyband_low.stdev', 'lowlevel.spectral_energyband_middle_high.mean', 'lowlevel.spectral_energyband_middle_high.stdev', 'lowlevel.spectral_energyband_middle_low.mean', 'lowlevel.spectral_energyband_middle_low.stdev', 'lowlevel.spectral_entropy.mean', 'lowlevel.spectral_entropy.stdev', 'lowlevel.spectral_flux.mean', 'lowlevel.spectral_flux.stdev', 'lowlevel.spectral_kurtosis.mean', 'lowlevel.spectral_kurtosis.stdev', 'lowlevel.spectral_rms.mean', 'lowlevel.spectral_rms.stdev', 'lowlevel.spectral_rolloff.mean', 'lowlevel.spectral_rolloff.stdev', 'lowlevel.spectral_skewness.mean', 'lowlevel.spectral_skewness.stdev', 'lowlevel.spectral_spread.mean', 'lowlevel.spectral_spread.stdev', 'lowlevel.spectral_strongpeak.mean', 'lowlevel.spectral_strongpeak.stdev', 'lowlevel.zerocrossingrate.mean', 'lowlevel.zerocrossingrate.stdev']\n"
          ]
        }
      ]
    },
    {
      "cell_type": "markdown",
      "metadata": {
        "id": "o5aBdpBtZ3Cv"
      },
      "source": [
        "Running musicextractor for all files, keeping a subset of features, writing to an output file: data.csv"
      ]
    },
    {
      "cell_type": "code",
      "metadata": {
        "id": "POoJ0K8BZ3Cz",
        "colab": {
          "base_uri": "https://localhost:8080/"
        },
        "outputId": "2788003f-331d-4039-d011-0612f8e7f592"
      },
      "source": [
        "# Extracting features and writing in data.csv file in the segments folder\n",
        "#  each line in the data.csv file represents a sample with features and the class information as the last element\n",
        "data_file = 'sample_data_tonic/data.csv'\n",
        "file_count = 0\n",
        "with open(data_file, 'w') as writer:\n",
        "    #adding column names as the first line in csv\n",
        "    line2write = ','.join(scalar_lowlevel_descriptors + ['tonic']).replace('lowlevel.','') + '\\n'\n",
        "    writer.write(line2write)\n",
        "    for filename in segment_files:\n",
        "        file_count +=1\n",
        "        if file_count % 20 == 0: #print name of a file every 20 files\n",
        "            print(file_count, \"files processed, current file: \", filename)\n",
        "\n",
        "        #Compute and write features for file\n",
        "        features, features_frames = ess.MusicExtractor(lowlevelSilentFrames='drop',\n",
        "                                                      lowlevelFrameSize = 2048,\n",
        "                                                      lowlevelHopSize = 1024,\n",
        "                                                      lowlevelStats = ['mean', 'stdev'])(filename)\n",
        "        selected_features = [features[descriptor] for descriptor in scalar_lowlevel_descriptors]\n",
        "        label = filename.split('/')[-1].split('.')[0].split('-')[1]\n",
        "        line2write = str(selected_features)[1:-1] + ',' + label + '\\n'\n",
        "        writer.write(line2write)\n",
        "print(\"A total of \", file_count, \"files processed\")"
      ],
      "execution_count": null,
      "outputs": [
        {
          "output_type": "stream",
          "name": "stdout",
          "text": [
            "20 files processed, current file:  sample_data_tonic/segments_tonic/cha-b-017.wav\n",
            "40 files processed, current file:  sample_data_tonic/segments_tonic/cha-b-039.wav\n",
            "60 files processed, current file:  sample_data_tonic/segments_tonic/dheem-b-005.wav\n",
            "80 files processed, current file:  sample_data_tonic/segments_tonic/dheem-b-026.wav\n",
            "100 files processed, current file:  sample_data_tonic/segments_tonic/dheem-b-046.wav\n",
            "120 files processed, current file:  sample_data_tonic/segments_tonic/dheem-b-066.wav\n",
            "140 files processed, current file:  sample_data_tonic/segments_tonic/dheem-b-095.wav\n",
            "160 files processed, current file:  sample_data_tonic/segments_tonic/dheem-b-116.wav\n",
            "180 files processed, current file:  sample_data_tonic/segments_tonic/dhin-b-012.wav\n",
            "200 files processed, current file:  sample_data_tonic/segments_tonic/dhin-b-040.wav\n",
            "220 files processed, current file:  sample_data_tonic/segments_tonic/num-b-013.wav\n",
            "240 files processed, current file:  sample_data_tonic/segments_tonic/num-b-037.wav\n",
            "260 files processed, current file:  sample_data_tonic/segments_tonic/num-b-061.wav\n",
            "280 files processed, current file:  sample_data_tonic/segments_tonic/ta-b-001.wav\n",
            "300 files processed, current file:  sample_data_tonic/segments_tonic/ta-b-021.wav\n",
            "320 files processed, current file:  sample_data_tonic/segments_tonic/ta-b-041.wav\n",
            "340 files processed, current file:  sample_data_tonic/segments_tonic/ta-b-061.wav\n",
            "360 files processed, current file:  sample_data_tonic/segments_tonic/ta-b-081.wav\n",
            "380 files processed, current file:  sample_data_tonic/segments_tonic/ta-b-101.wav\n",
            "400 files processed, current file:  sample_data_tonic/segments_tonic/ta-b-121.wav\n",
            "420 files processed, current file:  sample_data_tonic/segments_tonic/ta-b-141.wav\n",
            "440 files processed, current file:  sample_data_tonic/segments_tonic/tha-b-017.wav\n",
            "460 files processed, current file:  sample_data_tonic/segments_tonic/tha-b-037.wav\n",
            "480 files processed, current file:  sample_data_tonic/segments_tonic/tha-b-057.wav\n",
            "500 files processed, current file:  sample_data_tonic/segments_tonic/tha-b-077.wav\n",
            "520 files processed, current file:  sample_data_tonic/segments_tonic/tha-b-097.wav\n",
            "540 files processed, current file:  sample_data_tonic/segments_tonic/tha-b-117.wav\n",
            "560 files processed, current file:  sample_data_tonic/segments_tonic/tha-b-137.wav\n",
            "580 files processed, current file:  sample_data_tonic/segments_tonic/tha-b-157.wav\n",
            "600 files processed, current file:  sample_data_tonic/segments_tonic/tha-b-177.wav\n",
            "620 files processed, current file:  sample_data_tonic/segments_tonic/tha-b-198.wav\n",
            "640 files processed, current file:  sample_data_tonic/segments_tonic/tham-b-018.wav\n",
            "660 files processed, current file:  sample_data_tonic/segments_tonic/tham-b-039.wav\n",
            "680 files processed, current file:  sample_data_tonic/segments_tonic/tham-b-059.wav\n",
            "700 files processed, current file:  sample_data_tonic/segments_tonic/tham-b-079.wav\n",
            "720 files processed, current file:  sample_data_tonic/segments_tonic/thi-b-011.wav\n",
            "740 files processed, current file:  sample_data_tonic/segments_tonic/thi-b-031.wav\n",
            "760 files processed, current file:  sample_data_tonic/segments_tonic/thi-b-051.wav\n",
            "780 files processed, current file:  sample_data_tonic/segments_tonic/thi-b-071.wav\n",
            "800 files processed, current file:  sample_data_tonic/segments_tonic/thi-b-091.wav\n",
            "820 files processed, current file:  sample_data_tonic/segments_tonic/thi-b-111.wav\n",
            "840 files processed, current file:  sample_data_tonic/segments_tonic/thi-b-133.wav\n",
            "860 files processed, current file:  sample_data_tonic/segments_tonic/thi-b-153.wav\n",
            "880 files processed, current file:  sample_data_tonic/segments_tonic/thi-b-173.wav\n",
            "900 files processed, current file:  sample_data_tonic/segments_tonic/thi-b-193.wav\n",
            "920 files processed, current file:  sample_data_tonic/segments_tonic/thi-b-213.wav\n",
            "940 files processed, current file:  sample_data_tonic/segments_tonic/thi-b-233.wav\n",
            "960 files processed, current file:  sample_data_tonic/segments_tonic/thi-b-254.wav\n",
            "980 files processed, current file:  sample_data_tonic/segments_tonic/thi-b-274.wav\n",
            "1000 files processed, current file:  sample_data_tonic/segments_tonic/thi-b-294.wav\n",
            "1020 files processed, current file:  sample_data_tonic/segments_tonic/thi-b-314.wav\n",
            "1040 files processed, current file:  sample_data_tonic/segments_tonic/thi-b-334.wav\n",
            "1060 files processed, current file:  sample_data_tonic/segments_tonic/thi-b-354.wav\n",
            "1080 files processed, current file:  sample_data_tonic/segments_tonic/thi-b-374.wav\n",
            "1100 files processed, current file:  sample_data_tonic/segments_tonic/thi-b-395.wav\n",
            "1120 files processed, current file:  sample_data_tonic/segments_tonic/thi-b-417.wav\n",
            "1140 files processed, current file:  sample_data_tonic/segments_tonic/thi-b-437.wav\n",
            "1160 files processed, current file:  sample_data_tonic/segments_tonic/thom-b-019.wav\n",
            "1180 files processed, current file:  sample_data_tonic/segments_tonic/thom-b-039.wav\n",
            "1200 files processed, current file:  sample_data_tonic/segments_tonic/thom-b-061.wav\n",
            "1220 files processed, current file:  sample_data_tonic/segments_tonic/thom-b-082.wav\n",
            "1240 files processed, current file:  sample_data_tonic/segments_tonic/thom-b-105.wav\n",
            "1260 files processed, current file:  sample_data_tonic/segments_tonic/thom-b-125.wav\n",
            "1280 files processed, current file:  sample_data_tonic/segments_tonic/cha-c-007.wav\n",
            "1300 files processed, current file:  sample_data_tonic/segments_tonic/cha-c-029.wav\n",
            "1320 files processed, current file:  sample_data_tonic/segments_tonic/dheem-c-001.wav\n",
            "1340 files processed, current file:  sample_data_tonic/segments_tonic/dheem-c-021.wav\n",
            "1360 files processed, current file:  sample_data_tonic/segments_tonic/dheem-c-041.wav\n",
            "1380 files processed, current file:  sample_data_tonic/segments_tonic/dheem-c-061.wav\n",
            "1400 files processed, current file:  sample_data_tonic/segments_tonic/dheem-c-081.wav\n",
            "1420 files processed, current file:  sample_data_tonic/segments_tonic/dhin-c-027.wav\n",
            "1440 files processed, current file:  sample_data_tonic/segments_tonic/num-c-011.wav\n",
            "1460 files processed, current file:  sample_data_tonic/segments_tonic/num-c-031.wav\n",
            "1480 files processed, current file:  sample_data_tonic/segments_tonic/num-c-051.wav\n",
            "1500 files processed, current file:  sample_data_tonic/segments_tonic/num-c-071.wav\n",
            "1520 files processed, current file:  sample_data_tonic/segments_tonic/num-c-094.wav\n",
            "1540 files processed, current file:  sample_data_tonic/segments_tonic/ta-c-016.wav\n",
            "1560 files processed, current file:  sample_data_tonic/segments_tonic/ta-c-036.wav\n",
            "1580 files processed, current file:  sample_data_tonic/segments_tonic/ta-c-056.wav\n",
            "1600 files processed, current file:  sample_data_tonic/segments_tonic/ta-c-076.wav\n",
            "1620 files processed, current file:  sample_data_tonic/segments_tonic/ta-c-096.wav\n",
            "1640 files processed, current file:  sample_data_tonic/segments_tonic/ta-c-116.wav\n",
            "1660 files processed, current file:  sample_data_tonic/segments_tonic/ta-c-136.wav\n",
            "1680 files processed, current file:  sample_data_tonic/segments_tonic/ta-c-156.wav\n",
            "1700 files processed, current file:  sample_data_tonic/segments_tonic/tha-c-011.wav\n",
            "1720 files processed, current file:  sample_data_tonic/segments_tonic/tha-c-031.wav\n",
            "1740 files processed, current file:  sample_data_tonic/segments_tonic/tha-c-051.wav\n",
            "1760 files processed, current file:  sample_data_tonic/segments_tonic/tha-c-071.wav\n",
            "1780 files processed, current file:  sample_data_tonic/segments_tonic/tha-c-091.wav\n",
            "1800 files processed, current file:  sample_data_tonic/segments_tonic/tha-c-111.wav\n",
            "1820 files processed, current file:  sample_data_tonic/segments_tonic/tha-c-131.wav\n",
            "1840 files processed, current file:  sample_data_tonic/segments_tonic/tha-c-151.wav\n",
            "1860 files processed, current file:  sample_data_tonic/segments_tonic/tha-c-171.wav\n",
            "1880 files processed, current file:  sample_data_tonic/segments_tonic/tham-c-007.wav\n",
            "1900 files processed, current file:  sample_data_tonic/segments_tonic/tham-c-028.wav\n",
            "1920 files processed, current file:  sample_data_tonic/segments_tonic/tham-c-054.wav\n",
            "1940 files processed, current file:  sample_data_tonic/segments_tonic/tham-c-074.wav\n",
            "1960 files processed, current file:  sample_data_tonic/segments_tonic/thi-c-014.wav\n",
            "1980 files processed, current file:  sample_data_tonic/segments_tonic/thi-c-034.wav\n",
            "2000 files processed, current file:  sample_data_tonic/segments_tonic/thi-c-056.wav\n",
            "2020 files processed, current file:  sample_data_tonic/segments_tonic/thi-c-082.wav\n",
            "2040 files processed, current file:  sample_data_tonic/segments_tonic/thi-c-103.wav\n",
            "2060 files processed, current file:  sample_data_tonic/segments_tonic/thi-c-123.wav\n",
            "2080 files processed, current file:  sample_data_tonic/segments_tonic/thi-c-143.wav\n",
            "2100 files processed, current file:  sample_data_tonic/segments_tonic/thi-c-163.wav\n",
            "2120 files processed, current file:  sample_data_tonic/segments_tonic/thi-c-183.wav\n",
            "2140 files processed, current file:  sample_data_tonic/segments_tonic/thi-c-203.wav\n",
            "2160 files processed, current file:  sample_data_tonic/segments_tonic/thi-c-223.wav\n",
            "2180 files processed, current file:  sample_data_tonic/segments_tonic/thi-c-243.wav\n",
            "2200 files processed, current file:  sample_data_tonic/segments_tonic/thi-c-263.wav\n",
            "2220 files processed, current file:  sample_data_tonic/segments_tonic/thi-c-283.wav\n",
            "2240 files processed, current file:  sample_data_tonic/segments_tonic/thi-c-303.wav\n",
            "2260 files processed, current file:  sample_data_tonic/segments_tonic/thi-c-323.wav\n",
            "2280 files processed, current file:  sample_data_tonic/segments_tonic/thom-c-009.wav\n",
            "2300 files processed, current file:  sample_data_tonic/segments_tonic/thom-c-030.wav\n",
            "2320 files processed, current file:  sample_data_tonic/segments_tonic/thom-c-050.wav\n",
            "2340 files processed, current file:  sample_data_tonic/segments_tonic/thom-c-070.wav\n",
            "2360 files processed, current file:  sample_data_tonic/segments_tonic/cha-csh-012.wav\n",
            "2380 files processed, current file:  sample_data_tonic/segments_tonic/cha-csh-042.wav\n",
            "2400 files processed, current file:  sample_data_tonic/segments_tonic/dheem-csh-012.wav\n",
            "2420 files processed, current file:  sample_data_tonic/segments_tonic/dheem-csh-034.wav\n",
            "2440 files processed, current file:  sample_data_tonic/segments_tonic/dheem-csh-055.wav\n",
            "2460 files processed, current file:  sample_data_tonic/segments_tonic/dheem-csh-076.wav\n",
            "2480 files processed, current file:  sample_data_tonic/segments_tonic/num-csh-004.wav\n",
            "2500 files processed, current file:  sample_data_tonic/segments_tonic/num-csh-024.wav\n",
            "2520 files processed, current file:  sample_data_tonic/segments_tonic/num-csh-044.wav\n",
            "2540 files processed, current file:  sample_data_tonic/segments_tonic/num-csh-064.wav\n",
            "2560 files processed, current file:  sample_data_tonic/segments_tonic/num-csh-087.wav\n",
            "2580 files processed, current file:  sample_data_tonic/segments_tonic/ta-csh-010.wav\n",
            "2600 files processed, current file:  sample_data_tonic/segments_tonic/ta-csh-030.wav\n",
            "2620 files processed, current file:  sample_data_tonic/segments_tonic/ta-csh-052.wav\n",
            "2640 files processed, current file:  sample_data_tonic/segments_tonic/ta-csh-072.wav\n",
            "2660 files processed, current file:  sample_data_tonic/segments_tonic/ta-csh-092.wav\n",
            "2680 files processed, current file:  sample_data_tonic/segments_tonic/ta-csh-112.wav\n",
            "2700 files processed, current file:  sample_data_tonic/segments_tonic/ta-csh-133.wav\n",
            "2720 files processed, current file:  sample_data_tonic/segments_tonic/ta-csh-153.wav\n",
            "2740 files processed, current file:  sample_data_tonic/segments_tonic/ta-csh-174.wav\n",
            "2760 files processed, current file:  sample_data_tonic/segments_tonic/ta-csh-194.wav\n",
            "2780 files processed, current file:  sample_data_tonic/segments_tonic/ta-csh-214.wav\n",
            "2800 files processed, current file:  sample_data_tonic/segments_tonic/tha-csh-017.wav\n",
            "2820 files processed, current file:  sample_data_tonic/segments_tonic/tha-csh-037.wav\n",
            "2840 files processed, current file:  sample_data_tonic/segments_tonic/tha-csh-057.wav\n",
            "2860 files processed, current file:  sample_data_tonic/segments_tonic/tha-csh-078.wav\n",
            "2880 files processed, current file:  sample_data_tonic/segments_tonic/tha-csh-104.wav\n",
            "2900 files processed, current file:  sample_data_tonic/segments_tonic/tha-csh-124.wav\n",
            "2920 files processed, current file:  sample_data_tonic/segments_tonic/tha-csh-145.wav\n",
            "2940 files processed, current file:  sample_data_tonic/segments_tonic/tha-csh-165.wav\n",
            "2960 files processed, current file:  sample_data_tonic/segments_tonic/tha-csh-185.wav\n",
            "2980 files processed, current file:  sample_data_tonic/segments_tonic/tha-csh-205.wav\n",
            "3000 files processed, current file:  sample_data_tonic/segments_tonic/tham-csh-014.wav\n",
            "3020 files processed, current file:  sample_data_tonic/segments_tonic/thi-csh-002.wav\n",
            "3040 files processed, current file:  sample_data_tonic/segments_tonic/thi-csh-023.wav\n",
            "3060 files processed, current file:  sample_data_tonic/segments_tonic/thi-csh-043.wav\n",
            "3080 files processed, current file:  sample_data_tonic/segments_tonic/thi-csh-063.wav\n",
            "3100 files processed, current file:  sample_data_tonic/segments_tonic/thi-csh-086.wav\n",
            "3120 files processed, current file:  sample_data_tonic/segments_tonic/thi-csh-107.wav\n",
            "3140 files processed, current file:  sample_data_tonic/segments_tonic/thi-csh-127.wav\n",
            "3160 files processed, current file:  sample_data_tonic/segments_tonic/thi-csh-148.wav\n",
            "3180 files processed, current file:  sample_data_tonic/segments_tonic/thi-csh-168.wav\n",
            "3200 files processed, current file:  sample_data_tonic/segments_tonic/thi-csh-188.wav\n",
            "3220 files processed, current file:  sample_data_tonic/segments_tonic/thi-csh-208.wav\n",
            "3240 files processed, current file:  sample_data_tonic/segments_tonic/thi-csh-229.wav\n",
            "3260 files processed, current file:  sample_data_tonic/segments_tonic/thi-csh-250.wav\n",
            "3280 files processed, current file:  sample_data_tonic/segments_tonic/thi-csh-277.wav\n",
            "3300 files processed, current file:  sample_data_tonic/segments_tonic/thi-csh-300.wav\n",
            "3320 files processed, current file:  sample_data_tonic/segments_tonic/thi-csh-321.wav\n",
            "3340 files processed, current file:  sample_data_tonic/segments_tonic/thi-csh-341.wav\n",
            "3360 files processed, current file:  sample_data_tonic/segments_tonic/thi-csh-361.wav\n",
            "3380 files processed, current file:  sample_data_tonic/segments_tonic/thom-csh-012.wav\n",
            "3400 files processed, current file:  sample_data_tonic/segments_tonic/thom-csh-033.wav\n",
            "3420 files processed, current file:  sample_data_tonic/segments_tonic/thom-csh-053.wav\n",
            "3440 files processed, current file:  sample_data_tonic/segments_tonic/cha-d-005.wav\n",
            "3460 files processed, current file:  sample_data_tonic/segments_tonic/cha-d-025.wav\n",
            "3480 files processed, current file:  sample_data_tonic/segments_tonic/cha-d-050.wav\n",
            "3500 files processed, current file:  sample_data_tonic/segments_tonic/dheem-d-007.wav\n",
            "3520 files processed, current file:  sample_data_tonic/segments_tonic/num-d-013.wav\n",
            "3540 files processed, current file:  sample_data_tonic/segments_tonic/ta-d-015.wav\n",
            "3560 files processed, current file:  sample_data_tonic/segments_tonic/ta-d-035.wav\n",
            "3580 files processed, current file:  sample_data_tonic/segments_tonic/ta-d-055.wav\n",
            "3600 files processed, current file:  sample_data_tonic/segments_tonic/ta-d-076.wav\n",
            "3620 files processed, current file:  sample_data_tonic/segments_tonic/ta-d-096.wav\n",
            "3640 files processed, current file:  sample_data_tonic/segments_tonic/ta-d-116.wav\n",
            "3660 files processed, current file:  sample_data_tonic/segments_tonic/ta-d-138.wav\n",
            "3680 files processed, current file:  sample_data_tonic/segments_tonic/ta-d-158.wav\n",
            "3700 files processed, current file:  sample_data_tonic/segments_tonic/ta-d-178.wav\n",
            "3720 files processed, current file:  sample_data_tonic/segments_tonic/tha-d-018.wav\n",
            "3740 files processed, current file:  sample_data_tonic/segments_tonic/tha-d-038.wav\n",
            "3760 files processed, current file:  sample_data_tonic/segments_tonic/tha-d-065.wav\n",
            "3780 files processed, current file:  sample_data_tonic/segments_tonic/tha-d-086.wav\n",
            "3800 files processed, current file:  sample_data_tonic/segments_tonic/tha-d-106.wav\n",
            "3820 files processed, current file:  sample_data_tonic/segments_tonic/tha-d-129.wav\n",
            "3840 files processed, current file:  sample_data_tonic/segments_tonic/tha-d-149.wav\n",
            "3860 files processed, current file:  sample_data_tonic/segments_tonic/tha-d-169.wav\n",
            "3880 files processed, current file:  sample_data_tonic/segments_tonic/tha-d-189.wav\n",
            "3900 files processed, current file:  sample_data_tonic/segments_tonic/tha-d-210.wav\n",
            "3920 files processed, current file:  sample_data_tonic/segments_tonic/tham-d-010.wav\n",
            "3940 files processed, current file:  sample_data_tonic/segments_tonic/thi-d-002.wav\n",
            "3960 files processed, current file:  sample_data_tonic/segments_tonic/thi-d-022.wav\n",
            "3980 files processed, current file:  sample_data_tonic/segments_tonic/thi-d-042.wav\n",
            "4000 files processed, current file:  sample_data_tonic/segments_tonic/thi-d-069.wav\n",
            "4020 files processed, current file:  sample_data_tonic/segments_tonic/thi-d-089.wav\n",
            "4040 files processed, current file:  sample_data_tonic/segments_tonic/thi-d-109.wav\n",
            "4060 files processed, current file:  sample_data_tonic/segments_tonic/thi-d-129.wav\n",
            "4080 files processed, current file:  sample_data_tonic/segments_tonic/thi-d-149.wav\n",
            "4100 files processed, current file:  sample_data_tonic/segments_tonic/thi-d-169.wav\n",
            "4120 files processed, current file:  sample_data_tonic/segments_tonic/thi-d-189.wav\n",
            "4140 files processed, current file:  sample_data_tonic/segments_tonic/thi-d-209.wav\n",
            "4160 files processed, current file:  sample_data_tonic/segments_tonic/thi-d-230.wav\n",
            "4180 files processed, current file:  sample_data_tonic/segments_tonic/thi-d-250.wav\n",
            "4200 files processed, current file:  sample_data_tonic/segments_tonic/thi-d-270.wav\n",
            "4220 files processed, current file:  sample_data_tonic/segments_tonic/thom-d-007.wav\n",
            "4240 files processed, current file:  sample_data_tonic/segments_tonic/thom-d-027.wav\n",
            "4260 files processed, current file:  sample_data_tonic/segments_tonic/thom-d-049.wav\n",
            "4280 files processed, current file:  sample_data_tonic/segments_tonic/thom-d-069.wav\n",
            "4300 files processed, current file:  sample_data_tonic/segments_tonic/thom-d-090.wav\n",
            "4320 files processed, current file:  sample_data_tonic/segments_tonic/cha-dsh-005.wav\n",
            "4340 files processed, current file:  sample_data_tonic/segments_tonic/cha-dsh-025.wav\n",
            "4360 files processed, current file:  sample_data_tonic/segments_tonic/cha-dsh-046.wav\n",
            "4380 files processed, current file:  sample_data_tonic/segments_tonic/dheem-dsh-017.wav\n",
            "4400 files processed, current file:  sample_data_tonic/segments_tonic/dheem-dsh-037.wav\n",
            "4420 files processed, current file:  sample_data_tonic/segments_tonic/dheem-dsh-058.wav\n",
            "4440 files processed, current file:  sample_data_tonic/segments_tonic/dheem-dsh-078.wav\n",
            "4460 files processed, current file:  sample_data_tonic/segments_tonic/dheem-dsh-098.wav\n",
            "4480 files processed, current file:  sample_data_tonic/segments_tonic/dhin-dsh-007.wav\n",
            "4500 files processed, current file:  sample_data_tonic/segments_tonic/dhin-dsh-027.wav\n",
            "4520 files processed, current file:  sample_data_tonic/segments_tonic/dhin-dsh-047.wav\n",
            "4540 files processed, current file:  sample_data_tonic/segments_tonic/dhin-dsh-067.wav\n",
            "4560 files processed, current file:  sample_data_tonic/segments_tonic/dhin-dsh-089.wav\n",
            "4580 files processed, current file:  sample_data_tonic/segments_tonic/dhin-dsh-109.wav\n",
            "4600 files processed, current file:  sample_data_tonic/segments_tonic/dhin-dsh-129.wav\n",
            "4620 files processed, current file:  sample_data_tonic/segments_tonic/dhin-dsh-149.wav\n",
            "4640 files processed, current file:  sample_data_tonic/segments_tonic/dhin-dsh-169.wav\n",
            "4660 files processed, current file:  sample_data_tonic/segments_tonic/dhin-dsh-189.wav\n",
            "4680 files processed, current file:  sample_data_tonic/segments_tonic/num-dsh-011.wav\n",
            "4700 files processed, current file:  sample_data_tonic/segments_tonic/num-dsh-031.wav\n",
            "4720 files processed, current file:  sample_data_tonic/segments_tonic/num-dsh-051.wav\n",
            "4740 files processed, current file:  sample_data_tonic/segments_tonic/num-dsh-071.wav\n",
            "4760 files processed, current file:  sample_data_tonic/segments_tonic/num-dsh-091.wav\n",
            "4780 files processed, current file:  sample_data_tonic/segments_tonic/num-dsh-111.wav\n",
            "4800 files processed, current file:  sample_data_tonic/segments_tonic/num-dsh-131.wav\n",
            "4820 files processed, current file:  sample_data_tonic/segments_tonic/ta-dsh-008.wav\n",
            "4840 files processed, current file:  sample_data_tonic/segments_tonic/ta-dsh-028.wav\n",
            "4860 files processed, current file:  sample_data_tonic/segments_tonic/ta-dsh-048.wav\n",
            "4880 files processed, current file:  sample_data_tonic/segments_tonic/ta-dsh-068.wav\n",
            "4900 files processed, current file:  sample_data_tonic/segments_tonic/ta-dsh-089.wav\n",
            "4920 files processed, current file:  sample_data_tonic/segments_tonic/ta-dsh-109.wav\n",
            "4940 files processed, current file:  sample_data_tonic/segments_tonic/tha-dsh-012.wav\n",
            "4960 files processed, current file:  sample_data_tonic/segments_tonic/tha-dsh-032.wav\n",
            "4980 files processed, current file:  sample_data_tonic/segments_tonic/tha-dsh-055.wav\n",
            "5000 files processed, current file:  sample_data_tonic/segments_tonic/tha-dsh-075.wav\n",
            "5020 files processed, current file:  sample_data_tonic/segments_tonic/tha-dsh-096.wav\n",
            "5040 files processed, current file:  sample_data_tonic/segments_tonic/tha-dsh-116.wav\n",
            "5060 files processed, current file:  sample_data_tonic/segments_tonic/tha-dsh-136.wav\n",
            "5080 files processed, current file:  sample_data_tonic/segments_tonic/tha-dsh-156.wav\n",
            "5100 files processed, current file:  sample_data_tonic/segments_tonic/tha-dsh-176.wav\n",
            "5120 files processed, current file:  sample_data_tonic/segments_tonic/tham-dsh-002.wav\n",
            "5140 files processed, current file:  sample_data_tonic/segments_tonic/tham-dsh-022.wav\n",
            "5160 files processed, current file:  sample_data_tonic/segments_tonic/tham-dsh-042.wav\n",
            "5180 files processed, current file:  sample_data_tonic/segments_tonic/tham-dsh-062.wav\n",
            "5200 files processed, current file:  sample_data_tonic/segments_tonic/tham-dsh-083.wav\n",
            "5220 files processed, current file:  sample_data_tonic/segments_tonic/thi-dsh-011.wav\n",
            "5240 files processed, current file:  sample_data_tonic/segments_tonic/thi-dsh-031.wav\n",
            "5260 files processed, current file:  sample_data_tonic/segments_tonic/thi-dsh-051.wav\n",
            "5280 files processed, current file:  sample_data_tonic/segments_tonic/thi-dsh-071.wav\n",
            "5300 files processed, current file:  sample_data_tonic/segments_tonic/thi-dsh-091.wav\n",
            "5320 files processed, current file:  sample_data_tonic/segments_tonic/thi-dsh-111.wav\n",
            "5340 files processed, current file:  sample_data_tonic/segments_tonic/thi-dsh-132.wav\n",
            "5360 files processed, current file:  sample_data_tonic/segments_tonic/thi-dsh-152.wav\n",
            "5380 files processed, current file:  sample_data_tonic/segments_tonic/thi-dsh-172.wav\n",
            "5400 files processed, current file:  sample_data_tonic/segments_tonic/thi-dsh-192.wav\n",
            "5420 files processed, current file:  sample_data_tonic/segments_tonic/thi-dsh-215.wav\n",
            "5440 files processed, current file:  sample_data_tonic/segments_tonic/thi-dsh-235.wav\n",
            "5460 files processed, current file:  sample_data_tonic/segments_tonic/thi-dsh-255.wav\n",
            "5480 files processed, current file:  sample_data_tonic/segments_tonic/thi-dsh-278.wav\n",
            "5500 files processed, current file:  sample_data_tonic/segments_tonic/thi-dsh-298.wav\n",
            "5520 files processed, current file:  sample_data_tonic/segments_tonic/thi-dsh-318.wav\n",
            "5540 files processed, current file:  sample_data_tonic/segments_tonic/thi-dsh-338.wav\n",
            "5560 files processed, current file:  sample_data_tonic/segments_tonic/thi-dsh-358.wav\n",
            "5580 files processed, current file:  sample_data_tonic/segments_tonic/thi-dsh-378.wav\n",
            "5600 files processed, current file:  sample_data_tonic/segments_tonic/thi-dsh-400.wav\n",
            "5620 files processed, current file:  sample_data_tonic/segments_tonic/thi-dsh-420.wav\n",
            "5640 files processed, current file:  sample_data_tonic/segments_tonic/thi-dsh-440.wav\n",
            "5660 files processed, current file:  sample_data_tonic/segments_tonic/thom-dsh-017.wav\n",
            "5680 files processed, current file:  sample_data_tonic/segments_tonic/thom-dsh-038.wav\n",
            "5700 files processed, current file:  sample_data_tonic/segments_tonic/thom-dsh-060.wav\n",
            "5720 files processed, current file:  sample_data_tonic/segments_tonic/thom-dsh-081.wav\n",
            "5740 files processed, current file:  sample_data_tonic/segments_tonic/thom-dsh-110.wav\n",
            "5760 files processed, current file:  sample_data_tonic/segments_tonic/bheem-e-003.wav\n",
            "5780 files processed, current file:  sample_data_tonic/segments_tonic/bheem-e-023.wav\n",
            "5800 files processed, current file:  sample_data_tonic/segments_tonic/cha-e-018.wav\n",
            "5820 files processed, current file:  sample_data_tonic/segments_tonic/cha-e-038.wav\n",
            "5840 files processed, current file:  sample_data_tonic/segments_tonic/dheem-e-005.wav\n",
            "5860 files processed, current file:  sample_data_tonic/segments_tonic/dheem-e-025.wav\n",
            "5880 files processed, current file:  sample_data_tonic/segments_tonic/dheem-e-045.wav\n",
            "5900 files processed, current file:  sample_data_tonic/segments_tonic/dhin-e-011.wav\n",
            "5920 files processed, current file:  sample_data_tonic/segments_tonic/dhin-e-031.wav\n",
            "5940 files processed, current file:  sample_data_tonic/segments_tonic/dhin-e-051.wav\n",
            "5960 files processed, current file:  sample_data_tonic/segments_tonic/dhin-e-071.wav\n",
            "5980 files processed, current file:  sample_data_tonic/segments_tonic/dhin-e-091.wav\n",
            "6000 files processed, current file:  sample_data_tonic/segments_tonic/dhin-e-111.wav\n",
            "6020 files processed, current file:  sample_data_tonic/segments_tonic/num-e-018.wav\n",
            "6040 files processed, current file:  sample_data_tonic/segments_tonic/num-e-039.wav\n",
            "6060 files processed, current file:  sample_data_tonic/segments_tonic/num-e-059.wav\n",
            "6080 files processed, current file:  sample_data_tonic/segments_tonic/ta-e-019.wav\n",
            "6100 files processed, current file:  sample_data_tonic/segments_tonic/ta-e-039.wav\n",
            "6120 files processed, current file:  sample_data_tonic/segments_tonic/ta-e-059.wav\n",
            "6140 files processed, current file:  sample_data_tonic/segments_tonic/ta-e-079.wav\n",
            "6160 files processed, current file:  sample_data_tonic/segments_tonic/ta-e-099.wav\n",
            "6180 files processed, current file:  sample_data_tonic/segments_tonic/tha-e-014.wav\n",
            "6200 files processed, current file:  sample_data_tonic/segments_tonic/tha-e-034.wav\n",
            "6220 files processed, current file:  sample_data_tonic/segments_tonic/tha-e-054.wav\n",
            "6240 files processed, current file:  sample_data_tonic/segments_tonic/tha-e-074.wav\n",
            "6260 files processed, current file:  sample_data_tonic/segments_tonic/tha-e-094.wav\n",
            "6280 files processed, current file:  sample_data_tonic/segments_tonic/tha-e-114.wav\n",
            "6300 files processed, current file:  sample_data_tonic/segments_tonic/tha-e-134.wav\n",
            "6320 files processed, current file:  sample_data_tonic/segments_tonic/tha-e-155.wav\n",
            "6340 files processed, current file:  sample_data_tonic/segments_tonic/tham-e-015.wav\n",
            "6360 files processed, current file:  sample_data_tonic/segments_tonic/tham-e-035.wav\n",
            "6380 files processed, current file:  sample_data_tonic/segments_tonic/thi-e-005.wav\n",
            "6400 files processed, current file:  sample_data_tonic/segments_tonic/thi-e-025.wav\n",
            "6420 files processed, current file:  sample_data_tonic/segments_tonic/thi-e-046.wav\n",
            "6440 files processed, current file:  sample_data_tonic/segments_tonic/thi-e-066.wav\n",
            "6460 files processed, current file:  sample_data_tonic/segments_tonic/thi-e-086.wav\n",
            "6480 files processed, current file:  sample_data_tonic/segments_tonic/thi-e-106.wav\n",
            "6500 files processed, current file:  sample_data_tonic/segments_tonic/thi-e-126.wav\n",
            "6520 files processed, current file:  sample_data_tonic/segments_tonic/thi-e-146.wav\n",
            "6540 files processed, current file:  sample_data_tonic/segments_tonic/thi-e-166.wav\n",
            "6560 files processed, current file:  sample_data_tonic/segments_tonic/thi-e-186.wav\n",
            "6580 files processed, current file:  sample_data_tonic/segments_tonic/thi-e-206.wav\n",
            "6600 files processed, current file:  sample_data_tonic/segments_tonic/thi-e-226.wav\n",
            "6620 files processed, current file:  sample_data_tonic/segments_tonic/thi-e-246.wav\n",
            "6640 files processed, current file:  sample_data_tonic/segments_tonic/thi-e-266.wav\n",
            "6660 files processed, current file:  sample_data_tonic/segments_tonic/thi-e-286.wav\n",
            "6680 files processed, current file:  sample_data_tonic/segments_tonic/thi-e-306.wav\n",
            "6700 files processed, current file:  sample_data_tonic/segments_tonic/thi-e-326.wav\n",
            "6720 files processed, current file:  sample_data_tonic/segments_tonic/thom-e-001.wav\n",
            "6740 files processed, current file:  sample_data_tonic/segments_tonic/thom-e-021.wav\n",
            "6760 files processed, current file:  sample_data_tonic/segments_tonic/thom-e-041.wav\n",
            "6780 files processed, current file:  sample_data_tonic/segments_tonic/thom-e-061.wav\n",
            "6800 files processed, current file:  sample_data_tonic/segments_tonic/thom-e-081.wav\n",
            "6820 files processed, current file:  sample_data_tonic/segments_tonic/thom-e-101.wav\n",
            "6840 files processed, current file:  sample_data_tonic/segments_tonic/thom-e-121.wav\n",
            "A total of  6854 files processed\n"
          ]
        }
      ]
    },
    {
      "cell_type": "code",
      "metadata": {
        "id": "CaJDBafwZ3C-",
        "colab": {
          "base_uri": "https://localhost:8080/",
          "height": 297
        },
        "outputId": "bbc54f4c-d691-4c10-d5b6-1a025ad1c3f9"
      },
      "source": [
        "#Read data with pandas module\n",
        "data = pd.read_csv(data_file)\n",
        "\n",
        "#Plot first lines of our data\n",
        "data.head()"
      ],
      "execution_count": 15,
      "outputs": [
        {
          "output_type": "execute_result",
          "data": {
            "text/plain": [
              "   average_loudness  barkbands_crest.mean  barkbands_crest.stdev  \\\n",
              "0          0.990684             15.045286               1.854457   \n",
              "1          0.990684             14.898280               2.280415   \n",
              "2          0.990684             14.472402               2.531276   \n",
              "3          0.990684             15.161849               1.408289   \n",
              "4          0.990684              9.315184               1.707345   \n",
              "\n",
              "   barkbands_flatness_db.mean  barkbands_flatness_db.stdev  \\\n",
              "0                    0.372195                     0.078171   \n",
              "1                    0.391228                     0.083327   \n",
              "2                    0.355560                     0.088243   \n",
              "3                    0.372373                     0.072589   \n",
              "4                    0.149848                     0.008073   \n",
              "\n",
              "   barkbands_kurtosis.mean  barkbands_kurtosis.stdev  barkbands_skewness.mean  \\\n",
              "0               155.698425                116.191475                 7.763120   \n",
              "1               133.322464                 80.732315                 6.428464   \n",
              "2               104.285118                 69.695938                 5.909654   \n",
              "3               196.814804                126.745834                 8.861809   \n",
              "4                 1.450477                  1.422889                 1.010031   \n",
              "\n",
              "   barkbands_skewness.stdev  barkbands_spread.mean  ...  \\\n",
              "0                  2.870029               1.459613  ...   \n",
              "1                  1.788766               1.242456  ...   \n",
              "2                  2.103197               1.706020  ...   \n",
              "3                  3.526606               1.458768  ...   \n",
              "4                  0.392941              13.218195  ...   \n",
              "\n",
              "   spectral_rolloff.stdev  spectral_skewness.mean  spectral_skewness.stdev  \\\n",
              "0              104.330238                4.505210                 0.720354   \n",
              "1               54.856857                5.026468                 0.800210   \n",
              "2               67.465721                4.368255                 0.802401   \n",
              "3               93.040909                4.677685                 0.927602   \n",
              "4              186.405289                2.912083                 0.371276   \n",
              "\n",
              "   spectral_spread.mean  spectral_spread.stdev  spectral_strongpeak.mean  \\\n",
              "0            3449997.25             2149744.25                  0.623849   \n",
              "1            3145256.00             2228093.25                  0.763095   \n",
              "2            4535478.50             5375153.00                  0.743537   \n",
              "3            3632668.25             3444228.00                  0.574670   \n",
              "4            5415187.00             4073531.50                  0.562442   \n",
              "\n",
              "   spectral_strongpeak.stdev  zerocrossingrate.mean  zerocrossingrate.stdev  \\\n",
              "0                   0.403493               0.008395                0.002812   \n",
              "1                   0.469566               0.006445                0.001386   \n",
              "2                   0.436122               0.005964                0.001557   \n",
              "3                   0.406087               0.008301                0.001870   \n",
              "4                   0.492694               0.031494                0.012608   \n",
              "\n",
              "   tonic  \n",
              "0      b  \n",
              "1      b  \n",
              "2      b  \n",
              "3      b  \n",
              "4      b  \n",
              "\n",
              "[5 rows x 85 columns]"
            ],
            "text/html": [
              "\n",
              "  <div id=\"df-3fcce9ff-b77d-40f5-ac13-b76fff05f28c\">\n",
              "    <div class=\"colab-df-container\">\n",
              "      <div>\n",
              "<style scoped>\n",
              "    .dataframe tbody tr th:only-of-type {\n",
              "        vertical-align: middle;\n",
              "    }\n",
              "\n",
              "    .dataframe tbody tr th {\n",
              "        vertical-align: top;\n",
              "    }\n",
              "\n",
              "    .dataframe thead th {\n",
              "        text-align: right;\n",
              "    }\n",
              "</style>\n",
              "<table border=\"1\" class=\"dataframe\">\n",
              "  <thead>\n",
              "    <tr style=\"text-align: right;\">\n",
              "      <th></th>\n",
              "      <th>average_loudness</th>\n",
              "      <th>barkbands_crest.mean</th>\n",
              "      <th>barkbands_crest.stdev</th>\n",
              "      <th>barkbands_flatness_db.mean</th>\n",
              "      <th>barkbands_flatness_db.stdev</th>\n",
              "      <th>barkbands_kurtosis.mean</th>\n",
              "      <th>barkbands_kurtosis.stdev</th>\n",
              "      <th>barkbands_skewness.mean</th>\n",
              "      <th>barkbands_skewness.stdev</th>\n",
              "      <th>barkbands_spread.mean</th>\n",
              "      <th>...</th>\n",
              "      <th>spectral_rolloff.stdev</th>\n",
              "      <th>spectral_skewness.mean</th>\n",
              "      <th>spectral_skewness.stdev</th>\n",
              "      <th>spectral_spread.mean</th>\n",
              "      <th>spectral_spread.stdev</th>\n",
              "      <th>spectral_strongpeak.mean</th>\n",
              "      <th>spectral_strongpeak.stdev</th>\n",
              "      <th>zerocrossingrate.mean</th>\n",
              "      <th>zerocrossingrate.stdev</th>\n",
              "      <th>tonic</th>\n",
              "    </tr>\n",
              "  </thead>\n",
              "  <tbody>\n",
              "    <tr>\n",
              "      <th>0</th>\n",
              "      <td>0.990684</td>\n",
              "      <td>15.045286</td>\n",
              "      <td>1.854457</td>\n",
              "      <td>0.372195</td>\n",
              "      <td>0.078171</td>\n",
              "      <td>155.698425</td>\n",
              "      <td>116.191475</td>\n",
              "      <td>7.763120</td>\n",
              "      <td>2.870029</td>\n",
              "      <td>1.459613</td>\n",
              "      <td>...</td>\n",
              "      <td>104.330238</td>\n",
              "      <td>4.505210</td>\n",
              "      <td>0.720354</td>\n",
              "      <td>3449997.25</td>\n",
              "      <td>2149744.25</td>\n",
              "      <td>0.623849</td>\n",
              "      <td>0.403493</td>\n",
              "      <td>0.008395</td>\n",
              "      <td>0.002812</td>\n",
              "      <td>b</td>\n",
              "    </tr>\n",
              "    <tr>\n",
              "      <th>1</th>\n",
              "      <td>0.990684</td>\n",
              "      <td>14.898280</td>\n",
              "      <td>2.280415</td>\n",
              "      <td>0.391228</td>\n",
              "      <td>0.083327</td>\n",
              "      <td>133.322464</td>\n",
              "      <td>80.732315</td>\n",
              "      <td>6.428464</td>\n",
              "      <td>1.788766</td>\n",
              "      <td>1.242456</td>\n",
              "      <td>...</td>\n",
              "      <td>54.856857</td>\n",
              "      <td>5.026468</td>\n",
              "      <td>0.800210</td>\n",
              "      <td>3145256.00</td>\n",
              "      <td>2228093.25</td>\n",
              "      <td>0.763095</td>\n",
              "      <td>0.469566</td>\n",
              "      <td>0.006445</td>\n",
              "      <td>0.001386</td>\n",
              "      <td>b</td>\n",
              "    </tr>\n",
              "    <tr>\n",
              "      <th>2</th>\n",
              "      <td>0.990684</td>\n",
              "      <td>14.472402</td>\n",
              "      <td>2.531276</td>\n",
              "      <td>0.355560</td>\n",
              "      <td>0.088243</td>\n",
              "      <td>104.285118</td>\n",
              "      <td>69.695938</td>\n",
              "      <td>5.909654</td>\n",
              "      <td>2.103197</td>\n",
              "      <td>1.706020</td>\n",
              "      <td>...</td>\n",
              "      <td>67.465721</td>\n",
              "      <td>4.368255</td>\n",
              "      <td>0.802401</td>\n",
              "      <td>4535478.50</td>\n",
              "      <td>5375153.00</td>\n",
              "      <td>0.743537</td>\n",
              "      <td>0.436122</td>\n",
              "      <td>0.005964</td>\n",
              "      <td>0.001557</td>\n",
              "      <td>b</td>\n",
              "    </tr>\n",
              "    <tr>\n",
              "      <th>3</th>\n",
              "      <td>0.990684</td>\n",
              "      <td>15.161849</td>\n",
              "      <td>1.408289</td>\n",
              "      <td>0.372373</td>\n",
              "      <td>0.072589</td>\n",
              "      <td>196.814804</td>\n",
              "      <td>126.745834</td>\n",
              "      <td>8.861809</td>\n",
              "      <td>3.526606</td>\n",
              "      <td>1.458768</td>\n",
              "      <td>...</td>\n",
              "      <td>93.040909</td>\n",
              "      <td>4.677685</td>\n",
              "      <td>0.927602</td>\n",
              "      <td>3632668.25</td>\n",
              "      <td>3444228.00</td>\n",
              "      <td>0.574670</td>\n",
              "      <td>0.406087</td>\n",
              "      <td>0.008301</td>\n",
              "      <td>0.001870</td>\n",
              "      <td>b</td>\n",
              "    </tr>\n",
              "    <tr>\n",
              "      <th>4</th>\n",
              "      <td>0.990684</td>\n",
              "      <td>9.315184</td>\n",
              "      <td>1.707345</td>\n",
              "      <td>0.149848</td>\n",
              "      <td>0.008073</td>\n",
              "      <td>1.450477</td>\n",
              "      <td>1.422889</td>\n",
              "      <td>1.010031</td>\n",
              "      <td>0.392941</td>\n",
              "      <td>13.218195</td>\n",
              "      <td>...</td>\n",
              "      <td>186.405289</td>\n",
              "      <td>2.912083</td>\n",
              "      <td>0.371276</td>\n",
              "      <td>5415187.00</td>\n",
              "      <td>4073531.50</td>\n",
              "      <td>0.562442</td>\n",
              "      <td>0.492694</td>\n",
              "      <td>0.031494</td>\n",
              "      <td>0.012608</td>\n",
              "      <td>b</td>\n",
              "    </tr>\n",
              "  </tbody>\n",
              "</table>\n",
              "<p>5 rows × 85 columns</p>\n",
              "</div>\n",
              "      <button class=\"colab-df-convert\" onclick=\"convertToInteractive('df-3fcce9ff-b77d-40f5-ac13-b76fff05f28c')\"\n",
              "              title=\"Convert this dataframe to an interactive table.\"\n",
              "              style=\"display:none;\">\n",
              "        \n",
              "  <svg xmlns=\"http://www.w3.org/2000/svg\" height=\"24px\"viewBox=\"0 0 24 24\"\n",
              "       width=\"24px\">\n",
              "    <path d=\"M0 0h24v24H0V0z\" fill=\"none\"/>\n",
              "    <path d=\"M18.56 5.44l.94 2.06.94-2.06 2.06-.94-2.06-.94-.94-2.06-.94 2.06-2.06.94zm-11 1L8.5 8.5l.94-2.06 2.06-.94-2.06-.94L8.5 2.5l-.94 2.06-2.06.94zm10 10l.94 2.06.94-2.06 2.06-.94-2.06-.94-.94-2.06-.94 2.06-2.06.94z\"/><path d=\"M17.41 7.96l-1.37-1.37c-.4-.4-.92-.59-1.43-.59-.52 0-1.04.2-1.43.59L10.3 9.45l-7.72 7.72c-.78.78-.78 2.05 0 2.83L4 21.41c.39.39.9.59 1.41.59.51 0 1.02-.2 1.41-.59l7.78-7.78 2.81-2.81c.8-.78.8-2.07 0-2.86zM5.41 20L4 18.59l7.72-7.72 1.47 1.35L5.41 20z\"/>\n",
              "  </svg>\n",
              "      </button>\n",
              "      \n",
              "  <style>\n",
              "    .colab-df-container {\n",
              "      display:flex;\n",
              "      flex-wrap:wrap;\n",
              "      gap: 12px;\n",
              "    }\n",
              "\n",
              "    .colab-df-convert {\n",
              "      background-color: #E8F0FE;\n",
              "      border: none;\n",
              "      border-radius: 50%;\n",
              "      cursor: pointer;\n",
              "      display: none;\n",
              "      fill: #1967D2;\n",
              "      height: 32px;\n",
              "      padding: 0 0 0 0;\n",
              "      width: 32px;\n",
              "    }\n",
              "\n",
              "    .colab-df-convert:hover {\n",
              "      background-color: #E2EBFA;\n",
              "      box-shadow: 0px 1px 2px rgba(60, 64, 67, 0.3), 0px 1px 3px 1px rgba(60, 64, 67, 0.15);\n",
              "      fill: #174EA6;\n",
              "    }\n",
              "\n",
              "    [theme=dark] .colab-df-convert {\n",
              "      background-color: #3B4455;\n",
              "      fill: #D2E3FC;\n",
              "    }\n",
              "\n",
              "    [theme=dark] .colab-df-convert:hover {\n",
              "      background-color: #434B5C;\n",
              "      box-shadow: 0px 1px 3px 1px rgba(0, 0, 0, 0.15);\n",
              "      filter: drop-shadow(0px 1px 2px rgba(0, 0, 0, 0.3));\n",
              "      fill: #FFFFFF;\n",
              "    }\n",
              "  </style>\n",
              "\n",
              "      <script>\n",
              "        const buttonEl =\n",
              "          document.querySelector('#df-3fcce9ff-b77d-40f5-ac13-b76fff05f28c button.colab-df-convert');\n",
              "        buttonEl.style.display =\n",
              "          google.colab.kernel.accessAllowed ? 'block' : 'none';\n",
              "\n",
              "        async function convertToInteractive(key) {\n",
              "          const element = document.querySelector('#df-3fcce9ff-b77d-40f5-ac13-b76fff05f28c');\n",
              "          const dataTable =\n",
              "            await google.colab.kernel.invokeFunction('convertToInteractive',\n",
              "                                                     [key], {});\n",
              "          if (!dataTable) return;\n",
              "\n",
              "          const docLinkHtml = 'Like what you see? Visit the ' +\n",
              "            '<a target=\"_blank\" href=https://colab.research.google.com/notebooks/data_table.ipynb>data table notebook</a>'\n",
              "            + ' to learn more about interactive tables.';\n",
              "          element.innerHTML = '';\n",
              "          dataTable['output_type'] = 'display_data';\n",
              "          await google.colab.output.renderOutput(dataTable, element);\n",
              "          const docLink = document.createElement('div');\n",
              "          docLink.innerHTML = docLinkHtml;\n",
              "          element.appendChild(docLink);\n",
              "        }\n",
              "      </script>\n",
              "    </div>\n",
              "  </div>\n",
              "  "
            ]
          },
          "metadata": {},
          "execution_count": 15
        }
      ]
    },
    {
      "cell_type": "code",
      "metadata": {
        "id": "_zrFi7BLMhai",
        "colab": {
          "base_uri": "https://localhost:8080/",
          "height": 370
        },
        "outputId": "0f65a5a4-bd8c-49b5-de08-e7fadd80f2f6"
      },
      "source": [
        "# Take two random features and plot the sample points\n",
        "import seaborn as sns\n",
        "sns.relplot(x = \"melbands_flatness_db.mean\", y = \"spectral_centroid.mean\", hue = \"tonic\", data = data);"
      ],
      "execution_count": 16,
      "outputs": [
        {
          "output_type": "display_data",
          "data": {
            "text/plain": [
              "<Figure size 414x360 with 1 Axes>"
            ],
            "image/png": "[encoded data removed]"
          },
          "metadata": {
            "needs_background": "light"
          }
        }
      ]
    },
    {
      "cell_type": "markdown",
      "metadata": {
        "id": "dU9u2YaDZ3DV"
      },
      "source": [
        "### Preprocessing of the features\n"
      ]
    },
    {
      "cell_type": "code",
      "metadata": {
        "id": "amcLwVPkZ3DX"
      },
      "source": [
        "data_modif = data.copy()\n",
        "\n",
        "#Let's use sklearn's preprocessing tools for applying normalisation to features\n",
        "from sklearn import preprocessing\n",
        "min_max_scaler = preprocessing.MinMaxScaler()\n",
        "data_modif.iloc[:,:84] = min_max_scaler.fit_transform(data.iloc[:,:84].values)"
      ],
      "execution_count": 17,
      "outputs": []
    },
    {
      "cell_type": "code",
      "metadata": {
        "id": "hByJk6RnZ3Dh",
        "colab": {
          "base_uri": "https://localhost:8080/"
        },
        "outputId": "70b17a80-2784-4d35-a096-06b95ed71cfc"
      },
      "source": [
        "# Checking if our data is balanced (if not, we should balance it to prevent our model to be baised)\n",
        "data_modif.tonic.value_counts()"
      ],
      "execution_count": 18,
      "outputs": [
        {
          "output_type": "execute_result",
          "data": {
            "text/plain": [
              "dsh    1456\n",
              "b      1271\n",
              "e      1097\n",
              "csh    1086\n",
              "c      1079\n",
              "d       865\n",
              "Name: tonic, dtype: int64"
            ]
          },
          "metadata": {},
          "execution_count": 18
        }
      ]
    },
    {
      "cell_type": "code",
      "metadata": {
        "id": "vBrUNGyqZ3Dq",
        "colab": {
          "base_uri": "https://localhost:8080/"
        },
        "outputId": "d96e9fb3-d4bb-4d97-e5a5-1d612f803b9e"
      },
      "source": [
        "# Here we didn't pick the lowest number, 865 for d. Instead, we choose the 1079 of \"c\"\n",
        "min_number = data_modif.tonic.value_counts()['c']\n",
        "dsh_data = data_modif[data_modif.tonic == 'dsh'].sample(n = min_number, random_state = 42)\n",
        "b_data = data_modif[data_modif.tonic == 'b'].sample(n = min_number)\n",
        "e_data = data_modif[data_modif.tonic == 'e'].sample(n = min_number)\n",
        "csh_data = data_modif[data_modif.tonic == 'csh'].sample(n = min_number)\n",
        "c_data = data_modif[data_modif.tonic == 'c'].sample(n = min_number)\n",
        "d_data = data_modif[data_modif.tonic == 'd']\n",
        "\n",
        "#Merging after downsampling\n",
        "data_modif = pd.concat([dsh_data, b_data, e_data, csh_data, c_data, d_data])\n",
        "#Checking the balance again\n",
        "data_modif.tonic.value_counts()"
      ],
      "execution_count": 19,
      "outputs": [
        {
          "output_type": "execute_result",
          "data": {
            "text/plain": [
              "dsh    1079\n",
              "b      1079\n",
              "e      1079\n",
              "csh    1079\n",
              "c      1079\n",
              "d       865\n",
              "Name: tonic, dtype: int64"
            ]
          },
          "metadata": {},
          "execution_count": 19
        }
      ]
    },
    {
      "cell_type": "markdown",
      "metadata": {
        "id": "o6X3nwzjCIez"
      },
      "source": [
        "## Supervised learning approach (Support Vector Machines)"
      ]
    },
    {
      "cell_type": "code",
      "metadata": {
        "id": "agdVdsE6Z3Dz",
        "colab": {
          "base_uri": "https://localhost:8080/"
        },
        "outputId": "491bcf9a-67b1-46b1-a1ca-c34c9db66875"
      },
      "source": [
        "# Input values put in a matrix, there are 84 features\n",
        "X = data_modif.iloc[:,:84].values \n",
        "# Creating output values\n",
        "data_modif.tonic = pd.Categorical(data_modif.tonic)  # convert to categorical data\n",
        "y = np.array(data_modif.tonic.cat.codes)  # create label encoded outputs\n",
        "# Print the first sample\n",
        "print(\"Features of the first sample: \", X[0])\n",
        "print(\"Class of the first sample: \", y[0])"
      ],
      "execution_count": 20,
      "outputs": [
        {
          "output_type": "stream",
          "name": "stdout",
          "text": [
            "Features of the first sample:  [0.         0.34395326 0.17931018 0.18435474 0.1874001  0.0090178\n",
            " 0.00245021 0.13056983 0.04162913 0.20924967 0.1365113  0.65480577\n",
            " 0.33498929 0.         0.51752667 0.25587586 0.36437642 0.15023524\n",
            " 0.04231653 0.00664512 0.35272015 0.07894686 0.20386521 0.04747439\n",
            " 0.80246869 0.76530441 0.25316711 0.         0.25316711 0.\n",
            " 0.21576821 0.         0.46881728 0.32290411 0.1482361  0.17248696\n",
            " 0.08040183 0.07609955 0.31516544 0.41228163 0.23317294 0.21932166\n",
            " 0.68851102 0.48525399 0.         0.         1.         0.\n",
            " 0.42857143 0.94280899 0.52656728 0.2916527  0.52156412 0.4011237\n",
            " 0.51571577 0.45158409 0.54424633 0.49911383 0.24376695 0.19798659\n",
            " 0.01021586 0.01090169 0.9517451  1.         0.12666579 0.11095656\n",
            " 0.88301174 0.18245918 0.69124145 0.69811412 0.01277032 0.01152732\n",
            " 0.54550447 0.64212103 0.39834822 0.09445676 0.06743958 0.07878628\n",
            " 0.48842782 0.34750155 0.60791909 0.30991713 0.55042736 0.43968719]\n",
            "Class of the first sample:  4\n"
          ]
        }
      ]
    },
    {
      "cell_type": "code",
      "metadata": {
        "id": "CHS_06ejZ3D-",
        "colab": {
          "base_uri": "https://localhost:8080/"
        },
        "outputId": "70c25a5e-73ee-4f9c-b7ab-6a30c2ea56bd"
      },
      "source": [
        "# Let's split data into test and train sets\n",
        "from sklearn.model_selection import train_test_split\n",
        "X_train, X_test, y_train, y_test = train_test_split(X, y, test_size = 0.33, random_state = 42)\n",
        "\n",
        "# Check sizes of input and output vectors\n",
        "print(\"Size of train features matrix: \",X_train.shape, \", Size of train output vector: \",y_train.shape)\n",
        "print(\"Size of test features matrix: \",X_test.shape, \", Size of test output vector: \",y_test.shape)"
      ],
      "execution_count": 21,
      "outputs": [
        {
          "output_type": "stream",
          "name": "stdout",
          "text": [
            "Size of train features matrix:  (4194, 84) , Size of train output vector:  (4194,)\n",
            "Size of test features matrix:  (2066, 84) , Size of test output vector:  (2066,)\n"
          ]
        }
      ]
    },
    {
      "cell_type": "code",
      "metadata": {
        "id": "RsoR_KCwZ3EG"
      },
      "source": [
        "# Define and train the model\n",
        "\n",
        "from sklearn import svm\n",
        "clf = svm.SVC(gamma = 1 / (X_train.shape[-1] * X_train.var()))\n",
        "\n",
        "# Fit model with training data\n",
        "clf.fit(X_train, y_train)\n",
        "\n",
        "# Predict classes of test samples\n",
        "y_pred = clf.predict(X_test)"
      ],
      "execution_count": 22,
      "outputs": []
    },
    {
      "cell_type": "code",
      "metadata": {
        "id": "ncsEtE4IZ3EN",
        "colab": {
          "base_uri": "https://localhost:8080/"
        },
        "outputId": "1f0589d9-40ad-4e7c-8aa5-c7e11f8c9dc8"
      },
      "source": [
        "# Test the model\n",
        "# Let's check for each sample in the test set if prediction matches the true class information\n",
        "y_test == y_pred"
      ],
      "execution_count": 23,
      "outputs": [
        {
          "output_type": "execute_result",
          "data": {
            "text/plain": [
              "array([ True, False, False, ...,  True,  True,  True])"
            ]
          },
          "metadata": {},
          "execution_count": 23
        }
      ]
    },
    {
      "cell_type": "code",
      "metadata": {
        "id": "p54ZOy8QZ3EP",
        "colab": {
          "base_uri": "https://localhost:8080/"
        },
        "outputId": "3ad58b6e-58de-41c4-fc39-0999deaeccfc"
      },
      "source": [
        "# Data is balanced, so you can use accuracy as a measure:\n",
        "print(\"accuracy: \", np.sum(y_test == y_pred)/len(y_test))"
      ],
      "execution_count": 24,
      "outputs": [
        {
          "output_type": "stream",
          "name": "stdout",
          "text": [
            "accuracy:  0.6243949661181026\n"
          ]
        }
      ]
    },
    {
      "cell_type": "code",
      "metadata": {
        "id": "0SfE74fYZ3EU",
        "colab": {
          "base_uri": "https://localhost:8080/",
          "height": 343
        },
        "outputId": "12b8cc99-2d6d-47cc-d724-146af6e36ca7"
      },
      "source": [
        "# Print the confusion matrix\n",
        "from sklearn.metrics import confusion_matrix\n",
        "import seaborn as sns\n",
        "\n",
        "classes = np.unique(data_modif.tonic)\n",
        "conf_mat = pd.DataFrame(confusion_matrix(y_test, y_pred), columns = classes, index = classes)\n",
        "conf_mat.index.name = 'Actual'\n",
        "conf_mat.columns.name = 'Predicted'\n",
        "plt.figure(figsize = (7, 5))\n",
        "sns.set(font_scale = 1.2)\n",
        "sns.heatmap(conf_mat, cmap = \"Blues\", annot_kws = {\"size\": 12}, annot = True);"
      ],
      "execution_count": 25,
      "outputs": [
        {
          "output_type": "display_data",
          "data": {
            "text/plain": [
              "<Figure size 504x360 with 2 Axes>"
            ],
            "image/png": "[encoded data removed]"
          },
          "metadata": {
            "needs_background": "light"
          }
        }
      ]
    },
    {
      "cell_type": "markdown",
      "source": [
        "We can observe that the results are pretty good, specially in the case of E, D sharp and B. Maybe with other ML techniques or even Neural Networks the results may be better, so we will try in the next steps."
      ],
      "metadata": {
        "id": "3FdsBxp9FFac"
      }
    },
    {
      "cell_type": "markdown",
      "source": [
        "## Decision trees with SKLearn"
      ],
      "metadata": {
        "id": "dUYOKzR8lzpQ"
      }
    },
    {
      "cell_type": "code",
      "source": [
        "from sklearn.metrics import confusion_matrix\n",
        "from sklearn.tree import DecisionTreeClassifier\n",
        "from sklearn.model_selection import train_test_split\n",
        "# from mlxtend.plotting import plot_confusion_matrix\n",
        "from sklearn import metrics"
      ],
      "metadata": {
        "id": "eyKxceT7k8md"
      },
      "execution_count": 35,
      "outputs": []
    },
    {
      "cell_type": "code",
      "source": [
        "X = data_modif.drop(['tonic'], axis = 1) # separa las entradas en x\n",
        "y = data_modif['tonic'] # deja para y las salidas (un único vector, 1 dimensión)\n",
        "print('Dimension of X:', X.shape)\n",
        "print('Dimension of Y:', y.shape)"
      ],
      "metadata": {
        "colab": {
          "base_uri": "https://localhost:8080/"
        },
        "id": "kzSG0DtInB7m",
        "outputId": "1d68c121-de1d-4cd3-b019-0895dc135da8"
      },
      "execution_count": 36,
      "outputs": [
        {
          "output_type": "stream",
          "name": "stdout",
          "text": [
            "Dimension of X: (6260, 84)\n",
            "Dimension of Y: (6260,)\n"
          ]
        }
      ]
    },
    {
      "cell_type": "code",
      "source": [
        "X_train, X_test, y_train, y_test = train_test_split(X, y, test_size = 0.2, random_state=2)"
      ],
      "metadata": {
        "id": "90whj3Ohnjbf"
      },
      "execution_count": 37,
      "outputs": []
    },
    {
      "cell_type": "markdown",
      "source": [
        "After trying different criterions, depths and samples split values, I choose this combination as it gives better results while being efficient."
      ],
      "metadata": {
        "id": "32nQPIbhGZJZ"
      }
    },
    {
      "cell_type": "code",
      "source": [
        "DT_classifier = DecisionTreeClassifier(criterion= 'gini', max_depth= 25, min_samples_split= 15) "
      ],
      "metadata": {
        "id": "w2Sabe9_nqLW"
      },
      "execution_count": 38,
      "outputs": []
    },
    {
      "cell_type": "code",
      "source": [
        "DT_classifier.fit(X_train, y_train)"
      ],
      "metadata": {
        "colab": {
          "base_uri": "https://localhost:8080/"
        },
        "id": "IqDkKe35nvaZ",
        "outputId": "e51c9396-4f6a-478c-8a60-3caea9440dff"
      },
      "execution_count": 39,
      "outputs": [
        {
          "output_type": "execute_result",
          "data": {
            "text/plain": [
              "DecisionTreeClassifier(max_depth=25, min_samples_split=15)"
            ]
          },
          "metadata": {},
          "execution_count": 39
        }
      ]
    },
    {
      "cell_type": "code",
      "source": [
        "y_pred = DT_classifier.predict(X_test)"
      ],
      "metadata": {
        "id": "VwchOxe1n1AS"
      },
      "execution_count": 40,
      "outputs": []
    },
    {
      "cell_type": "code",
      "source": [
        "classes = np.unique(data_modif.tonic)\n",
        "conf_mat = pd.DataFrame(confusion_matrix(y_test, y_pred), columns = classes, index = classes)\n",
        "conf_mat.index.name = 'Actual'\n",
        "conf_mat.columns.name = 'Predicted'\n",
        "plt.figure(figsize = (7, 5))\n",
        "sns.set(font_scale = 1.2)\n",
        "sns.heatmap(conf_mat, cmap = \"Blues\", annot_kws = {\"size\": 12}, annot = True);"
      ],
      "metadata": {
        "colab": {
          "base_uri": "https://localhost:8080/",
          "height": 343
        },
        "id": "dIfQqjtEn4mO",
        "outputId": "3f14b5bd-89c1-44e0-b79e-6226410b2abd"
      },
      "execution_count": 41,
      "outputs": [
        {
          "output_type": "display_data",
          "data": {
            "text/plain": [
              "<Figure size 504x360 with 2 Axes>"
            ],
            "image/png": "[encoded data removed]"
          },
          "metadata": {}
        }
      ]
    },
    {
      "cell_type": "code",
      "source": [
        "print(metrics.classification_report(y_test,y_pred))"
      ],
      "metadata": {
        "colab": {
          "base_uri": "https://localhost:8080/"
        },
        "id": "jjitz6xmobkA",
        "outputId": "078566a6-030f-4916-b9ae-7ee8eb41ca81"
      },
      "execution_count": 42,
      "outputs": [
        {
          "output_type": "stream",
          "name": "stdout",
          "text": [
            "              precision    recall  f1-score   support\n",
            "\n",
            "           b       0.55      0.52      0.54       233\n",
            "           c       0.38      0.46      0.42       213\n",
            "         csh       0.38      0.39      0.39       218\n",
            "           d       0.43      0.36      0.39       178\n",
            "         dsh       0.71      0.64      0.67       215\n",
            "           e       0.76      0.78      0.77       195\n",
            "\n",
            "    accuracy                           0.53      1252\n",
            "   macro avg       0.53      0.53      0.53      1252\n",
            "weighted avg       0.53      0.53      0.53      1252\n",
            "\n"
          ]
        }
      ]
    },
    {
      "cell_type": "markdown",
      "source": [
        "We can observe that specially for D sharp and E (71%, 76%), the decision tree precision is high, being its overall accuracy around 53%"
      ],
      "metadata": {
        "id": "NBMlUkWAGqgO"
      }
    },
    {
      "cell_type": "markdown",
      "metadata": {
        "id": "4pPbV0-Krdtl"
      },
      "source": [
        "## Supervised learning approach (Neural Network)"
      ]
    },
    {
      "cell_type": "code",
      "metadata": {
        "id": "8jENK7AuH-92"
      },
      "source": [
        "from sklearn.preprocessing import StandardScaler\n",
        "\n",
        "# Let's start by splitting our data \n",
        "X_train_val, X_test, y_train_val, y_test = train_test_split(X, y, test_size = 0.20, random_state = 1)\n",
        "\n",
        "# ..and apply normalisation\n",
        "scaler = StandardScaler().fit(X_train_val)\n",
        "norm_x_train_val = scaler.transform(X_train_val)\n",
        "norm_x_test = scaler.transform(X_test)"
      ],
      "execution_count": 26,
      "outputs": []
    },
    {
      "cell_type": "code",
      "metadata": {
        "id": "2LQQDNeRH-9-",
        "colab": {
          "base_uri": "https://localhost:8080/"
        },
        "outputId": "e2af64a4-e398-4894-bb6b-8575648357b4"
      },
      "source": [
        "from sklearn.preprocessing import OneHotEncoder\n",
        "onehot_encoder = OneHotEncoder(sparse=False)\n",
        "y_train_val_onehot = onehot_encoder.fit_transform(y_train_val.reshape(len(y_train_val), 1))\n",
        "y_test_onehot = onehot_encoder.fit_transform(y_test.reshape(len(y_test), 1))\n",
        "print(\"One-hot encoded y_train_val shape = \", y_train_val_onehot.shape)\n",
        "print(\"One-hot encoded y_test shape = \", y_test_onehot.shape)"
      ],
      "execution_count": 27,
      "outputs": [
        {
          "output_type": "stream",
          "name": "stdout",
          "text": [
            "One-hot encoded y_train_val shape =  (5008, 6)\n",
            "One-hot encoded y_test shape =  (1252, 6)\n"
          ]
        }
      ]
    },
    {
      "cell_type": "code",
      "metadata": {
        "id": "DwoS-ycaH--A"
      },
      "source": [
        "from keras.models import Sequential\n",
        "from keras import layers\n",
        "\n",
        "def compose_model(num_features):\n",
        "    \n",
        "    model = Sequential()\n",
        "\n",
        "    # Input layer \n",
        "    model.add(layers.BatchNormalization(name='InputLayer', input_shape=(num_features,)))\n",
        "    \n",
        "    # 1. hidden layer\n",
        "    model.add(layers.Dense(name='HiddenLayer_1', units = 40))\n",
        "    model.add(layers.BatchNormalization())\n",
        "    model.add(layers.Activation('tanh'))\n",
        "    model.add(layers.Dropout(0.3))\n",
        "\n",
        "    # 2. hidden layer\n",
        "    model.add(layers.Dense(name='HiddenLayer_2', units = 20))\n",
        "    model.add(layers.BatchNormalization())\n",
        "    model.add(layers.Activation('relu'))\n",
        "    model.add(layers.Dropout(0.3))\n",
        "\n",
        "    # Output layer\n",
        "    model.add(layers.Dense(name='Output_layer', units = 6))\n",
        "    model.add(layers.Activation('sigmoid'))\n",
        "    \n",
        "    return model\n",
        "\n",
        "model = compose_model(X_train_val.shape[1])"
      ],
      "execution_count": 28,
      "outputs": []
    },
    {
      "cell_type": "code",
      "metadata": {
        "id": "NEdSFyGjNook",
        "colab": {
          "base_uri": "https://localhost:8080/"
        },
        "outputId": "df64c16b-e327-4c40-eaed-d2c6368f349a"
      },
      "source": [
        "model.summary()  # Plot summary of the model"
      ],
      "execution_count": 29,
      "outputs": [
        {
          "output_type": "stream",
          "name": "stdout",
          "text": [
            "Model: \"sequential\"\n",
            "_________________________________________________________________\n",
            " Layer (type)                Output Shape              Param #   \n",
            "=================================================================\n",
            " InputLayer (BatchNormalizat  (None, 84)               336       \n",
            " ion)                                                            \n",
            "                                                                 \n",
            " HiddenLayer_1 (Dense)       (None, 40)                3400      \n",
            "                                                                 \n",
            " batch_normalization (BatchN  (None, 40)               160       \n",
            " ormalization)                                                   \n",
            "                                                                 \n",
            " activation (Activation)     (None, 40)                0         \n",
            "                                                                 \n",
            " dropout (Dropout)           (None, 40)                0         \n",
            "                                                                 \n",
            " HiddenLayer_2 (Dense)       (None, 20)                820       \n",
            "                                                                 \n",
            " batch_normalization_1 (Batc  (None, 20)               80        \n",
            " hNormalization)                                                 \n",
            "                                                                 \n",
            " activation_1 (Activation)   (None, 20)                0         \n",
            "                                                                 \n",
            " dropout_1 (Dropout)         (None, 20)                0         \n",
            "                                                                 \n",
            " Output_layer (Dense)        (None, 6)                 126       \n",
            "                                                                 \n",
            " activation_2 (Activation)   (None, 6)                 0         \n",
            "                                                                 \n",
            "=================================================================\n",
            "Total params: 4,922\n",
            "Trainable params: 4,634\n",
            "Non-trainable params: 288\n",
            "_________________________________________________________________\n"
          ]
        }
      ]
    },
    {
      "cell_type": "code",
      "metadata": {
        "id": "5K_wFcbXH--F"
      },
      "source": [
        "model.compile(optimizer = 'Adam', loss = 'binary_crossentropy', metrics = ['accuracy'])\n",
        "summary = model.fit(X_train_val, y_train_val_onehot, batch_size = 50, epochs = 250, validation_split=0.2, verbose=0)"
      ],
      "execution_count": 32,
      "outputs": []
    },
    {
      "cell_type": "code",
      "metadata": {
        "id": "-CBE3EHiH--I",
        "colab": {
          "base_uri": "https://localhost:8080/"
        },
        "outputId": "3d824914-aab3-4d9d-de8c-4716cc8e12be"
      },
      "source": [
        "score = model.evaluate(X_test, y_test_onehot, verbose = 0)\n",
        "print('Test loss:', score[0])\n",
        "print('Test accuracy:', score[1])"
      ],
      "execution_count": 33,
      "outputs": [
        {
          "output_type": "stream",
          "name": "stdout",
          "text": [
            "Test loss: 0.20452885329723358\n",
            "Test accuracy: 0.7172523736953735\n"
          ]
        }
      ]
    },
    {
      "cell_type": "code",
      "metadata": {
        "id": "3Aa26zN7H--M",
        "colab": {
          "base_uri": "https://localhost:8080/",
          "height": 595
        },
        "outputId": "37d9d7d7-2c4b-4327-fa4a-e7ce4e623a8b"
      },
      "source": [
        "# summarize history for accuracy\n",
        "plt.plot(summary.history['accuracy'])\n",
        "plt.plot(summary.history['val_accuracy'])\n",
        "plt.title('model accuracy')\n",
        "plt.ylabel('accuracy')\n",
        "plt.xlabel('epoch')\n",
        "plt.legend(['train', 'validation'], loc='lower right')\n",
        "plt.show()\n",
        "# summarize history for loss\n",
        "plt.plot(summary.history['loss'])\n",
        "plt.plot(summary.history['val_loss'])\n",
        "plt.title('model loss')\n",
        "plt.ylabel('loss')\n",
        "plt.xlabel('epoch')\n",
        "plt.legend(['train', 'validation'], loc='upper right')\n",
        "plt.show()"
      ],
      "execution_count": 34,
      "outputs": [
        {
          "output_type": "display_data",
          "data": {
            "text/plain": [
              "<Figure size 432x288 with 1 Axes>"
            ],
            "image/png": "[encoded data removed]"
          },
          "metadata": {}
        },
        {
          "output_type": "display_data",
          "data": {
            "text/plain": [
              "<Figure size 432x288 with 1 Axes>"
            ],
            "image/png": "[encoded data removed]"
          },
          "metadata": {}
        }
      ]
    },
    {
      "cell_type": "markdown",
      "source": [
        "After tying different Neural Network coombinations, the best one I could train (given my experience in the field) is this one.\n",
        "\n",
        "As we can see, its overall accuracy (71,7%) is better than the one we obtained for the ML models, but it also may be better.\n",
        "\n",
        "As we can observe, overall, in this model and for these variables, it's easier for the models to predict E, D sharp and B. The accuracy for these variables pretty good, while the other 3 have a lower accuracy."
      ],
      "metadata": {
        "id": "xnF4SGUcFams"
      }
    }
  ]
}